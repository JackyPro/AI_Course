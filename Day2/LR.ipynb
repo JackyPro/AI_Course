{
  "nbformat": 4,
  "nbformat_minor": 5,
  "metadata": {
    "kernelspec": {
      "display_name": "Python 3",
      "language": "python",
      "name": "python3"
    },
    "language_info": {
      "codemirror_mode": {
        "name": "ipython",
        "version": 3
      },
      "file_extension": ".py",
      "mimetype": "text/x-python",
      "name": "python",
      "nbconvert_exporter": "python",
      "pygments_lexer": "ipython3",
      "version": "3.7.10"
    },
    "toc": {
      "base_numbering": 1,
      "nav_menu": {},
      "number_sections": true,
      "sideBar": true,
      "skip_h1_title": false,
      "title_cell": "Table of Contents",
      "title_sidebar": "Contents",
      "toc_cell": false,
      "toc_position": {
        "height": "calc(100% - 180px)",
        "left": "10px",
        "top": "150px",
        "width": "238.825px"
      },
      "toc_section_display": true,
      "toc_window_display": true
    },
    "varInspector": {
      "cols": {
        "lenName": 16,
        "lenType": 16,
        "lenVar": 40
      },
      "kernels_config": {
        "python": {
          "delete_cmd_postfix": "",
          "delete_cmd_prefix": "del ",
          "library": "var_list.py",
          "varRefreshCmd": "print(var_dic_list())"
        },
        "r": {
          "delete_cmd_postfix": ") ",
          "delete_cmd_prefix": "rm(",
          "library": "var_list.r",
          "varRefreshCmd": "cat(var_dic_list()) "
        }
      },
      "types_to_exclude": [
        "module",
        "function",
        "builtin_function_or_method",
        "instance",
        "_Feature"
      ],
      "window_display": false
    },
    "colab": {
      "name": "LR.ipynb",
      "provenance": [],
      "collapsed_sections": [
        "f9e4f164",
        "8472d9da",
        "00415ae0",
        "3a3eaca6",
        "dda59c24",
        "c7caebfe",
        "e7e5afc3",
        "45e9e474",
        "73373b99",
        "b0fbba2c"
      ],
      "toc_visible": true,
      "include_colab_link": true
    }
  },
  "cells": [
    {
      "cell_type": "markdown",
      "metadata": {
        "id": "view-in-github",
        "colab_type": "text"
      },
      "source": [
        "<a href=\"https://colab.research.google.com/github/JackyPro/AI_Course/blob/main/Day2/LR.ipynb\" target=\"_parent\"><img src=\"https://colab.research.google.com/assets/colab-badge.svg\" alt=\"Open In Colab\"/></a>"
      ]
    },
    {
      "cell_type": "markdown",
      "metadata": {
        "id": "ZfclrSfCSc9p"
      },
      "source": [
        "# 1.設定：複製一份程式到自己的雲端上，並且開啟副本"
      ],
      "id": "ZfclrSfCSc9p"
    },
    {
      "cell_type": "markdown",
      "metadata": {
        "id": "WDaaLEuEfY1B"
      },
      "source": [
        "<table>\n",
        "  <tr>\n",
        "    <td bgcolor=#ccffcc>\n",
        "      <center><img src=\"https://github.com/JackyPro/DL_imageclassification/raw/a26c0994e0caf0eac7fb219cdd95f235ded65cc4/img/1.png\" width=70%>\n",
        "      </center>\n",
        "      <center><font size=\"6\">Step 1<br /><br /></font></center> \n",
        "    </td>\n",
        "  </tr>\n",
        "  <tr>\n",
        "    <td bgcolor=#D1EEEE>\n",
        "      <center>\n",
        "        <img src=\"https://github.com/JackyPro/DL_imageclassification/raw/a26c0994e0caf0eac7fb219cdd95f235ded65cc4/img/2.png\" width=70%>\n",
        "      </center>\n",
        "      <center>\n",
        "        <font size=\"6\">Step 2<br /><br /></font>\n",
        "        <font size=\"4\">確認是否為副本<br />\n",
        "        若為副本，代表程式檔已經複製在自己的雲端<br />\n",
        "        可以自行修改檔名<br /><br /></font>\n",
        "      </center> \n",
        "    </td>\n",
        "  </tr>\n",
        "  <tr>\n",
        "    <td bgcolor=#ffffcc>\n",
        "      <center><img src=\"https://github.com/JackyPro/DL_imageclassification/raw/a26c0994e0caf0eac7fb219cdd95f235ded65cc4/img/3.png\" width=70%>\n",
        "      </center>\n",
        "      <center><font size=\"6\">Step 3<br /><br /></font></center> \n",
        "    </td>\n",
        "  </tr>\n",
        "</table>\n",
        "\n"
      ],
      "id": "WDaaLEuEfY1B"
    },
    {
      "cell_type": "markdown",
      "metadata": {
        "id": "dfe3e63e"
      },
      "source": [
        "# 2.Envs"
      ],
      "id": "dfe3e63e"
    },
    {
      "cell_type": "code",
      "metadata": {
        "id": "ad806716"
      },
      "source": [
        "from tensorflow.python.client import device_lib\n",
        "print (device_lib.list_local_devices())"
      ],
      "id": "ad806716",
      "execution_count": null,
      "outputs": []
    },
    {
      "cell_type": "code",
      "metadata": {
        "id": "ec1f9b89"
      },
      "source": [
        "import platform\n",
        "import tensorflow\n",
        "import tensorflow.keras\n",
        "print(\"Platform: {}\".format(platform.platform()))\n",
        "print(\"Tensorflow version: {}\".format(tensorflow.__version__))\n",
        "print(\"Keras version: {}\".format(tensorflow.keras.__version__))"
      ],
      "id": "ec1f9b89",
      "execution_count": null,
      "outputs": []
    },
    {
      "cell_type": "code",
      "metadata": {
        "id": "a12cabe5"
      },
      "source": [
        "!python -V\n",
        "platform.python_version()"
      ],
      "id": "a12cabe5",
      "execution_count": null,
      "outputs": []
    },
    {
      "cell_type": "code",
      "metadata": {
        "id": "bb9b3e7d"
      },
      "source": [
        "import os\n",
        "os.environ[\"CUDA_DEVICE_ORDER\"]=\"PCI_BUS_ID\"  \n",
        "os.environ[\"CUDA_VISIBLE_DEVICES\"]=\"0\""
      ],
      "id": "bb9b3e7d",
      "execution_count": null,
      "outputs": []
    },
    {
      "cell_type": "code",
      "metadata": {
        "id": "50ce5902"
      },
      "source": [
        "import warnings\n",
        "warnings.filterwarnings(\"ignore\")"
      ],
      "id": "50ce5902",
      "execution_count": null,
      "outputs": []
    },
    {
      "cell_type": "markdown",
      "metadata": {
        "id": "53ab7c1d"
      },
      "source": [
        "# Task1: multi-class classification with sklearn dataset - digits  \n",
        "Logistic Regression model"
      ],
      "id": "53ab7c1d"
    },
    {
      "cell_type": "code",
      "metadata": {
        "ExecuteTime": {
          "end_time": "2021-08-17T16:53:31.576174Z",
          "start_time": "2021-08-17T16:53:31.566173Z"
        },
        "id": "35a47540"
      },
      "source": [
        "import matplotlib.pyplot as plt\n",
        "import numpy as np\n",
        "import pandas as pd\n",
        "import seaborn as sns\n",
        "from sklearn import datasets\n",
        "from sklearn.linear_model import LogisticRegression\n",
        "from sklearn.model_selection import train_test_split\n",
        "from sklearn import metrics\n",
        "from sklearn.preprocessing import StandardScaler"
      ],
      "id": "35a47540",
      "execution_count": null,
      "outputs": []
    },
    {
      "cell_type": "markdown",
      "metadata": {
        "id": "5207bd2c"
      },
      "source": [
        "## Load dataset"
      ],
      "id": "5207bd2c"
    },
    {
      "cell_type": "code",
      "metadata": {
        "ExecuteTime": {
          "end_time": "2021-08-17T16:53:32.934222Z",
          "start_time": "2021-08-17T16:53:32.841801Z"
        },
        "id": "c80d91e3"
      },
      "source": [
        "digits = datasets.load_digits()#导入digits数据集"
      ],
      "id": "c80d91e3",
      "execution_count": null,
      "outputs": []
    },
    {
      "cell_type": "code",
      "metadata": {
        "ExecuteTime": {
          "end_time": "2021-08-17T16:53:34.246779Z",
          "start_time": "2021-08-17T16:53:34.233777Z"
        },
        "id": "4a58e9e9",
        "outputId": "0bb752c1-376e-4a89-8adf-ca0dd3c24749"
      },
      "source": [
        "digits.keys()#查看digits中有哪些属性"
      ],
      "id": "4a58e9e9",
      "execution_count": null,
      "outputs": [
        {
          "output_type": "execute_result",
          "data": {
            "text/plain": [
              "dict_keys(['data', 'target', 'frame', 'feature_names', 'target_names', 'images', 'DESCR'])"
            ]
          },
          "metadata": {
            "tags": []
          },
          "execution_count": 666
        }
      ]
    },
    {
      "cell_type": "code",
      "metadata": {
        "ExecuteTime": {
          "end_time": "2021-08-17T16:53:35.537402Z",
          "start_time": "2021-08-17T16:53:35.523397Z"
        },
        "id": "620ac04f",
        "outputId": "614d1a38-c3e1-47db-efa0-12ac376c5b24"
      },
      "source": [
        "digits.data.shape"
      ],
      "id": "620ac04f",
      "execution_count": null,
      "outputs": [
        {
          "output_type": "execute_result",
          "data": {
            "text/plain": [
              "(1797, 64)"
            ]
          },
          "metadata": {
            "tags": []
          },
          "execution_count": 667
        }
      ]
    },
    {
      "cell_type": "code",
      "metadata": {
        "ExecuteTime": {
          "end_time": "2021-08-17T19:53:09.011139Z",
          "start_time": "2021-08-17T19:53:08.996137Z"
        },
        "id": "7ac8705f",
        "outputId": "414032ea-33ab-4e24-b77c-1c4551384171"
      },
      "source": [
        "digits.images[0]"
      ],
      "id": "7ac8705f",
      "execution_count": null,
      "outputs": [
        {
          "output_type": "execute_result",
          "data": {
            "text/plain": [
              "array([[ 0.,  0.,  5., 13.,  9.,  1.,  0.,  0.],\n",
              "       [ 0.,  0., 13., 15., 10., 15.,  5.,  0.],\n",
              "       [ 0.,  3., 15.,  2.,  0., 11.,  8.,  0.],\n",
              "       [ 0.,  4., 12.,  0.,  0.,  8.,  8.,  0.],\n",
              "       [ 0.,  5.,  8.,  0.,  0.,  9.,  8.,  0.],\n",
              "       [ 0.,  4., 11.,  0.,  1., 12.,  7.,  0.],\n",
              "       [ 0.,  2., 14.,  5., 10., 12.,  0.,  0.],\n",
              "       [ 0.,  0.,  6., 13., 10.,  0.,  0.,  0.]])"
            ]
          },
          "metadata": {
            "tags": []
          },
          "execution_count": 687
        }
      ]
    },
    {
      "cell_type": "markdown",
      "metadata": {
        "id": "463aa0a7"
      },
      "source": [
        "## view raw images"
      ],
      "id": "463aa0a7"
    },
    {
      "cell_type": "code",
      "metadata": {
        "ExecuteTime": {
          "end_time": "2021-08-17T16:53:38.550899Z",
          "start_time": "2021-08-17T16:53:38.103522Z"
        },
        "scrolled": false,
        "id": "543d3a26",
        "outputId": "578dc0e3-89d0-4f6c-a6d8-3954092dbba7"
      },
      "source": [
        "num_rows = 2\n",
        "num_cols = 5\n",
        "num_images = num_rows*num_cols\n",
        "n_size = 2\n",
        "#plt.figure(figsize=(n_size*n_size*num_cols, n_size*num_rows))\n",
        "plt.figure(figsize=(14, 6))\n",
        "for i in range(0, num_images):\n",
        "    plt.subplot(num_rows, num_cols, i+1)\n",
        "    plt.xticks([])\n",
        "    plt.yticks([])\n",
        "    plt.imshow(digits.images[i], cmap='gray', interpolation=None)\n",
        "    plt.title(\"{} {}\".format( str(\"Number:\"), digits.target[i] ),color = 'black')\n",
        "plt.show()"
      ],
      "id": "543d3a26",
      "execution_count": null,
      "outputs": [
        {
          "output_type": "display_data",
          "data": {
            "image/png": "[encoded data removed]",
            "text/plain": [
              "<Figure size 1008x432 with 10 Axes>"
            ]
          },
          "metadata": {
            "tags": []
          }
        }
      ]
    },
    {
      "cell_type": "code",
      "metadata": {
        "ExecuteTime": {
          "end_time": "2021-08-17T16:53:39.919523Z",
          "start_time": "2021-08-17T16:53:39.905520Z"
        },
        "id": "b444e201"
      },
      "source": [
        "x = digits.data   ##获得数据集中的输入\n",
        "y = digits.target ##获得数据集中的输出，即标签(也就是类别)"
      ],
      "id": "b444e201",
      "execution_count": null,
      "outputs": []
    },
    {
      "cell_type": "markdown",
      "metadata": {
        "id": "f9e4f164"
      },
      "source": [
        "## data splitting(8:2)"
      ],
      "id": "f9e4f164"
    },
    {
      "cell_type": "code",
      "metadata": {
        "ExecuteTime": {
          "end_time": "2021-08-17T16:53:41.090553Z",
          "start_time": "2021-08-17T16:53:41.071505Z"
        },
        "id": "7183dc5f"
      },
      "source": [
        "# Splitting data into 80% training and 20% test data\n",
        "x_train, x_test, y_train, y_test = train_test_split(\n",
        "    x, y, test_size=0.2, random_state=1, stratify=y)"
      ],
      "id": "7183dc5f",
      "execution_count": null,
      "outputs": []
    },
    {
      "cell_type": "markdown",
      "metadata": {
        "id": "8472d9da"
      },
      "source": [
        "## Std"
      ],
      "id": "8472d9da"
    },
    {
      "cell_type": "code",
      "metadata": {
        "ExecuteTime": {
          "end_time": "2021-08-17T16:53:42.082061Z",
          "start_time": "2021-08-17T16:53:42.068101Z"
        },
        "id": "fa4b1a93"
      },
      "source": [
        "# Standardizing the features\n",
        "sc = StandardScaler()\n",
        "sc.fit(x_train)\n",
        "x_train_std = sc.transform(x_train)\n",
        "x_test_std = sc.transform(x_test)"
      ],
      "id": "fa4b1a93",
      "execution_count": null,
      "outputs": []
    },
    {
      "cell_type": "markdown",
      "metadata": {
        "id": "00415ae0"
      },
      "source": [
        "## Training"
      ],
      "id": "00415ae0"
    },
    {
      "cell_type": "code",
      "metadata": {
        "ExecuteTime": {
          "end_time": "2021-08-17T20:49:36.240760Z",
          "start_time": "2021-08-17T20:49:35.772070Z"
        },
        "id": "5e9a2e0a",
        "outputId": "4af93e69-6902-40c6-b784-0850222cdf3a"
      },
      "source": [
        "lr1 = LogisticRegression(\n",
        "                            C = 1.0,\n",
        "                            max_iter=100,\n",
        "                            multi_class='multinomial',\n",
        "                            solver='sag',\n",
        "                            verbose = 100,\n",
        "                            n_jobs = None)\n",
        "lr1.fit(x_train_std, y_train)"
      ],
      "id": "5e9a2e0a",
      "execution_count": null,
      "outputs": [
        {
          "output_type": "stream",
          "text": [
            "[Parallel(n_jobs=1)]: Using backend SequentialBackend with 1 concurrent workers.\n",
            "max_iter reached after 1 seconds\n",
            "[Parallel(n_jobs=1)]: Done   1 out of   1 | elapsed:    0.4s remaining:    0.0s\n",
            "[Parallel(n_jobs=1)]: Done   1 out of   1 | elapsed:    0.4s finished\n"
          ],
          "name": "stdout"
        },
        {
          "output_type": "stream",
          "text": [
            "C:\\Users\\user\\anaconda3\\envs\\tf2.1\\lib\\site-packages\\sklearn\\linear_model\\_sag.py:329: ConvergenceWarning: The max_iter was reached which means the coef_ did not converge\n",
            "  \"the coef_ did not converge\", ConvergenceWarning)\n"
          ],
          "name": "stderr"
        },
        {
          "output_type": "execute_result",
          "data": {
            "text/plain": [
              "LogisticRegression(multi_class='multinomial', solver='sag', verbose=100)"
            ]
          },
          "metadata": {
            "tags": []
          },
          "execution_count": 708
        }
      ]
    },
    {
      "cell_type": "markdown",
      "metadata": {
        "id": "3a3eaca6"
      },
      "source": [
        "## Predict"
      ],
      "id": "3a3eaca6"
    },
    {
      "cell_type": "code",
      "metadata": {
        "ExecuteTime": {
          "end_time": "2021-08-17T20:49:37.178153Z",
          "start_time": "2021-08-17T20:49:37.164153Z"
        },
        "id": "16f92b4e"
      },
      "source": [
        "y_pred = lr1.predict(x_test_std)"
      ],
      "id": "16f92b4e",
      "execution_count": null,
      "outputs": []
    },
    {
      "cell_type": "code",
      "metadata": {
        "ExecuteTime": {
          "end_time": "2021-08-17T20:49:38.128335Z",
          "start_time": "2021-08-17T20:49:38.114393Z"
        },
        "id": "688f5510"
      },
      "source": [
        "y_pred_proba = lr1.predict_proba(x_test_std)"
      ],
      "id": "688f5510",
      "execution_count": null,
      "outputs": []
    },
    {
      "cell_type": "markdown",
      "metadata": {
        "id": "dda59c24"
      },
      "source": [
        "### Accuracy"
      ],
      "id": "dda59c24"
    },
    {
      "cell_type": "code",
      "metadata": {
        "ExecuteTime": {
          "end_time": "2021-08-17T20:49:39.275353Z",
          "start_time": "2021-08-17T20:49:39.262352Z"
        },
        "id": "5f01f505",
        "outputId": "ddae2d6d-a6f2-4c53-98b8-0cf3236b3651"
      },
      "source": [
        "from sklearn.metrics import accuracy_score\n",
        "from sklearn.metrics import confusion_matrix\n",
        "\n",
        "print('accuracy score: ', accuracy_score(y_test, y_pred).round(3))"
      ],
      "id": "5f01f505",
      "execution_count": null,
      "outputs": [
        {
          "output_type": "stream",
          "text": [
            "accuracy score:  0.972\n"
          ],
          "name": "stdout"
        }
      ]
    },
    {
      "cell_type": "markdown",
      "metadata": {
        "id": "c7caebfe"
      },
      "source": [
        "### Confusion Matrix"
      ],
      "id": "c7caebfe"
    },
    {
      "cell_type": "code",
      "metadata": {
        "ExecuteTime": {
          "end_time": "2021-08-17T20:09:06.049027Z",
          "start_time": "2021-08-17T20:09:05.494554Z"
        },
        "id": "54a310bf",
        "outputId": "8c5b59a5-ab19-407f-c50b-6391a6be5fb1"
      },
      "source": [
        "cm = confusion_matrix(y_test, y_pred)\n",
        "#print(cm)\n",
        "\n",
        "target_names = np.arange(0, 10, 1)\n",
        "conf_m = pd.DataFrame(\n",
        "                        cm,\n",
        "                        index = target_names,\n",
        "                        columns = target_names\n",
        "                        )\n",
        "fig, ax = plt.subplots(figsize = (10, 6))\n",
        "\n",
        "sns.heatmap(\n",
        "            conf_m, annot=True, annot_kws={\"size\": 10},\n",
        "            cmap='Blues_r',\n",
        "            fmt='g', linewidth=0.5, square=True\n",
        "            )\n",
        "plt.ylabel('True label', fontsize=12)\n",
        "plt.xlabel('Pred label', fontsize=12)\n",
        "plt.yticks(fontsize=12)\n",
        "plt.xticks(fontsize=12)\n",
        "#plt.savefig('cm.png', bbox_inches='tight')\n",
        "plt.show()"
      ],
      "id": "54a310bf",
      "execution_count": null,
      "outputs": [
        {
          "output_type": "display_data",
          "data": {
            "image/png": "[encoded data removed]",
            "text/plain": [
              "<Figure size 720x432 with 2 Axes>"
            ]
          },
          "metadata": {
            "tags": [],
            "needs_background": "light"
          }
        }
      ]
    },
    {
      "cell_type": "markdown",
      "metadata": {
        "id": "e7e5afc3"
      },
      "source": [
        "### other metrics"
      ],
      "id": "e7e5afc3"
    },
    {
      "cell_type": "code",
      "metadata": {
        "ExecuteTime": {
          "end_time": "2021-08-17T20:09:06.945072Z",
          "start_time": "2021-08-17T20:09:06.931070Z"
        },
        "id": "e49a892a",
        "outputId": "b6aa6ffc-6cfa-411b-f276-8648e115ddb1"
      },
      "source": [
        "from sklearn.metrics import classification_report\n",
        "report = classification_report(y_test, y_pred)\n",
        "print(report)"
      ],
      "id": "e49a892a",
      "execution_count": null,
      "outputs": [
        {
          "output_type": "stream",
          "text": [
            "              precision    recall  f1-score   support\n",
            "\n",
            "           0       0.97      1.00      0.99        36\n",
            "           1       0.95      0.97      0.96        36\n",
            "           2       1.00      1.00      1.00        35\n",
            "           3       1.00      0.97      0.99        37\n",
            "           4       0.97      0.92      0.94        36\n",
            "           5       0.97      0.89      0.93        37\n",
            "           6       0.97      1.00      0.99        36\n",
            "           7       0.97      0.97      0.97        36\n",
            "           8       0.94      0.91      0.93        35\n",
            "           9       0.90      1.00      0.95        36\n",
            "\n",
            "    accuracy                           0.96       360\n",
            "   macro avg       0.96      0.96      0.96       360\n",
            "weighted avg       0.96      0.96      0.96       360\n",
            "\n"
          ],
          "name": "stdout"
        }
      ]
    },
    {
      "cell_type": "markdown",
      "metadata": {
        "id": "45e9e474"
      },
      "source": [
        "### Take a view - testing image (a few)"
      ],
      "id": "45e9e474"
    },
    {
      "cell_type": "code",
      "metadata": {
        "ExecuteTime": {
          "end_time": "2021-08-17T20:09:10.590751Z",
          "start_time": "2021-08-17T20:09:08.256732Z"
        },
        "scrolled": false,
        "id": "29b269c3",
        "outputId": "4b5b9c3b-c416-49f5-bcb3-ca6271b560a7"
      },
      "source": [
        "num_rows = 4\n",
        "num_cols = 4\n",
        "num_images = num_rows*num_cols\n",
        "n_size = 2\n",
        "plt.figure(figsize=(n_size*n_size*num_cols, (n_size)*num_rows))\n",
        "#plt.figure(figsize=(14, 6))\n",
        "for i in range(0, num_images):\n",
        "    plt.subplot(num_rows, 2*num_cols, 2*i+1)\n",
        "    plt.xticks([])\n",
        "    plt.yticks([])\n",
        "    plt.imshow(np.reshape(x_test[i], (8, 8)), cmap='gray', interpolation=None)\n",
        "    \n",
        "    plt.subplot(num_rows, 2*num_cols, 2*i+2)\n",
        "    plt.xticks(range(0, 10, 1))\n",
        "    plt.ylim(0, 1)\n",
        "    plt.bar( \n",
        "                range(0, 10, 1),\n",
        "                y_pred_proba[i],\n",
        "                color = ['g','darkorange','lightgreen','plum', 'tan',\n",
        "                        'khaki', 'pink', 'skyblue','lawngreen','salmon'] \n",
        "            )\n",
        "    if y_pred[i] == y_test[i]:\n",
        "        color = 'blue'\n",
        "    else:\n",
        "        color = 'red'\n",
        "    plt.title(\n",
        "                'Predicted: {}, Actual: {}'.format(y_pred[i], y_test[i]), \n",
        "                fontsize = 10, \n",
        "                color = color\n",
        "             )\n",
        "plt.tight_layout()\n",
        "plt.show()"
      ],
      "id": "29b269c3",
      "execution_count": null,
      "outputs": [
        {
          "output_type": "display_data",
          "data": {
            "image/png": "[encoded data removed]",
            "text/plain": [
              "<Figure size 1152x576 with 32 Axes>"
            ]
          },
          "metadata": {
            "tags": [],
            "needs_background": "light"
          }
        }
      ]
    },
    {
      "cell_type": "markdown",
      "metadata": {
        "id": "73373b99"
      },
      "source": [
        "### Take a view - testing image (mistake)"
      ],
      "id": "73373b99"
    },
    {
      "cell_type": "code",
      "metadata": {
        "ExecuteTime": {
          "end_time": "2021-08-17T20:10:55.355453Z",
          "start_time": "2021-08-17T20:10:55.350453Z"
        },
        "id": "4b2de2e4"
      },
      "source": [
        "import numpy as np \n",
        "import matplotlib.pyplot as plt\n",
        "index = 0\n",
        "misclassifiedIndexes = []\n",
        "for label, predict in zip(y_test, y_pred):\n",
        "    \n",
        "    if label != predict: \n",
        "        misclassifiedIndexes.append(index)\n",
        "    index +=1   "
      ],
      "id": "4b2de2e4",
      "execution_count": null,
      "outputs": []
    },
    {
      "cell_type": "code",
      "metadata": {
        "ExecuteTime": {
          "end_time": "2021-08-17T20:10:56.369649Z",
          "start_time": "2021-08-17T20:10:56.260456Z"
        },
        "id": "2f20b2b5",
        "outputId": "4cc841ad-a117-42e6-9cec-c42e131761a9"
      },
      "source": [
        "i = 2\n",
        "plt.imshow(np.reshape( x_test[i], (8, 8)), cmap='gray', interpolation=None)\n",
        "print('Real: ', y_test[i])\n",
        "print('Predict: ', y_pred[i])"
      ],
      "id": "2f20b2b5",
      "execution_count": null,
      "outputs": [
        {
          "output_type": "stream",
          "text": [
            "Real:  5\n",
            "Predict:  5\n"
          ],
          "name": "stdout"
        },
        {
          "output_type": "display_data",
          "data": {
            "image/png": "[encoded data removed]",
            "text/plain": [
              "<Figure size 432x288 with 1 Axes>"
            ]
          },
          "metadata": {
            "tags": [],
            "needs_background": "light"
          }
        }
      ]
    },
    {
      "cell_type": "code",
      "metadata": {
        "ExecuteTime": {
          "end_time": "2021-08-17T20:10:58.289138Z",
          "start_time": "2021-08-17T20:10:58.270624Z"
        },
        "id": "d73fc262",
        "outputId": "54278241-a108-4ad8-8683-f696fb5237be"
      },
      "source": [
        "print(len(misclassifiedIndexes))\n",
        "misclassifiedIndexes[0:5]"
      ],
      "id": "d73fc262",
      "execution_count": null,
      "outputs": [
        {
          "output_type": "stream",
          "text": [
            "13\n"
          ],
          "name": "stdout"
        },
        {
          "output_type": "execute_result",
          "data": {
            "text/plain": [
              "[10, 44, 47, 71, 111]"
            ]
          },
          "metadata": {
            "tags": []
          },
          "execution_count": 696
        }
      ]
    },
    {
      "cell_type": "code",
      "metadata": {
        "ExecuteTime": {
          "end_time": "2021-08-17T20:11:01.682789Z",
          "start_time": "2021-08-17T20:10:59.204739Z"
        },
        "id": "734c82ee",
        "outputId": "c6a0c5f1-a9bc-49f6-ba98-f771febdc9be"
      },
      "source": [
        "num_rows = 5\n",
        "num_cols = 3\n",
        "num_images = num_rows*num_cols\n",
        "n_size = 2\n",
        "plt.figure(figsize=(n_size*n_size*num_cols, n_size *num_rows))\n",
        "#plt.figure(figsize=(20,4))\n",
        "for plotIndex, badIndex in enumerate(misclassifiedIndexes[0:num_images]):\n",
        "    #plt.subplot(1, 5, plotIndex + 1)\n",
        "    plt.subplot(num_rows, 2*num_cols, 2*plotIndex+1)\n",
        "    plt.xticks([])\n",
        "    plt.yticks([])\n",
        "    plt.imshow(np.reshape(x_test[badIndex], (8, 8)), cmap='gray', interpolation=None)\n",
        "    plt.title('Predicted: {}, Actual: {}'.format(y_pred[badIndex],y_test[badIndex]), fontsize = 12)\n",
        "    \n",
        "    plt.subplot(num_rows, 2*num_cols, 2*plotIndex+2)\n",
        "    plt.xticks(range(0, 10, 1))\n",
        "    plt.ylim(0, 1)\n",
        "    plt.bar( \n",
        "                range(0, 10, 1),\n",
        "                y_pred_proba[badIndex],\n",
        "                color = ['g','darkorange','lightgreen','plum', 'tan',\n",
        "                        'khaki', 'pink', 'skyblue','lawngreen','salmon']  \n",
        "            )\n",
        "plt.tight_layout()\n",
        "plt.show()"
      ],
      "id": "734c82ee",
      "execution_count": null,
      "outputs": [
        {
          "output_type": "display_data",
          "data": {
            "image/png": "[encoded data removed]",
            "text/plain": [
              "<Figure size 864x720 with 26 Axes>"
            ]
          },
          "metadata": {
            "tags": [],
            "needs_background": "light"
          }
        }
      ]
    },
    {
      "cell_type": "markdown",
      "metadata": {
        "id": "022f0911"
      },
      "source": [
        "---"
      ],
      "id": "022f0911"
    },
    {
      "cell_type": "markdown",
      "metadata": {
        "id": "83fe3876"
      },
      "source": [
        "# Task2: multi-class classification with Mnist"
      ],
      "id": "83fe3876"
    },
    {
      "cell_type": "markdown",
      "metadata": {
        "id": "78918bfb"
      },
      "source": [
        "## Load dataset"
      ],
      "id": "78918bfb"
    },
    {
      "cell_type": "code",
      "metadata": {
        "ExecuteTime": {
          "end_time": "2021-08-17T13:57:48.382422Z",
          "start_time": "2021-08-17T13:57:04.109729Z"
        },
        "id": "a11c9771"
      },
      "source": [
        "from sklearn.datasets import fetch_openml\n",
        "mnist = fetch_openml(\"mnist_784\")"
      ],
      "id": "a11c9771",
      "execution_count": null,
      "outputs": []
    },
    {
      "cell_type": "code",
      "metadata": {
        "ExecuteTime": {
          "end_time": "2021-08-17T13:57:49.041331Z",
          "start_time": "2021-08-17T13:57:49.028724Z"
        },
        "id": "97a2a393",
        "outputId": "5d10d4a7-36ae-4577-bc45-e2bbd1f06d9d"
      },
      "source": [
        "mnist.keys()"
      ],
      "id": "97a2a393",
      "execution_count": null,
      "outputs": [
        {
          "output_type": "execute_result",
          "data": {
            "text/plain": [
              "dict_keys(['data', 'target', 'frame', 'categories', 'feature_names', 'target_names', 'DESCR', 'details', 'url'])"
            ]
          },
          "metadata": {
            "tags": []
          },
          "execution_count": 298
        }
      ]
    },
    {
      "cell_type": "code",
      "metadata": {
        "ExecuteTime": {
          "end_time": "2021-08-17T13:57:49.764235Z",
          "start_time": "2021-08-17T13:57:49.750233Z"
        },
        "id": "7f524b90",
        "outputId": "97500168-24d8-4bfa-c926-0c40875a69fa"
      },
      "source": [
        "mnist.data.shape"
      ],
      "id": "7f524b90",
      "execution_count": null,
      "outputs": [
        {
          "output_type": "execute_result",
          "data": {
            "text/plain": [
              "(70000, 784)"
            ]
          },
          "metadata": {
            "tags": []
          },
          "execution_count": 299
        }
      ]
    },
    {
      "cell_type": "code",
      "metadata": {
        "ExecuteTime": {
          "end_time": "2021-08-17T13:57:50.548483Z",
          "start_time": "2021-08-17T13:57:50.473463Z"
        },
        "id": "ba1fa7de",
        "outputId": "a898aa36-3bc1-432f-98e3-2793caf5a99d"
      },
      "source": [
        "mnist['data']"
      ],
      "id": "ba1fa7de",
      "execution_count": null,
      "outputs": [
        {
          "output_type": "execute_result",
          "data": {
            "text/html": [
              "<div>\n",
              "<style scoped>\n",
              "    .dataframe tbody tr th:only-of-type {\n",
              "        vertical-align: middle;\n",
              "    }\n",
              "\n",
              "    .dataframe tbody tr th {\n",
              "        vertical-align: top;\n",
              "    }\n",
              "\n",
              "    .dataframe thead th {\n",
              "        text-align: right;\n",
              "    }\n",
              "</style>\n",
              "<table border=\"1\" class=\"dataframe\">\n",
              "  <thead>\n",
              "    <tr style=\"text-align: right;\">\n",
              "      <th></th>\n",
              "      <th>pixel1</th>\n",
              "      <th>pixel2</th>\n",
              "      <th>pixel3</th>\n",
              "      <th>pixel4</th>\n",
              "      <th>pixel5</th>\n",
              "      <th>pixel6</th>\n",
              "      <th>pixel7</th>\n",
              "      <th>pixel8</th>\n",
              "      <th>pixel9</th>\n",
              "      <th>pixel10</th>\n",
              "      <th>...</th>\n",
              "      <th>pixel775</th>\n",
              "      <th>pixel776</th>\n",
              "      <th>pixel777</th>\n",
              "      <th>pixel778</th>\n",
              "      <th>pixel779</th>\n",
              "      <th>pixel780</th>\n",
              "      <th>pixel781</th>\n",
              "      <th>pixel782</th>\n",
              "      <th>pixel783</th>\n",
              "      <th>pixel784</th>\n",
              "    </tr>\n",
              "  </thead>\n",
              "  <tbody>\n",
              "    <tr>\n",
              "      <th>0</th>\n",
              "      <td>0.0</td>\n",
              "      <td>0.0</td>\n",
              "      <td>0.0</td>\n",
              "      <td>0.0</td>\n",
              "      <td>0.0</td>\n",
              "      <td>0.0</td>\n",
              "      <td>0.0</td>\n",
              "      <td>0.0</td>\n",
              "      <td>0.0</td>\n",
              "      <td>0.0</td>\n",
              "      <td>...</td>\n",
              "      <td>0.0</td>\n",
              "      <td>0.0</td>\n",
              "      <td>0.0</td>\n",
              "      <td>0.0</td>\n",
              "      <td>0.0</td>\n",
              "      <td>0.0</td>\n",
              "      <td>0.0</td>\n",
              "      <td>0.0</td>\n",
              "      <td>0.0</td>\n",
              "      <td>0.0</td>\n",
              "    </tr>\n",
              "    <tr>\n",
              "      <th>1</th>\n",
              "      <td>0.0</td>\n",
              "      <td>0.0</td>\n",
              "      <td>0.0</td>\n",
              "      <td>0.0</td>\n",
              "      <td>0.0</td>\n",
              "      <td>0.0</td>\n",
              "      <td>0.0</td>\n",
              "      <td>0.0</td>\n",
              "      <td>0.0</td>\n",
              "      <td>0.0</td>\n",
              "      <td>...</td>\n",
              "      <td>0.0</td>\n",
              "      <td>0.0</td>\n",
              "      <td>0.0</td>\n",
              "      <td>0.0</td>\n",
              "      <td>0.0</td>\n",
              "      <td>0.0</td>\n",
              "      <td>0.0</td>\n",
              "      <td>0.0</td>\n",
              "      <td>0.0</td>\n",
              "      <td>0.0</td>\n",
              "    </tr>\n",
              "    <tr>\n",
              "      <th>2</th>\n",
              "      <td>0.0</td>\n",
              "      <td>0.0</td>\n",
              "      <td>0.0</td>\n",
              "      <td>0.0</td>\n",
              "      <td>0.0</td>\n",
              "      <td>0.0</td>\n",
              "      <td>0.0</td>\n",
              "      <td>0.0</td>\n",
              "      <td>0.0</td>\n",
              "      <td>0.0</td>\n",
              "      <td>...</td>\n",
              "      <td>0.0</td>\n",
              "      <td>0.0</td>\n",
              "      <td>0.0</td>\n",
              "      <td>0.0</td>\n",
              "      <td>0.0</td>\n",
              "      <td>0.0</td>\n",
              "      <td>0.0</td>\n",
              "      <td>0.0</td>\n",
              "      <td>0.0</td>\n",
              "      <td>0.0</td>\n",
              "    </tr>\n",
              "    <tr>\n",
              "      <th>3</th>\n",
              "      <td>0.0</td>\n",
              "      <td>0.0</td>\n",
              "      <td>0.0</td>\n",
              "      <td>0.0</td>\n",
              "      <td>0.0</td>\n",
              "      <td>0.0</td>\n",
              "      <td>0.0</td>\n",
              "      <td>0.0</td>\n",
              "      <td>0.0</td>\n",
              "      <td>0.0</td>\n",
              "      <td>...</td>\n",
              "      <td>0.0</td>\n",
              "      <td>0.0</td>\n",
              "      <td>0.0</td>\n",
              "      <td>0.0</td>\n",
              "      <td>0.0</td>\n",
              "      <td>0.0</td>\n",
              "      <td>0.0</td>\n",
              "      <td>0.0</td>\n",
              "      <td>0.0</td>\n",
              "      <td>0.0</td>\n",
              "    </tr>\n",
              "    <tr>\n",
              "      <th>4</th>\n",
              "      <td>0.0</td>\n",
              "      <td>0.0</td>\n",
              "      <td>0.0</td>\n",
              "      <td>0.0</td>\n",
              "      <td>0.0</td>\n",
              "      <td>0.0</td>\n",
              "      <td>0.0</td>\n",
              "      <td>0.0</td>\n",
              "      <td>0.0</td>\n",
              "      <td>0.0</td>\n",
              "      <td>...</td>\n",
              "      <td>0.0</td>\n",
              "      <td>0.0</td>\n",
              "      <td>0.0</td>\n",
              "      <td>0.0</td>\n",
              "      <td>0.0</td>\n",
              "      <td>0.0</td>\n",
              "      <td>0.0</td>\n",
              "      <td>0.0</td>\n",
              "      <td>0.0</td>\n",
              "      <td>0.0</td>\n",
              "    </tr>\n",
              "    <tr>\n",
              "      <th>...</th>\n",
              "      <td>...</td>\n",
              "      <td>...</td>\n",
              "      <td>...</td>\n",
              "      <td>...</td>\n",
              "      <td>...</td>\n",
              "      <td>...</td>\n",
              "      <td>...</td>\n",
              "      <td>...</td>\n",
              "      <td>...</td>\n",
              "      <td>...</td>\n",
              "      <td>...</td>\n",
              "      <td>...</td>\n",
              "      <td>...</td>\n",
              "      <td>...</td>\n",
              "      <td>...</td>\n",
              "      <td>...</td>\n",
              "      <td>...</td>\n",
              "      <td>...</td>\n",
              "      <td>...</td>\n",
              "      <td>...</td>\n",
              "      <td>...</td>\n",
              "    </tr>\n",
              "    <tr>\n",
              "      <th>69995</th>\n",
              "      <td>0.0</td>\n",
              "      <td>0.0</td>\n",
              "      <td>0.0</td>\n",
              "      <td>0.0</td>\n",
              "      <td>0.0</td>\n",
              "      <td>0.0</td>\n",
              "      <td>0.0</td>\n",
              "      <td>0.0</td>\n",
              "      <td>0.0</td>\n",
              "      <td>0.0</td>\n",
              "      <td>...</td>\n",
              "      <td>0.0</td>\n",
              "      <td>0.0</td>\n",
              "      <td>0.0</td>\n",
              "      <td>0.0</td>\n",
              "      <td>0.0</td>\n",
              "      <td>0.0</td>\n",
              "      <td>0.0</td>\n",
              "      <td>0.0</td>\n",
              "      <td>0.0</td>\n",
              "      <td>0.0</td>\n",
              "    </tr>\n",
              "    <tr>\n",
              "      <th>69996</th>\n",
              "      <td>0.0</td>\n",
              "      <td>0.0</td>\n",
              "      <td>0.0</td>\n",
              "      <td>0.0</td>\n",
              "      <td>0.0</td>\n",
              "      <td>0.0</td>\n",
              "      <td>0.0</td>\n",
              "      <td>0.0</td>\n",
              "      <td>0.0</td>\n",
              "      <td>0.0</td>\n",
              "      <td>...</td>\n",
              "      <td>0.0</td>\n",
              "      <td>0.0</td>\n",
              "      <td>0.0</td>\n",
              "      <td>0.0</td>\n",
              "      <td>0.0</td>\n",
              "      <td>0.0</td>\n",
              "      <td>0.0</td>\n",
              "      <td>0.0</td>\n",
              "      <td>0.0</td>\n",
              "      <td>0.0</td>\n",
              "    </tr>\n",
              "    <tr>\n",
              "      <th>69997</th>\n",
              "      <td>0.0</td>\n",
              "      <td>0.0</td>\n",
              "      <td>0.0</td>\n",
              "      <td>0.0</td>\n",
              "      <td>0.0</td>\n",
              "      <td>0.0</td>\n",
              "      <td>0.0</td>\n",
              "      <td>0.0</td>\n",
              "      <td>0.0</td>\n",
              "      <td>0.0</td>\n",
              "      <td>...</td>\n",
              "      <td>0.0</td>\n",
              "      <td>0.0</td>\n",
              "      <td>0.0</td>\n",
              "      <td>0.0</td>\n",
              "      <td>0.0</td>\n",
              "      <td>0.0</td>\n",
              "      <td>0.0</td>\n",
              "      <td>0.0</td>\n",
              "      <td>0.0</td>\n",
              "      <td>0.0</td>\n",
              "    </tr>\n",
              "    <tr>\n",
              "      <th>69998</th>\n",
              "      <td>0.0</td>\n",
              "      <td>0.0</td>\n",
              "      <td>0.0</td>\n",
              "      <td>0.0</td>\n",
              "      <td>0.0</td>\n",
              "      <td>0.0</td>\n",
              "      <td>0.0</td>\n",
              "      <td>0.0</td>\n",
              "      <td>0.0</td>\n",
              "      <td>0.0</td>\n",
              "      <td>...</td>\n",
              "      <td>0.0</td>\n",
              "      <td>0.0</td>\n",
              "      <td>0.0</td>\n",
              "      <td>0.0</td>\n",
              "      <td>0.0</td>\n",
              "      <td>0.0</td>\n",
              "      <td>0.0</td>\n",
              "      <td>0.0</td>\n",
              "      <td>0.0</td>\n",
              "      <td>0.0</td>\n",
              "    </tr>\n",
              "    <tr>\n",
              "      <th>69999</th>\n",
              "      <td>0.0</td>\n",
              "      <td>0.0</td>\n",
              "      <td>0.0</td>\n",
              "      <td>0.0</td>\n",
              "      <td>0.0</td>\n",
              "      <td>0.0</td>\n",
              "      <td>0.0</td>\n",
              "      <td>0.0</td>\n",
              "      <td>0.0</td>\n",
              "      <td>0.0</td>\n",
              "      <td>...</td>\n",
              "      <td>0.0</td>\n",
              "      <td>0.0</td>\n",
              "      <td>0.0</td>\n",
              "      <td>0.0</td>\n",
              "      <td>0.0</td>\n",
              "      <td>0.0</td>\n",
              "      <td>0.0</td>\n",
              "      <td>0.0</td>\n",
              "      <td>0.0</td>\n",
              "      <td>0.0</td>\n",
              "    </tr>\n",
              "  </tbody>\n",
              "</table>\n",
              "<p>70000 rows × 784 columns</p>\n",
              "</div>"
            ],
            "text/plain": [
              "       pixel1  pixel2  pixel3  pixel4  pixel5  pixel6  pixel7  pixel8  pixel9  \\\n",
              "0         0.0     0.0     0.0     0.0     0.0     0.0     0.0     0.0     0.0   \n",
              "1         0.0     0.0     0.0     0.0     0.0     0.0     0.0     0.0     0.0   \n",
              "2         0.0     0.0     0.0     0.0     0.0     0.0     0.0     0.0     0.0   \n",
              "3         0.0     0.0     0.0     0.0     0.0     0.0     0.0     0.0     0.0   \n",
              "4         0.0     0.0     0.0     0.0     0.0     0.0     0.0     0.0     0.0   \n",
              "...       ...     ...     ...     ...     ...     ...     ...     ...     ...   \n",
              "69995     0.0     0.0     0.0     0.0     0.0     0.0     0.0     0.0     0.0   \n",
              "69996     0.0     0.0     0.0     0.0     0.0     0.0     0.0     0.0     0.0   \n",
              "69997     0.0     0.0     0.0     0.0     0.0     0.0     0.0     0.0     0.0   \n",
              "69998     0.0     0.0     0.0     0.0     0.0     0.0     0.0     0.0     0.0   \n",
              "69999     0.0     0.0     0.0     0.0     0.0     0.0     0.0     0.0     0.0   \n",
              "\n",
              "       pixel10  ...  pixel775  pixel776  pixel777  pixel778  pixel779  \\\n",
              "0          0.0  ...       0.0       0.0       0.0       0.0       0.0   \n",
              "1          0.0  ...       0.0       0.0       0.0       0.0       0.0   \n",
              "2          0.0  ...       0.0       0.0       0.0       0.0       0.0   \n",
              "3          0.0  ...       0.0       0.0       0.0       0.0       0.0   \n",
              "4          0.0  ...       0.0       0.0       0.0       0.0       0.0   \n",
              "...        ...  ...       ...       ...       ...       ...       ...   \n",
              "69995      0.0  ...       0.0       0.0       0.0       0.0       0.0   \n",
              "69996      0.0  ...       0.0       0.0       0.0       0.0       0.0   \n",
              "69997      0.0  ...       0.0       0.0       0.0       0.0       0.0   \n",
              "69998      0.0  ...       0.0       0.0       0.0       0.0       0.0   \n",
              "69999      0.0  ...       0.0       0.0       0.0       0.0       0.0   \n",
              "\n",
              "       pixel780  pixel781  pixel782  pixel783  pixel784  \n",
              "0           0.0       0.0       0.0       0.0       0.0  \n",
              "1           0.0       0.0       0.0       0.0       0.0  \n",
              "2           0.0       0.0       0.0       0.0       0.0  \n",
              "3           0.0       0.0       0.0       0.0       0.0  \n",
              "4           0.0       0.0       0.0       0.0       0.0  \n",
              "...         ...       ...       ...       ...       ...  \n",
              "69995       0.0       0.0       0.0       0.0       0.0  \n",
              "69996       0.0       0.0       0.0       0.0       0.0  \n",
              "69997       0.0       0.0       0.0       0.0       0.0  \n",
              "69998       0.0       0.0       0.0       0.0       0.0  \n",
              "69999       0.0       0.0       0.0       0.0       0.0  \n",
              "\n",
              "[70000 rows x 784 columns]"
            ]
          },
          "metadata": {
            "tags": []
          },
          "execution_count": 300
        }
      ]
    },
    {
      "cell_type": "markdown",
      "metadata": {
        "id": "dd481573"
      },
      "source": [
        "## view raw images"
      ],
      "id": "dd481573"
    },
    {
      "cell_type": "code",
      "metadata": {
        "ExecuteTime": {
          "end_time": "2021-08-17T15:42:02.271425Z",
          "start_time": "2021-08-17T15:42:02.262421Z"
        },
        "id": "aa176995",
        "outputId": "ce399a00-074a-4aed-abf9-3169f7455f10"
      },
      "source": [
        "mnist['data'][0].shape"
      ],
      "id": "aa176995",
      "execution_count": null,
      "outputs": [
        {
          "output_type": "execute_result",
          "data": {
            "text/plain": [
              "pixel1      0.0\n",
              "pixel2      0.0\n",
              "pixel3      0.0\n",
              "pixel4      0.0\n",
              "pixel5      0.0\n",
              "           ... \n",
              "pixel780    0.0\n",
              "pixel781    0.0\n",
              "pixel782    0.0\n",
              "pixel783    0.0\n",
              "pixel784    0.0\n",
              "Name: 0, Length: 784, dtype: float64"
            ]
          },
          "metadata": {
            "tags": []
          },
          "execution_count": 431
        }
      ]
    },
    {
      "cell_type": "code",
      "metadata": {
        "ExecuteTime": {
          "end_time": "2021-08-17T15:55:51.196191Z",
          "start_time": "2021-08-17T15:55:50.786109Z"
        },
        "id": "c5b40440",
        "outputId": "a747b738-c573-4432-cbee-c764e7171eff"
      },
      "source": [
        "num_rows = 2\n",
        "num_cols = 5\n",
        "num_images = num_rows*num_cols\n",
        "n_size = 2\n",
        "#plt.figure(figsize=(n_size*n_size*num_cols, n_size*num_rows))\n",
        "plt.figure(figsize=(14, 6))\n",
        "for i in range(0, num_images):\n",
        "    plt.subplot(num_rows, num_cols, i+1)\n",
        "    plt.xticks([])\n",
        "    plt.yticks([])\n",
        "    plt.imshow(mnist['data'][i].reshape(28, 28), cmap='gray', interpolation=None)\n",
        "    plt.title(\"{} {}\".format( str(\"Number:\"), mnist['target'][i] ),color = 'black')\n",
        "plt.show()"
      ],
      "id": "c5b40440",
      "execution_count": null,
      "outputs": [
        {
          "output_type": "display_data",
          "data": {
            "image/png": "[encoded data removed]",
            "text/plain": [
              "<Figure size 1008x432 with 10 Axes>"
            ]
          },
          "metadata": {
            "tags": []
          }
        }
      ]
    },
    {
      "cell_type": "code",
      "metadata": {
        "ExecuteTime": {
          "end_time": "2021-08-17T14:09:49.924555Z",
          "start_time": "2021-08-17T14:09:49.917554Z"
        },
        "id": "fac370a7"
      },
      "source": [
        "x = mnist['data']\n",
        "y = mnist['target'].astype(int)"
      ],
      "id": "fac370a7",
      "execution_count": null,
      "outputs": []
    },
    {
      "cell_type": "markdown",
      "metadata": {
        "id": "a4774255"
      },
      "source": [
        "## normalization"
      ],
      "id": "a4774255"
    },
    {
      "cell_type": "code",
      "metadata": {
        "ExecuteTime": {
          "end_time": "2021-08-17T14:09:53.546701Z",
          "start_time": "2021-08-17T14:09:53.422796Z"
        },
        "id": "04c10793"
      },
      "source": [
        "x_norm = x/255"
      ],
      "id": "04c10793",
      "execution_count": null,
      "outputs": []
    },
    {
      "cell_type": "code",
      "metadata": {
        "ExecuteTime": {
          "end_time": "2021-08-17T15:56:02.170126Z",
          "start_time": "2021-08-17T15:56:01.750794Z"
        },
        "id": "8eb81527",
        "outputId": "c6251ff4-ff55-44d0-a2fa-eff7309f7905"
      },
      "source": [
        "num_rows = 2\n",
        "num_cols = 5\n",
        "num_images = num_rows*num_cols\n",
        "n_size = 2\n",
        "#plt.figure(figsize=(n_size*n_size*num_cols, n_size*num_rows))\n",
        "plt.figure(figsize=(14, 6))\n",
        "for i in range(0, num_images):\n",
        "    plt.subplot(num_rows, num_cols, i+1)\n",
        "    plt.xticks([])\n",
        "    plt.yticks([])\n",
        "    plt.imshow(x_norm[i].reshape(28, 28), cmap='gray', interpolation=None)\n",
        "    plt.title(\"{} {}\".format( str(\"Number:\"), mnist['target'][i] ),color = 'black')\n",
        "plt.show()"
      ],
      "id": "8eb81527",
      "execution_count": null,
      "outputs": [
        {
          "output_type": "display_data",
          "data": {
            "image/png": "[encoded data removed]",
            "text/plain": [
              "<Figure size 1008x432 with 10 Axes>"
            ]
          },
          "metadata": {
            "tags": []
          }
        }
      ]
    },
    {
      "cell_type": "code",
      "metadata": {
        "ExecuteTime": {
          "end_time": "2021-08-17T15:56:06.815211Z",
          "start_time": "2021-08-17T15:56:06.799209Z"
        },
        "id": "eefcf836",
        "outputId": "2d38810e-8acf-4828-ba1a-e991c1b2269f"
      },
      "source": [
        "x_norm[0]"
      ],
      "id": "eefcf836",
      "execution_count": null,
      "outputs": [
        {
          "output_type": "execute_result",
          "data": {
            "text/plain": [
              "array([0.        , 0.        , 0.        , 0.        , 0.        ,\n",
              "       0.        , 0.        , 0.        , 0.        , 0.        ,\n",
              "       0.        , 0.        , 0.        , 0.        , 0.        ,\n",
              "       0.        , 0.        , 0.        , 0.        , 0.        ,\n",
              "       0.        , 0.        , 0.        , 0.        , 0.        ,\n",
              "       0.        , 0.        , 0.        , 0.        , 0.        ,\n",
              "       0.        , 0.        , 0.        , 0.        , 0.        ,\n",
              "       0.        , 0.        , 0.        , 0.        , 0.        ,\n",
              "       0.        , 0.        , 0.        , 0.        , 0.        ,\n",
              "       0.        , 0.        , 0.        , 0.        , 0.        ,\n",
              "       0.        , 0.        , 0.        , 0.        , 0.        ,\n",
              "       0.        , 0.        , 0.        , 0.        , 0.        ,\n",
              "       0.        , 0.        , 0.        , 0.        , 0.        ,\n",
              "       0.        , 0.        , 0.        , 0.        , 0.        ,\n",
              "       0.        , 0.        , 0.        , 0.        , 0.        ,\n",
              "       0.        , 0.        , 0.        , 0.        , 0.        ,\n",
              "       0.        , 0.        , 0.        , 0.        , 0.        ,\n",
              "       0.        , 0.        , 0.        , 0.        , 0.        ,\n",
              "       0.        , 0.        , 0.        , 0.        , 0.        ,\n",
              "       0.        , 0.        , 0.        , 0.        , 0.        ,\n",
              "       0.        , 0.        , 0.        , 0.        , 0.        ,\n",
              "       0.        , 0.        , 0.        , 0.        , 0.        ,\n",
              "       0.        , 0.        , 0.        , 0.        , 0.        ,\n",
              "       0.        , 0.        , 0.        , 0.        , 0.        ,\n",
              "       0.        , 0.        , 0.        , 0.        , 0.        ,\n",
              "       0.        , 0.        , 0.        , 0.        , 0.        ,\n",
              "       0.        , 0.        , 0.        , 0.        , 0.        ,\n",
              "       0.        , 0.        , 0.        , 0.        , 0.        ,\n",
              "       0.        , 0.        , 0.        , 0.        , 0.        ,\n",
              "       0.        , 0.        , 0.        , 0.        , 0.        ,\n",
              "       0.        , 0.        , 0.01176471, 0.07058824, 0.07058824,\n",
              "       0.07058824, 0.49411765, 0.53333333, 0.68627451, 0.10196078,\n",
              "       0.65098039, 1.        , 0.96862745, 0.49803922, 0.        ,\n",
              "       0.        , 0.        , 0.        , 0.        , 0.        ,\n",
              "       0.        , 0.        , 0.        , 0.        , 0.        ,\n",
              "       0.        , 0.11764706, 0.14117647, 0.36862745, 0.60392157,\n",
              "       0.66666667, 0.99215686, 0.99215686, 0.99215686, 0.99215686,\n",
              "       0.99215686, 0.88235294, 0.6745098 , 0.99215686, 0.94901961,\n",
              "       0.76470588, 0.25098039, 0.        , 0.        , 0.        ,\n",
              "       0.        , 0.        , 0.        , 0.        , 0.        ,\n",
              "       0.        , 0.        , 0.        , 0.19215686, 0.93333333,\n",
              "       0.99215686, 0.99215686, 0.99215686, 0.99215686, 0.99215686,\n",
              "       0.99215686, 0.99215686, 0.99215686, 0.98431373, 0.36470588,\n",
              "       0.32156863, 0.32156863, 0.21960784, 0.15294118, 0.        ,\n",
              "       0.        , 0.        , 0.        , 0.        , 0.        ,\n",
              "       0.        , 0.        , 0.        , 0.        , 0.        ,\n",
              "       0.        , 0.07058824, 0.85882353, 0.99215686, 0.99215686,\n",
              "       0.99215686, 0.99215686, 0.99215686, 0.77647059, 0.71372549,\n",
              "       0.96862745, 0.94509804, 0.        , 0.        , 0.        ,\n",
              "       0.        , 0.        , 0.        , 0.        , 0.        ,\n",
              "       0.        , 0.        , 0.        , 0.        , 0.        ,\n",
              "       0.        , 0.        , 0.        , 0.        , 0.        ,\n",
              "       0.31372549, 0.61176471, 0.41960784, 0.99215686, 0.99215686,\n",
              "       0.80392157, 0.04313725, 0.        , 0.16862745, 0.60392157,\n",
              "       0.        , 0.        , 0.        , 0.        , 0.        ,\n",
              "       0.        , 0.        , 0.        , 0.        , 0.        ,\n",
              "       0.        , 0.        , 0.        , 0.        , 0.        ,\n",
              "       0.        , 0.        , 0.        , 0.        , 0.05490196,\n",
              "       0.00392157, 0.60392157, 0.99215686, 0.35294118, 0.        ,\n",
              "       0.        , 0.        , 0.        , 0.        , 0.        ,\n",
              "       0.        , 0.        , 0.        , 0.        , 0.        ,\n",
              "       0.        , 0.        , 0.        , 0.        , 0.        ,\n",
              "       0.        , 0.        , 0.        , 0.        , 0.        ,\n",
              "       0.        , 0.        , 0.        , 0.        , 0.54509804,\n",
              "       0.99215686, 0.74509804, 0.00784314, 0.        , 0.        ,\n",
              "       0.        , 0.        , 0.        , 0.        , 0.        ,\n",
              "       0.        , 0.        , 0.        , 0.        , 0.        ,\n",
              "       0.        , 0.        , 0.        , 0.        , 0.        ,\n",
              "       0.        , 0.        , 0.        , 0.        , 0.        ,\n",
              "       0.        , 0.        , 0.04313725, 0.74509804, 0.99215686,\n",
              "       0.2745098 , 0.        , 0.        , 0.        , 0.        ,\n",
              "       0.        , 0.        , 0.        , 0.        , 0.        ,\n",
              "       0.        , 0.        , 0.        , 0.        , 0.        ,\n",
              "       0.        , 0.        , 0.        , 0.        , 0.        ,\n",
              "       0.        , 0.        , 0.        , 0.        , 0.        ,\n",
              "       0.        , 0.1372549 , 0.94509804, 0.88235294, 0.62745098,\n",
              "       0.42352941, 0.00392157, 0.        , 0.        , 0.        ,\n",
              "       0.        , 0.        , 0.        , 0.        , 0.        ,\n",
              "       0.        , 0.        , 0.        , 0.        , 0.        ,\n",
              "       0.        , 0.        , 0.        , 0.        , 0.        ,\n",
              "       0.        , 0.        , 0.        , 0.        , 0.        ,\n",
              "       0.31764706, 0.94117647, 0.99215686, 0.99215686, 0.46666667,\n",
              "       0.09803922, 0.        , 0.        , 0.        , 0.        ,\n",
              "       0.        , 0.        , 0.        , 0.        , 0.        ,\n",
              "       0.        , 0.        , 0.        , 0.        , 0.        ,\n",
              "       0.        , 0.        , 0.        , 0.        , 0.        ,\n",
              "       0.        , 0.        , 0.        , 0.        , 0.17647059,\n",
              "       0.72941176, 0.99215686, 0.99215686, 0.58823529, 0.10588235,\n",
              "       0.        , 0.        , 0.        , 0.        , 0.        ,\n",
              "       0.        , 0.        , 0.        , 0.        , 0.        ,\n",
              "       0.        , 0.        , 0.        , 0.        , 0.        ,\n",
              "       0.        , 0.        , 0.        , 0.        , 0.        ,\n",
              "       0.        , 0.        , 0.        , 0.0627451 , 0.36470588,\n",
              "       0.98823529, 0.99215686, 0.73333333, 0.        , 0.        ,\n",
              "       0.        , 0.        , 0.        , 0.        , 0.        ,\n",
              "       0.        , 0.        , 0.        , 0.        , 0.        ,\n",
              "       0.        , 0.        , 0.        , 0.        , 0.        ,\n",
              "       0.        , 0.        , 0.        , 0.        , 0.        ,\n",
              "       0.        , 0.        , 0.        , 0.97647059, 0.99215686,\n",
              "       0.97647059, 0.25098039, 0.        , 0.        , 0.        ,\n",
              "       0.        , 0.        , 0.        , 0.        , 0.        ,\n",
              "       0.        , 0.        , 0.        , 0.        , 0.        ,\n",
              "       0.        , 0.        , 0.        , 0.        , 0.        ,\n",
              "       0.        , 0.        , 0.        , 0.18039216, 0.50980392,\n",
              "       0.71764706, 0.99215686, 0.99215686, 0.81176471, 0.00784314,\n",
              "       0.        , 0.        , 0.        , 0.        , 0.        ,\n",
              "       0.        , 0.        , 0.        , 0.        , 0.        ,\n",
              "       0.        , 0.        , 0.        , 0.        , 0.        ,\n",
              "       0.        , 0.        , 0.        , 0.        , 0.15294118,\n",
              "       0.58039216, 0.89803922, 0.99215686, 0.99215686, 0.99215686,\n",
              "       0.98039216, 0.71372549, 0.        , 0.        , 0.        ,\n",
              "       0.        , 0.        , 0.        , 0.        , 0.        ,\n",
              "       0.        , 0.        , 0.        , 0.        , 0.        ,\n",
              "       0.        , 0.        , 0.        , 0.        , 0.        ,\n",
              "       0.09411765, 0.44705882, 0.86666667, 0.99215686, 0.99215686,\n",
              "       0.99215686, 0.99215686, 0.78823529, 0.30588235, 0.        ,\n",
              "       0.        , 0.        , 0.        , 0.        , 0.        ,\n",
              "       0.        , 0.        , 0.        , 0.        , 0.        ,\n",
              "       0.        , 0.        , 0.        , 0.        , 0.        ,\n",
              "       0.        , 0.09019608, 0.25882353, 0.83529412, 0.99215686,\n",
              "       0.99215686, 0.99215686, 0.99215686, 0.77647059, 0.31764706,\n",
              "       0.00784314, 0.        , 0.        , 0.        , 0.        ,\n",
              "       0.        , 0.        , 0.        , 0.        , 0.        ,\n",
              "       0.        , 0.        , 0.        , 0.        , 0.        ,\n",
              "       0.        , 0.        , 0.07058824, 0.67058824, 0.85882353,\n",
              "       0.99215686, 0.99215686, 0.99215686, 0.99215686, 0.76470588,\n",
              "       0.31372549, 0.03529412, 0.        , 0.        , 0.        ,\n",
              "       0.        , 0.        , 0.        , 0.        , 0.        ,\n",
              "       0.        , 0.        , 0.        , 0.        , 0.        ,\n",
              "       0.        , 0.        , 0.        , 0.21568627, 0.6745098 ,\n",
              "       0.88627451, 0.99215686, 0.99215686, 0.99215686, 0.99215686,\n",
              "       0.95686275, 0.52156863, 0.04313725, 0.        , 0.        ,\n",
              "       0.        , 0.        , 0.        , 0.        , 0.        ,\n",
              "       0.        , 0.        , 0.        , 0.        , 0.        ,\n",
              "       0.        , 0.        , 0.        , 0.        , 0.        ,\n",
              "       0.        , 0.53333333, 0.99215686, 0.99215686, 0.99215686,\n",
              "       0.83137255, 0.52941176, 0.51764706, 0.0627451 , 0.        ,\n",
              "       0.        , 0.        , 0.        , 0.        , 0.        ,\n",
              "       0.        , 0.        , 0.        , 0.        , 0.        ,\n",
              "       0.        , 0.        , 0.        , 0.        , 0.        ,\n",
              "       0.        , 0.        , 0.        , 0.        , 0.        ,\n",
              "       0.        , 0.        , 0.        , 0.        , 0.        ,\n",
              "       0.        , 0.        , 0.        , 0.        , 0.        ,\n",
              "       0.        , 0.        , 0.        , 0.        , 0.        ,\n",
              "       0.        , 0.        , 0.        , 0.        , 0.        ,\n",
              "       0.        , 0.        , 0.        , 0.        , 0.        ,\n",
              "       0.        , 0.        , 0.        , 0.        , 0.        ,\n",
              "       0.        , 0.        , 0.        , 0.        , 0.        ,\n",
              "       0.        , 0.        , 0.        , 0.        , 0.        ,\n",
              "       0.        , 0.        , 0.        , 0.        , 0.        ,\n",
              "       0.        , 0.        , 0.        , 0.        , 0.        ,\n",
              "       0.        , 0.        , 0.        , 0.        , 0.        ,\n",
              "       0.        , 0.        , 0.        , 0.        , 0.        ,\n",
              "       0.        , 0.        , 0.        , 0.        , 0.        ,\n",
              "       0.        , 0.        , 0.        , 0.        , 0.        ,\n",
              "       0.        , 0.        , 0.        , 0.        , 0.        ,\n",
              "       0.        , 0.        , 0.        , 0.        ])"
            ]
          },
          "metadata": {
            "tags": []
          },
          "execution_count": 474
        }
      ]
    },
    {
      "cell_type": "markdown",
      "metadata": {
        "id": "630c10e4"
      },
      "source": [
        "## data splitting(8:2)"
      ],
      "id": "630c10e4"
    },
    {
      "cell_type": "code",
      "metadata": {
        "ExecuteTime": {
          "end_time": "2021-08-17T14:09:59.185115Z",
          "start_time": "2021-08-17T14:09:58.466063Z"
        },
        "id": "158c736d"
      },
      "source": [
        "# Splitting data into 80% training and 20% test data\n",
        "x_train, x_test, y_train, y_test = train_test_split(\n",
        "    x_norm, y, test_size=0.2, random_state=1, stratify=y)"
      ],
      "id": "158c736d",
      "execution_count": null,
      "outputs": []
    },
    {
      "cell_type": "code",
      "metadata": {
        "ExecuteTime": {
          "end_time": "2021-08-17T14:04:31.958943Z",
          "start_time": "2021-08-17T14:04:31.942442Z"
        },
        "id": "1c216f5b"
      },
      "source": [
        "#x_, x__, y_, y__ = train_test_split(\n",
        "#    x, y, test_size=0.9, random_state=1, stratify=y)\n",
        "#x_train, x_test, y_train, y_test = train_test_split(\n",
        "#    x_, y_, test_size=0.5, random_state=1, stratify=y_)"
      ],
      "id": "1c216f5b",
      "execution_count": null,
      "outputs": []
    },
    {
      "cell_type": "code",
      "metadata": {
        "ExecuteTime": {
          "end_time": "2021-08-17T14:10:02.133074Z",
          "start_time": "2021-08-17T14:10:02.118576Z"
        },
        "id": "7f90780c",
        "outputId": "4c01018f-acf3-4d67-b2e9-96fcbc1de11c"
      },
      "source": [
        "print('x_train: ', x_train.shape)\n",
        "print('x_train: ', y_train.shape)\n",
        "print('x_test : ', x_test.shape)\n",
        "print('y_test : ', y_test.shape)"
      ],
      "id": "7f90780c",
      "execution_count": null,
      "outputs": [
        {
          "output_type": "stream",
          "text": [
            "x_train:  (56000, 784)\n",
            "x_train:  (56000,)\n",
            "x_test :  (14000, 784)\n",
            "y_test :  (14000,)\n"
          ],
          "name": "stdout"
        }
      ]
    },
    {
      "cell_type": "markdown",
      "metadata": {
        "id": "d73f795b"
      },
      "source": [
        "## Std"
      ],
      "id": "d73f795b"
    },
    {
      "cell_type": "code",
      "metadata": {
        "ExecuteTime": {
          "end_time": "2021-08-17T14:04:41.916472Z",
          "start_time": "2021-08-17T14:04:41.910469Z"
        },
        "id": "fd983b86"
      },
      "source": [
        "# Standardizing the features\n",
        "sc = StandardScaler()\n",
        "sc.fit(x_train)\n",
        "x_train_std = sc.transform(x_train)\n",
        "x_test_std = sc.transform(x_test)"
      ],
      "id": "fd983b86",
      "execution_count": null,
      "outputs": []
    },
    {
      "cell_type": "markdown",
      "metadata": {
        "id": "33bd7556"
      },
      "source": [
        "## Training"
      ],
      "id": "33bd7556"
    },
    {
      "cell_type": "code",
      "metadata": {
        "ExecuteTime": {
          "end_time": "2021-08-17T14:18:43.032411Z",
          "start_time": "2021-08-17T14:10:14.636117Z"
        },
        "id": "d39962c2",
        "outputId": "eac1e17a-79ed-4025-b26c-affdb09c5386"
      },
      "source": [
        "lr2 = LogisticRegression(\n",
        "                            C = 1.0,\n",
        "                            max_iter=50,\n",
        "                            multi_class='multinomial',\n",
        "                            solver='newton-cg',\n",
        "                            verbose = 50,\n",
        "                            n_jobs = 16)\n",
        "lr2.fit(x_train_std, y_train)"
      ],
      "id": "d39962c2",
      "execution_count": null,
      "outputs": [
        {
          "output_type": "stream",
          "text": [
            "[Parallel(n_jobs=16)]: Using backend LokyBackend with 16 concurrent workers.\n",
            "[Parallel(n_jobs=16)]: Done   1 out of   1 | elapsed:  8.4min finished\n"
          ],
          "name": "stderr"
        },
        {
          "output_type": "execute_result",
          "data": {
            "text/plain": [
              "LogisticRegression(max_iter=50, multi_class='multinomial', n_jobs=16,\n",
              "                   solver='newton-cg', verbose=1)"
            ]
          },
          "metadata": {
            "tags": []
          },
          "execution_count": 337
        }
      ]
    },
    {
      "cell_type": "markdown",
      "metadata": {
        "id": "4d9c82e4"
      },
      "source": [
        "## Predict"
      ],
      "id": "4d9c82e4"
    },
    {
      "cell_type": "code",
      "metadata": {
        "ExecuteTime": {
          "end_time": "2021-08-17T14:19:18.326478Z",
          "start_time": "2021-08-17T14:19:18.267464Z"
        },
        "id": "e27c065e"
      },
      "source": [
        "y_pred = lr2.predict(x_test)"
      ],
      "id": "e27c065e",
      "execution_count": null,
      "outputs": []
    },
    {
      "cell_type": "code",
      "metadata": {
        "ExecuteTime": {
          "end_time": "2021-08-17T14:19:20.607907Z",
          "start_time": "2021-08-17T14:19:20.602905Z"
        },
        "id": "0a4c2a93",
        "outputId": "4e599ce7-3721-4988-9d01-84c6336ea1a2"
      },
      "source": [
        "y_pred[0]"
      ],
      "id": "0a4c2a93",
      "execution_count": null,
      "outputs": [
        {
          "output_type": "execute_result",
          "data": {
            "text/plain": [
              "3"
            ]
          },
          "metadata": {
            "tags": []
          },
          "execution_count": 339
        }
      ]
    },
    {
      "cell_type": "code",
      "metadata": {
        "id": "X27RBQGWHM6M"
      },
      "source": [
        "y_pred_proba = lr2.predict_proba(x_test_std)"
      ],
      "id": "X27RBQGWHM6M",
      "execution_count": null,
      "outputs": []
    },
    {
      "cell_type": "markdown",
      "metadata": {
        "id": "276e49cd"
      },
      "source": [
        "### Accuracy"
      ],
      "id": "276e49cd"
    },
    {
      "cell_type": "code",
      "metadata": {
        "ExecuteTime": {
          "end_time": "2021-08-17T15:00:14.664745Z",
          "start_time": "2021-08-17T15:00:14.646134Z"
        },
        "id": "ae1c5862",
        "outputId": "ebe70107-f8a5-4570-ac31-2a912739ef9d"
      },
      "source": [
        "from sklearn.metrics import accuracy_score\n",
        "from sklearn.metrics import confusion_matrix\n",
        "\n",
        "print(accuracy_score(y_test, y_pred).round(3))"
      ],
      "id": "ae1c5862",
      "execution_count": null,
      "outputs": [
        {
          "output_type": "stream",
          "text": [
            "0.9156428571428571\n"
          ],
          "name": "stdout"
        }
      ]
    },
    {
      "cell_type": "markdown",
      "metadata": {
        "id": "b0fbba2c"
      },
      "source": [
        "### Confusion Matrix"
      ],
      "id": "b0fbba2c"
    },
    {
      "cell_type": "code",
      "metadata": {
        "ExecuteTime": {
          "end_time": "2021-08-17T15:00:29.509304Z",
          "start_time": "2021-08-17T15:00:28.969738Z"
        },
        "id": "10e61421",
        "outputId": "4dff0839-7129-421a-a1d8-6c3ae0040bd0"
      },
      "source": [
        "cm = confusion_matrix(y_test, y_pred)\n",
        "#print(cm)\n",
        "\n",
        "target_names = np.arange(0, 10, 1)\n",
        "conf_m = pd.DataFrame(\n",
        "                        cm,\n",
        "                        index = target_names,\n",
        "                        columns = target_names\n",
        "                        )\n",
        "fig, ax = plt.subplots(figsize = (10, 6))\n",
        "\n",
        "sns.heatmap(\n",
        "            conf_m, annot=True, annot_kws={\"size\": 10},\n",
        "            cmap='Blues_r',\n",
        "            fmt='g', linewidth=0.5, square=True\n",
        "            )\n",
        "plt.ylabel('True label', fontsize=12)\n",
        "plt.xlabel('Pred label', fontsize=12)\n",
        "plt.yticks(fontsize=12)\n",
        "plt.xticks(fontsize=12)\n",
        "#plt.savefig('cm.png', bbox_inches='tight')\n",
        "plt.show()"
      ],
      "id": "10e61421",
      "execution_count": null,
      "outputs": [
        {
          "output_type": "display_data",
          "data": {
            "image/png": "[encoded data removed]",
            "text/plain": [
              "<Figure size 720x432 with 2 Axes>"
            ]
          },
          "metadata": {
            "tags": [],
            "needs_background": "light"
          }
        }
      ]
    },
    {
      "cell_type": "markdown",
      "metadata": {
        "id": "1349fc63"
      },
      "source": [
        "### other metrics"
      ],
      "id": "1349fc63"
    },
    {
      "cell_type": "code",
      "metadata": {
        "ExecuteTime": {
          "end_time": "2021-08-17T15:00:35.015723Z",
          "start_time": "2021-08-17T15:00:34.975779Z"
        },
        "id": "d0fe1ed1",
        "outputId": "807928ee-272a-4091-ef48-edf6dc89c4f4"
      },
      "source": [
        "from sklearn.metrics import classification_report\n",
        "report = classification_report(y_test, y_pred)\n",
        "print(report)"
      ],
      "id": "d0fe1ed1",
      "execution_count": null,
      "outputs": [
        {
          "output_type": "stream",
          "text": [
            "              precision    recall  f1-score   support\n",
            "\n",
            "           0       0.95      0.96      0.96      1381\n",
            "           1       0.95      0.97      0.96      1575\n",
            "           2       0.91      0.90      0.90      1398\n",
            "           3       0.90      0.89      0.89      1428\n",
            "           4       0.91      0.93      0.92      1365\n",
            "           5       0.88      0.86      0.87      1262\n",
            "           6       0.94      0.94      0.94      1375\n",
            "           7       0.92      0.94      0.93      1459\n",
            "           8       0.89      0.88      0.89      1365\n",
            "           9       0.90      0.88      0.89      1392\n",
            "\n",
            "    accuracy                           0.92     14000\n",
            "   macro avg       0.91      0.91      0.91     14000\n",
            "weighted avg       0.92      0.92      0.92     14000\n",
            "\n"
          ],
          "name": "stdout"
        }
      ]
    },
    {
      "cell_type": "markdown",
      "metadata": {
        "id": "dcecdee3"
      },
      "source": [
        "### Take a view - testing image (a few)"
      ],
      "id": "dcecdee3"
    },
    {
      "cell_type": "code",
      "metadata": {
        "ExecuteTime": {
          "end_time": "2021-08-17T15:56:24.446465Z",
          "start_time": "2021-08-17T15:56:21.814463Z"
        },
        "scrolled": false,
        "id": "a39f9c31",
        "outputId": "d90a066e-d2eb-4382-c3ec-48f661625e0c"
      },
      "source": [
        "num_rows = 4\n",
        "num_cols = 4\n",
        "num_images = num_rows*num_cols\n",
        "n_size = 2\n",
        "plt.figure(figsize=(n_size*n_size*num_cols, (n_size)*num_rows))\n",
        "#plt.figure(figsize=(14, 6))\n",
        "for i in range(0, num_images):\n",
        "    plt.subplot(num_rows, 2*num_cols, 2*i+1)\n",
        "    plt.xticks([])\n",
        "    plt.yticks([])\n",
        "    plt.imshow(np.reshape(x_test[i], (28, 28)), cmap='gray', interpolation=None)\n",
        "    \n",
        "    plt.subplot(num_rows, 2*num_cols, 2*i+2)\n",
        "    plt.xticks(range(0, 10, 1))\n",
        "    plt.ylim(0, 1)\n",
        "    plt.bar( \n",
        "                range(0, 10, 1),\n",
        "                y_pred_proba[i],\n",
        "                color = ['g','darkorange','lightgreen','plum', 'tan',\n",
        "                        'khaki', 'pink', 'skyblue','lawngreen','salmon'] \n",
        "            )\n",
        "    if y_pred[i] == y_test[i]:\n",
        "        color = 'blue'\n",
        "    else:\n",
        "        color = 'red'\n",
        "    plt.title(\n",
        "                'Predicted: {}, Actual: {}'.format(y_pred[i], y_test[i]), \n",
        "                fontsize = 10, \n",
        "                color = color\n",
        "             )\n",
        "plt.tight_layout()\n",
        "plt.show()"
      ],
      "id": "a39f9c31",
      "execution_count": null,
      "outputs": [
        {
          "output_type": "display_data",
          "data": {
            "image/png": "[encoded data removed]",
            "text/plain": [
              "<Figure size 1152x576 with 32 Axes>"
            ]
          },
          "metadata": {
            "tags": [],
            "needs_background": "light"
          }
        }
      ]
    },
    {
      "cell_type": "markdown",
      "metadata": {
        "id": "aae16708"
      },
      "source": [
        "### Take a view - testing image (mistake)"
      ],
      "id": "aae16708"
    },
    {
      "cell_type": "code",
      "metadata": {
        "ExecuteTime": {
          "end_time": "2021-08-17T14:57:21.252002Z",
          "start_time": "2021-08-17T14:57:21.234999Z"
        },
        "id": "b4cc0337"
      },
      "source": [
        "import numpy as np \n",
        "import matplotlib.pyplot as plt\n",
        "index = 0\n",
        "misclassifiedIndexes = []\n",
        "for label, predict in zip(y_test, y_pred):\n",
        "    \n",
        "    if label != predict: \n",
        "        misclassifiedIndexes.append(index)\n",
        "    index +=1   "
      ],
      "id": "b4cc0337",
      "execution_count": null,
      "outputs": []
    },
    {
      "cell_type": "code",
      "metadata": {
        "ExecuteTime": {
          "end_time": "2021-08-17T14:57:28.790497Z",
          "start_time": "2021-08-17T14:57:28.781497Z"
        },
        "id": "22e2bd7c",
        "outputId": "95f42bc1-539c-46a8-d727-5fadbdcaa61f"
      },
      "source": [
        "print(len(misclassifiedIndexes))\n",
        "misclassifiedIndexes[0:5]"
      ],
      "id": "22e2bd7c",
      "execution_count": null,
      "outputs": [
        {
          "output_type": "stream",
          "text": [
            "1181\n"
          ],
          "name": "stdout"
        },
        {
          "output_type": "execute_result",
          "data": {
            "text/plain": [
              "[2, 17, 27, 40, 48]"
            ]
          },
          "metadata": {
            "tags": []
          },
          "execution_count": 358
        }
      ]
    },
    {
      "cell_type": "code",
      "metadata": {
        "ExecuteTime": {
          "end_time": "2021-08-17T15:56:32.131478Z",
          "start_time": "2021-08-17T15:56:31.942406Z"
        },
        "id": "63ee69c9",
        "outputId": "4bc2f63b-9228-4287-d4b1-dfabd13b91bc"
      },
      "source": [
        "i = 2\n",
        "plt.imshow(np.reshape( x_test[i], (28, 28)), cmap='gray', interpolation=None)\n",
        "print('Real: ', y_test[i])\n",
        "print('Predict: ', y_pred[i])"
      ],
      "id": "63ee69c9",
      "execution_count": null,
      "outputs": [
        {
          "output_type": "stream",
          "text": [
            "Real:  8\n",
            "Predict:  0\n"
          ],
          "name": "stdout"
        },
        {
          "output_type": "display_data",
          "data": {
            "image/png": "[encoded data removed]",
            "text/plain": [
              "<Figure size 432x288 with 1 Axes>"
            ]
          },
          "metadata": {
            "tags": [],
            "needs_background": "light"
          }
        }
      ]
    },
    {
      "cell_type": "code",
      "metadata": {
        "ExecuteTime": {
          "end_time": "2021-08-17T15:56:41.364573Z",
          "start_time": "2021-08-17T15:56:39.036517Z"
        },
        "id": "ee72e16c",
        "outputId": "bd32ed46-4b5d-4765-936b-df625c20818d"
      },
      "source": [
        "num_rows = 5\n",
        "num_cols = 3\n",
        "num_images = num_rows*num_cols\n",
        "n_size = 2\n",
        "plt.figure(figsize=(n_size*n_size*num_cols, n_size *num_rows))\n",
        "#plt.figure(figsize=(20,4))\n",
        "for plotIndex, badIndex in enumerate(misclassifiedIndexes[0:num_images]):\n",
        "    #plt.subplot(1, 5, plotIndex + 1)\n",
        "    plt.subplot(num_rows, 2*num_cols, 2*plotIndex+1)\n",
        "    plt.xticks([])\n",
        "    plt.yticks([])\n",
        "    plt.imshow(np.reshape(x_test[badIndex], (28, 28)), cmap='gray', interpolation=None)\n",
        "    plt.title('Predicted: {}, Actual: {}'.format(y_pred[badIndex], y_test[badIndex]), fontsize = 12)\n",
        "    \n",
        "    plt.subplot(num_rows, 2*num_cols, 2*plotIndex+2)\n",
        "    plt.xticks(range(0, 10, 1))\n",
        "    plt.ylim(0, 1)\n",
        "    plt.bar( \n",
        "                range(0, 10, 1),\n",
        "                y_pred_proba[badIndex],\n",
        "                color = ['g','darkorange','lightgreen','plum', 'tan',\n",
        "                        'khaki', 'pink', 'skyblue','lawngreen','salmon']  \n",
        "            )\n",
        "plt.tight_layout()\n",
        "plt.show()"
      ],
      "id": "ee72e16c",
      "execution_count": null,
      "outputs": [
        {
          "output_type": "display_data",
          "data": {
            "image/png": "[encoded data removed]",
            "text/plain": [
              "<Figure size 864x720 with 30 Axes>"
            ]
          },
          "metadata": {
            "tags": [],
            "needs_background": "light"
          }
        }
      ]
    },
    {
      "cell_type": "code",
      "metadata": {
        "ExecuteTime": {
          "end_time": "2021-08-17T12:30:07.668387Z",
          "start_time": "2021-08-17T12:30:07.653868Z"
        },
        "id": "d91224a5",
        "outputId": "e8138dff-c5fa-4f9f-ae7f-351b8f59479e"
      },
      "source": [
        "lr2.coef_.shape"
      ],
      "id": "d91224a5",
      "execution_count": null,
      "outputs": [
        {
          "output_type": "execute_result",
          "data": {
            "text/plain": [
              "(10, 784)"
            ]
          },
          "metadata": {
            "tags": []
          },
          "execution_count": 102
        }
      ]
    },
    {
      "cell_type": "code",
      "metadata": {
        "ExecuteTime": {
          "end_time": "2021-08-17T12:30:08.768469Z",
          "start_time": "2021-08-17T12:30:08.755467Z"
        },
        "id": "10f9a69c",
        "outputId": "5e0e41b7-bb64-4861-cd41-6f8253d06bdb"
      },
      "source": [
        "lr2.intercept_.shape"
      ],
      "id": "10f9a69c",
      "execution_count": null,
      "outputs": [
        {
          "output_type": "execute_result",
          "data": {
            "text/plain": [
              "(10,)"
            ]
          },
          "metadata": {
            "tags": []
          },
          "execution_count": 103
        }
      ]
    },
    {
      "cell_type": "markdown",
      "metadata": {
        "id": "297086c6"
      },
      "source": [
        "## Inference"
      ],
      "id": "297086c6"
    },
    {
      "cell_type": "code",
      "metadata": {
        "id": "ntSqhiDDZvo9"
      },
      "source": [
        "from google.colab import files\n",
        "uploaded = files.upload()"
      ],
      "id": "ntSqhiDDZvo9",
      "execution_count": null,
      "outputs": []
    },
    {
      "cell_type": "code",
      "metadata": {
        "ExecuteTime": {
          "end_time": "2021-08-17T20:56:31.215383Z",
          "start_time": "2021-08-17T20:56:31.197866Z"
        },
        "id": "4f705aa1"
      },
      "source": [
        "image_path = './testing_image.png'\n",
        "image_shape = (28, 28)"
      ],
      "id": "4f705aa1",
      "execution_count": null,
      "outputs": []
    },
    {
      "cell_type": "code",
      "metadata": {
        "ExecuteTime": {
          "end_time": "2021-08-17T20:56:32.330132Z",
          "start_time": "2021-08-17T20:56:32.221056Z"
        },
        "id": "0ab6f4e5",
        "outputId": "54963a4b-5a2b-4a2d-b22b-af434a79c465"
      },
      "source": [
        "from PIL import Image\n",
        "image = Image.open(image_path)\n",
        "image = image.resize(image_shape)\n",
        "plt.imshow(image, cmap='gray', interpolation=None)\n",
        "plt.show()"
      ],
      "id": "0ab6f4e5",
      "execution_count": null,
      "outputs": [
        {
          "output_type": "display_data",
          "data": {
            "image/png": "[encoded data removed]",
            "text/plain": [
              "<Figure size 432x288 with 1 Axes>"
            ]
          },
          "metadata": {
            "tags": [],
            "needs_background": "light"
          }
        }
      ]
    },
    {
      "cell_type": "code",
      "metadata": {
        "ExecuteTime": {
          "end_time": "2021-08-17T20:56:33.291648Z",
          "start_time": "2021-08-17T20:56:33.277646Z"
        },
        "id": "1667aa98"
      },
      "source": [
        "image_np = np.array(image)\n",
        "image_np = image_np/255\n",
        "image_np = image_np[:,:,0]"
      ],
      "id": "1667aa98",
      "execution_count": null,
      "outputs": []
    },
    {
      "cell_type": "code",
      "metadata": {
        "ExecuteTime": {
          "end_time": "2021-08-17T20:56:34.160179Z",
          "start_time": "2021-08-17T20:56:34.146659Z"
        },
        "scrolled": true,
        "id": "5847936d",
        "outputId": "3e169e69-8954-4a28-ce67-e5f888868a29"
      },
      "source": [
        "image_np.shape"
      ],
      "id": "5847936d",
      "execution_count": null,
      "outputs": [
        {
          "output_type": "execute_result",
          "data": {
            "text/plain": [
              "(28, 28)"
            ]
          },
          "metadata": {
            "tags": []
          },
          "execution_count": 717
        }
      ]
    },
    {
      "cell_type": "code",
      "metadata": {
        "ExecuteTime": {
          "end_time": "2021-08-17T20:56:35.033733Z",
          "start_time": "2021-08-17T20:56:35.019730Z"
        },
        "scrolled": true,
        "id": "06d9c848",
        "outputId": "cbe6297c-533c-483d-d3a6-794410953ec4"
      },
      "source": [
        "image_np"
      ],
      "id": "06d9c848",
      "execution_count": null,
      "outputs": [
        {
          "output_type": "execute_result",
          "data": {
            "text/plain": [
              "array([[  0,   0,   0,   0,   0,   0,   0,   0,   0,   0,   0,   0,   0,\n",
              "          0,   0,   0,   0,   0,   0,   0,   0,   0,   0,   0,   0,   0,\n",
              "          0,   0],\n",
              "       [  0,   0,   0,   0,   0,   0,   0,   0,   0,   0,   0,   0,   0,\n",
              "          0,   0,   0,   0,   0,   0,   0,   0,   0,   0,   0,   0,   0,\n",
              "          0,   0],\n",
              "       [  0,   0,   0,   0,   0,   0,   0,   0,   0,   0,   0,   0,   0,\n",
              "          0,   0,   0,   0,   0,   0,   0,   0,   0,   0,   0,   0,   0,\n",
              "          0,   0],\n",
              "       [  0,   0,   0,   0,   0,   0,   0,   0,   0,   0,   0,   0,   0,\n",
              "          0,   0, 255,   0,   0,   0,   0,   0,   0,   0,   0,   0,   0,\n",
              "          0,   0],\n",
              "       [  0,   0,   0,   0,   0,   0,   0,   0,   0,   0,   0,   0,   0,\n",
              "          0, 255,   0,   0,   0,   0,   0,   0,   0,   0,   0,   0,   0,\n",
              "          0,   0],\n",
              "       [  0,   0,   0,   0,   0,   0,   0,   0,   0,   0,   0,   0,   0,\n",
              "          0, 255,   0,   0,   0,   0,   0,   0,   0,   0,   0,   0,   0,\n",
              "          0,   0],\n",
              "       [  0,   0,   0,   0,   0,   0,   0,   0,   0,   0,   0,   0,   0,\n",
              "          0, 255,   0,   0,   0,   0,   0,   0,   0,   0,   0,   0,   0,\n",
              "          0,   0],\n",
              "       [  0,   0,   0,   0,   0,   0,   0,   0,   0,   0,   0,   0,   0,\n",
              "          0, 255,   0,   0,   0,   0,   0,   0,   0,   0,   0,   0,   0,\n",
              "          0,   0],\n",
              "       [  0,   0,   0,   0,   0,   0,   0,   0,   0,   0,   0,   0,   0,\n",
              "        255,   0,   0,   0,   0,   0,   0,   0,   0,   0,   0,   0,   0,\n",
              "          0,   0],\n",
              "       [  0,   0,   0,   0,   0,   0,   0,   0,   0,   0,   0,   0,   0,\n",
              "        255,   0,   0,   0,   0,   0,   0,   0,   0,   0,   0,   0,   0,\n",
              "          0,   0],\n",
              "       [  0,   0,   0,   0,   0,   0,   0,   0,   0,   0,   0,   0, 255,\n",
              "        255,   0,   0,   0,   0,   0,   0,   0,   0,   0,   0,   0,   0,\n",
              "          0,   0],\n",
              "       [  0,   0,   0,   0,   0,   0,   0,   0,   0,   0,   0,   0, 255,\n",
              "          0,   0,   0,   0,   0,   0,   0,   0,   0,   0,   0,   0,   0,\n",
              "          0,   0],\n",
              "       [  0,   0,   0,   0,   0,   0,   0,   0,   0,   0,   0,   0, 255,\n",
              "          0,   0,   0,   0,   0,   0,   0,   0,   0,   0,   0,   0,   0,\n",
              "          0,   0],\n",
              "       [  0,   0,   0,   0,   0,   0,   0,   0,   0,   0,   0,   0, 255,\n",
              "          0,   0,   0,   0,   0,   0,   0,   0,   0,   0,   0,   0,   0,\n",
              "          0,   0],\n",
              "       [  0,   0,   0,   0,   0,   0,   0,   0,   0,   0,   0,   0, 255,\n",
              "          0,   0,   0,   0,   0,   0,   0,   0,   0,   0,   0,   0,   0,\n",
              "          0,   0],\n",
              "       [  0,   0,   0,   0,   0,   0,   0,   0,   0,   0,   0, 255,   0,\n",
              "          0,   0,   0,   0,   0,   0,   0,   0,   0,   0,   0,   0,   0,\n",
              "          0,   0],\n",
              "       [  0,   0,   0,   0,   0,   0,   0,   0,   0,   0,   0, 255,   0,\n",
              "          0,   0,   0,   0,   0,   0,   0,   0,   0,   0,   0,   0,   0,\n",
              "          0,   0],\n",
              "       [  0,   0,   0,   0,   0,   0,   0,   0,   0,   0,   0, 255,   0,\n",
              "          0,   0, 255,   0,   0,   0,   0,   0,   0,   0,   0,   0,   0,\n",
              "          0,   0],\n",
              "       [  0,   0,   0,   0,   0,   0,   0,   0,   0,   0,   0, 255, 255,\n",
              "        255, 255, 255, 255, 255, 255, 255,   0,   0,   0,   0,   0,   0,\n",
              "          0,   0],\n",
              "       [  0,   0,   0,   0,   0,   0,   0,   0,   0,   0, 255,   0, 255,\n",
              "          0,   0,   0,   0,   0, 255,   0,   0,   0,   0,   0,   0,   0,\n",
              "          0,   0],\n",
              "       [  0,   0,   0,   0,   0,   0,   0,   0,   0,   0, 255,   0,   0,\n",
              "          0,   0,   0,   0, 255, 255,   0,   0,   0,   0,   0,   0,   0,\n",
              "          0,   0],\n",
              "       [  0,   0,   0,   0,   0,   0,   0,   0,   0,   0, 255,   0,   0,\n",
              "          0,   0,   0, 255, 255,   0,   0,   0,   0,   0,   0,   0,   0,\n",
              "          0,   0],\n",
              "       [  0,   0,   0,   0,   0,   0,   0,   0,   0,   0, 255,   0,   0,\n",
              "          0,   0, 255, 255,   0,   0,   0,   0,   0,   0,   0,   0,   0,\n",
              "          0,   0],\n",
              "       [  0,   0,   0,   0,   0,   0,   0,   0,   0,   0, 255, 255,   0,\n",
              "        255, 255, 255,   0,   0,   0,   0,   0,   0,   0,   0,   0,   0,\n",
              "          0,   0],\n",
              "       [  0,   0,   0,   0,   0,   0,   0,   0,   0,   0,   0, 255, 255,\n",
              "        255,   0,   0,   0,   0,   0,   0,   0,   0,   0,   0,   0,   0,\n",
              "          0,   0],\n",
              "       [  0,   0,   0,   0,   0,   0,   0,   0,   0,   0,   0,   0,   0,\n",
              "          0,   0,   0,   0,   0,   0,   0,   0,   0,   0,   0,   0,   0,\n",
              "          0,   0],\n",
              "       [  0,   0,   0,   0,   0,   0,   0,   0,   0,   0,   0,   0,   0,\n",
              "          0,   0,   0,   0,   0,   0,   0,   0,   0,   0,   0,   0,   0,\n",
              "          0,   0],\n",
              "       [  0,   0,   0,   0,   0,   0,   0,   0,   0,   0,   0,   0,   0,\n",
              "          0,   0,   0,   0,   0,   0,   0,   0,   0,   0,   0,   0,   0,\n",
              "          0,   0]], dtype=uint8)"
            ]
          },
          "metadata": {
            "tags": []
          },
          "execution_count": 718
        }
      ]
    },
    {
      "cell_type": "code",
      "metadata": {
        "ExecuteTime": {
          "end_time": "2021-08-17T20:56:36.026147Z",
          "start_time": "2021-08-17T20:56:35.934124Z"
        },
        "scrolled": true,
        "id": "5ced51bf",
        "outputId": "6641c0c4-5c4d-4283-acce-b7d95ca36576"
      },
      "source": [
        "plt.imshow(image_np, cmap='gray', interpolation=None)\n",
        "plt.show()"
      ],
      "id": "5ced51bf",
      "execution_count": null,
      "outputs": [
        {
          "output_type": "display_data",
          "data": {
            "image/png": "[encoded data removed]",
            "text/plain": [
              "<Figure size 432x288 with 1 Axes>"
            ]
          },
          "metadata": {
            "tags": [],
            "needs_background": "light"
          }
        }
      ]
    },
    {
      "cell_type": "code",
      "metadata": {
        "ExecuteTime": {
          "end_time": "2021-08-17T20:56:38.085243Z",
          "start_time": "2021-08-17T20:56:38.072238Z"
        },
        "scrolled": true,
        "id": "6c868442"
      },
      "source": [
        "img_test = np.reshape(image_np,(1, 784))"
      ],
      "id": "6c868442",
      "execution_count": null,
      "outputs": []
    },
    {
      "cell_type": "code",
      "metadata": {
        "ExecuteTime": {
          "end_time": "2021-08-17T20:56:38.995224Z",
          "start_time": "2021-08-17T20:56:38.982221Z"
        },
        "id": "162bf10f",
        "outputId": "d09d673c-53a9-4f4f-df99-c55e79c1f661"
      },
      "source": [
        "img_test.shape"
      ],
      "id": "162bf10f",
      "execution_count": null,
      "outputs": [
        {
          "output_type": "execute_result",
          "data": {
            "text/plain": [
              "(1, 784)"
            ]
          },
          "metadata": {
            "tags": []
          },
          "execution_count": 721
        }
      ]
    },
    {
      "cell_type": "code",
      "metadata": {
        "ExecuteTime": {
          "end_time": "2021-08-17T20:56:39.891437Z",
          "start_time": "2021-08-17T20:56:39.878422Z"
        },
        "id": "a227d936"
      },
      "source": [
        "y_test_img = lr2.predict(img_test)"
      ],
      "id": "a227d936",
      "execution_count": null,
      "outputs": []
    },
    {
      "cell_type": "code",
      "metadata": {
        "ExecuteTime": {
          "end_time": "2021-08-17T21:03:01.877395Z",
          "start_time": "2021-08-17T21:03:01.763972Z"
        },
        "id": "f1f1f48f",
        "outputId": "bb311c7a-bed7-4a29-fc63-a35c3c7fb589"
      },
      "source": [
        "print('ML: It is number :',y_test_img[0])\n",
        "plt.imshow(image_np, cmap='gray', interpolation=None)\n",
        "plt.show()"
      ],
      "id": "f1f1f48f",
      "execution_count": null,
      "outputs": [
        {
          "output_type": "stream",
          "text": [
            "ML: It is number : 8\n"
          ],
          "name": "stdout"
        },
        {
          "output_type": "display_data",
          "data": {
            "image/png": "[encoded data removed]",
            "text/plain": [
              "<Figure size 432x288 with 1 Axes>"
            ]
          },
          "metadata": {
            "tags": [],
            "needs_background": "light"
          }
        }
      ]
    },
    {
      "cell_type": "code",
      "metadata": {
        "id": "84af7753"
      },
      "source": [
        ""
      ],
      "id": "84af7753",
      "execution_count": null,
      "outputs": []
    },
    {
      "cell_type": "code",
      "metadata": {
        "id": "460269a5"
      },
      "source": [
        ""
      ],
      "id": "460269a5",
      "execution_count": null,
      "outputs": []
    }
  ]
}