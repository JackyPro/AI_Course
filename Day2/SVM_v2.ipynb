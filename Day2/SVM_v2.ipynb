{
  "nbformat": 4,
  "nbformat_minor": 5,
  "metadata": {
    "kernelspec": {
      "display_name": "Python 3",
      "language": "python",
      "name": "python3"
    },
    "language_info": {
      "codemirror_mode": {
        "name": "ipython",
        "version": 3
      },
      "file_extension": ".py",
      "mimetype": "text/x-python",
      "name": "python",
      "nbconvert_exporter": "python",
      "pygments_lexer": "ipython3",
      "version": "3.7.10"
    },
    "toc": {
      "base_numbering": 1,
      "nav_menu": {},
      "number_sections": true,
      "sideBar": true,
      "skip_h1_title": false,
      "title_cell": "Table of Contents",
      "title_sidebar": "Contents",
      "toc_cell": false,
      "toc_position": {
        "height": "calc(100% - 180px)",
        "left": "10px",
        "top": "150px",
        "width": "384px"
      },
      "toc_section_display": true,
      "toc_window_display": true
    },
    "varInspector": {
      "cols": {
        "lenName": 16,
        "lenType": 16,
        "lenVar": 40
      },
      "kernels_config": {
        "python": {
          "delete_cmd_postfix": "",
          "delete_cmd_prefix": "del ",
          "library": "var_list.py",
          "varRefreshCmd": "print(var_dic_list())"
        },
        "r": {
          "delete_cmd_postfix": ") ",
          "delete_cmd_prefix": "rm(",
          "library": "var_list.r",
          "varRefreshCmd": "cat(var_dic_list()) "
        }
      },
      "types_to_exclude": [
        "module",
        "function",
        "builtin_function_or_method",
        "instance",
        "_Feature"
      ],
      "window_display": false
    },
    "colab": {
      "name": "SVM_v2.ipynb",
      "provenance": [],
      "collapsed_sections": [
        "dfe3e63e",
        "13c2b807"
      ],
      "toc_visible": true,
      "include_colab_link": true
    }
  },
  "cells": [
    {
      "cell_type": "markdown",
      "metadata": {
        "id": "view-in-github",
        "colab_type": "text"
      },
      "source": [
        "<a href=\"https://colab.research.google.com/github/JackyPro/AI_Course/blob/main/Day2/SVM_v2.ipynb\" target=\"_parent\"><img src=\"https://colab.research.google.com/assets/colab-badge.svg\" alt=\"Open In Colab\"/></a>"
      ]
    },
    {
      "cell_type": "markdown",
      "metadata": {
        "id": "ZfclrSfCSc9p"
      },
      "source": [
        "# 1.設定：複製一份程式到自己的雲端上，並且開啟副本"
      ],
      "id": "ZfclrSfCSc9p"
    },
    {
      "cell_type": "markdown",
      "metadata": {
        "id": "WDaaLEuEfY1B"
      },
      "source": [
        "<table>\n",
        "  <tr>\n",
        "    <td bgcolor=#ccffcc>\n",
        "      <center><img src=\"https://github.com/JackyPro/DL_imageclassification/raw/a26c0994e0caf0eac7fb219cdd95f235ded65cc4/img/1.png\" width=70%>\n",
        "      </center>\n",
        "      <center><font size=\"6\">Step 1<br /><br /></font></center> \n",
        "    </td>\n",
        "  </tr>\n",
        "  <tr>\n",
        "    <td bgcolor=#D1EEEE>\n",
        "      <center>\n",
        "        <img src=\"https://github.com/JackyPro/DL_imageclassification/raw/a26c0994e0caf0eac7fb219cdd95f235ded65cc4/img/2.png\" width=70%>\n",
        "      </center>\n",
        "      <center>\n",
        "        <font size=\"6\">Step 2<br /><br /></font>\n",
        "        <font size=\"4\">確認是否為副本<br />\n",
        "        若為副本，代表程式檔已經複製在自己的雲端<br />\n",
        "        可以自行修改檔名<br /><br /></font>\n",
        "      </center> \n",
        "    </td>\n",
        "  </tr>\n",
        "  <tr>\n",
        "    <td bgcolor=#ffffcc>\n",
        "      <center><img src=\"https://github.com/JackyPro/DL_imageclassification/raw/a26c0994e0caf0eac7fb219cdd95f235ded65cc4/img/3.png\" width=70%>\n",
        "      </center>\n",
        "      <center><font size=\"6\">Step 3<br /><br /></font></center> \n",
        "    </td>\n",
        "  </tr>\n",
        "</table>\n",
        "\n"
      ],
      "id": "WDaaLEuEfY1B"
    },
    {
      "cell_type": "markdown",
      "metadata": {
        "id": "dfe3e63e"
      },
      "source": [
        "# 2.Envs"
      ],
      "id": "dfe3e63e"
    },
    {
      "cell_type": "code",
      "metadata": {
        "id": "b3e7235a",
        "colab": {
          "base_uri": "https://localhost:8080/"
        },
        "outputId": "5ffc8a44-876d-4c34-eb74-39c3c2035d2e"
      },
      "source": [
        "from tensorflow.python.client import device_lib\n",
        "print (device_lib.list_local_devices())"
      ],
      "id": "b3e7235a",
      "execution_count": 2,
      "outputs": [
        {
          "output_type": "stream",
          "text": [
            "[name: \"/device:CPU:0\"\n",
            "device_type: \"CPU\"\n",
            "memory_limit: 268435456\n",
            "locality {\n",
            "}\n",
            "incarnation: 8126251002329562222\n",
            "]\n"
          ],
          "name": "stdout"
        }
      ]
    },
    {
      "cell_type": "code",
      "metadata": {
        "id": "10db78f2",
        "colab": {
          "base_uri": "https://localhost:8080/"
        },
        "outputId": "8747c99d-5446-4768-8bec-537833a59113"
      },
      "source": [
        "import platform\n",
        "import tensorflow\n",
        "import tensorflow.keras\n",
        "print(\"Platform: {}\".format(platform.platform()))\n",
        "print(\"Tensorflow version: {}\".format(tensorflow.__version__))\n",
        "print(\"Keras version: {}\".format(tensorflow.keras.__version__))"
      ],
      "id": "10db78f2",
      "execution_count": 3,
      "outputs": [
        {
          "output_type": "stream",
          "text": [
            "Platform: Linux-5.4.104+-x86_64-with-Ubuntu-18.04-bionic\n",
            "Tensorflow version: 2.6.0\n",
            "Keras version: 2.6.0\n"
          ],
          "name": "stdout"
        }
      ]
    },
    {
      "cell_type": "code",
      "metadata": {
        "id": "8a6d898f",
        "colab": {
          "base_uri": "https://localhost:8080/",
          "height": 0
        },
        "outputId": "b0e6231e-6534-492c-9d0b-ded1281b76a3"
      },
      "source": [
        "!python -V\n",
        "platform.python_version()"
      ],
      "id": "8a6d898f",
      "execution_count": 4,
      "outputs": [
        {
          "output_type": "stream",
          "text": [
            "Python 3.7.11\n"
          ],
          "name": "stdout"
        },
        {
          "output_type": "execute_result",
          "data": {
            "application/vnd.google.colaboratory.intrinsic+json": {
              "type": "string"
            },
            "text/plain": [
              "'3.7.11'"
            ]
          },
          "metadata": {},
          "execution_count": 4
        }
      ]
    },
    {
      "cell_type": "code",
      "metadata": {
        "id": "361a9069"
      },
      "source": [
        "import os\n",
        "os.environ[\"CUDA_DEVICE_ORDER\"]=\"PCI_BUS_ID\"  \n",
        "os.environ[\"CUDA_VISIBLE_DEVICES\"]=\"0\""
      ],
      "id": "361a9069",
      "execution_count": 5,
      "outputs": []
    },
    {
      "cell_type": "code",
      "metadata": {
        "id": "317ae01e"
      },
      "source": [
        "import warnings\n",
        "warnings.filterwarnings(\"ignore\")"
      ],
      "id": "317ae01e",
      "execution_count": 6,
      "outputs": []
    },
    {
      "cell_type": "markdown",
      "metadata": {
        "id": "0f845582"
      },
      "source": [
        "# Task1: multi-class classification with sklearn dataset - digits  \n",
        "Logistic Regression model"
      ],
      "id": "0f845582"
    },
    {
      "cell_type": "code",
      "metadata": {
        "ExecuteTime": {
          "end_time": "2021-08-17T21:30:47.027098Z",
          "start_time": "2021-08-17T21:30:47.010088Z"
        },
        "id": "f6a3b9a6"
      },
      "source": [
        "import matplotlib.pyplot as plt\n",
        "import numpy as np\n",
        "import pandas as pd\n",
        "import seaborn as sns\n",
        "from sklearn import datasets\n",
        "from sklearn.svm import SVC\n",
        "from sklearn.model_selection import train_test_split\n",
        "from sklearn import metrics\n",
        "from sklearn.preprocessing import StandardScaler"
      ],
      "id": "f6a3b9a6",
      "execution_count": 7,
      "outputs": []
    },
    {
      "cell_type": "markdown",
      "metadata": {
        "id": "fb9b3485"
      },
      "source": [
        "## Load dataset"
      ],
      "id": "fb9b3485"
    },
    {
      "cell_type": "code",
      "metadata": {
        "ExecuteTime": {
          "end_time": "2021-08-17T21:30:48.627032Z",
          "start_time": "2021-08-17T21:30:48.504006Z"
        },
        "id": "29097c23"
      },
      "source": [
        "digits = datasets.load_digits()#导入digits数据集"
      ],
      "id": "29097c23",
      "execution_count": 8,
      "outputs": []
    },
    {
      "cell_type": "code",
      "metadata": {
        "ExecuteTime": {
          "end_time": "2021-08-17T21:30:48.797534Z",
          "start_time": "2021-08-17T21:30:48.788532Z"
        },
        "id": "3760fc99",
        "colab": {
          "base_uri": "https://localhost:8080/"
        },
        "outputId": "0dafcd76-4144-4ccb-bf59-09bb1674ac13"
      },
      "source": [
        "digits.keys()#查看digits中有哪些属性"
      ],
      "id": "3760fc99",
      "execution_count": 9,
      "outputs": [
        {
          "output_type": "execute_result",
          "data": {
            "text/plain": [
              "dict_keys(['data', 'target', 'target_names', 'images', 'DESCR'])"
            ]
          },
          "metadata": {},
          "execution_count": 9
        }
      ]
    },
    {
      "cell_type": "code",
      "metadata": {
        "ExecuteTime": {
          "end_time": "2021-08-17T21:30:49.067044Z",
          "start_time": "2021-08-17T21:30:49.052047Z"
        },
        "id": "85c61dd7",
        "colab": {
          "base_uri": "https://localhost:8080/"
        },
        "outputId": "8091f761-eafd-415b-8377-781132d395de"
      },
      "source": [
        "digits.data.shape"
      ],
      "id": "85c61dd7",
      "execution_count": 10,
      "outputs": [
        {
          "output_type": "execute_result",
          "data": {
            "text/plain": [
              "(1797, 64)"
            ]
          },
          "metadata": {},
          "execution_count": 10
        }
      ]
    },
    {
      "cell_type": "code",
      "metadata": {
        "ExecuteTime": {
          "end_time": "2021-08-17T21:30:49.399699Z",
          "start_time": "2021-08-17T21:30:49.387699Z"
        },
        "id": "44ebb3a6",
        "colab": {
          "base_uri": "https://localhost:8080/"
        },
        "outputId": "dd7918df-b996-43cd-e2e6-a39fc328699b"
      },
      "source": [
        "digits.images[0]"
      ],
      "id": "44ebb3a6",
      "execution_count": 11,
      "outputs": [
        {
          "output_type": "execute_result",
          "data": {
            "text/plain": [
              "array([[ 0.,  0.,  5., 13.,  9.,  1.,  0.,  0.],\n",
              "       [ 0.,  0., 13., 15., 10., 15.,  5.,  0.],\n",
              "       [ 0.,  3., 15.,  2.,  0., 11.,  8.,  0.],\n",
              "       [ 0.,  4., 12.,  0.,  0.,  8.,  8.,  0.],\n",
              "       [ 0.,  5.,  8.,  0.,  0.,  9.,  8.,  0.],\n",
              "       [ 0.,  4., 11.,  0.,  1., 12.,  7.,  0.],\n",
              "       [ 0.,  2., 14.,  5., 10., 12.,  0.,  0.],\n",
              "       [ 0.,  0.,  6., 13., 10.,  0.,  0.,  0.]])"
            ]
          },
          "metadata": {},
          "execution_count": 11
        }
      ]
    },
    {
      "cell_type": "markdown",
      "metadata": {
        "id": "37552086"
      },
      "source": [
        "## view raw images"
      ],
      "id": "37552086"
    },
    {
      "cell_type": "code",
      "metadata": {
        "ExecuteTime": {
          "end_time": "2021-08-17T21:30:50.405335Z",
          "start_time": "2021-08-17T21:30:50.008518Z"
        },
        "scrolled": false,
        "id": "14ce2e6f",
        "colab": {
          "base_uri": "https://localhost:8080/",
          "height": 363
        },
        "outputId": "269c9fff-c2b7-49c9-e85f-5979e872957c"
      },
      "source": [
        "num_rows = 2\n",
        "num_cols = 5\n",
        "num_images = num_rows*num_cols\n",
        "n_size = 2\n",
        "#plt.figure(figsize=(n_size*n_size*num_cols, n_size*num_rows))\n",
        "plt.figure(figsize=(14, 6))\n",
        "for i in range(0, num_images):\n",
        "    plt.subplot(num_rows, num_cols, i+1)\n",
        "    plt.xticks([])\n",
        "    plt.yticks([])\n",
        "    plt.imshow(digits.images[i], cmap='gray', interpolation=None)\n",
        "    plt.title(\"{} {}\".format( str(\"Number:\"), digits.target[i] ),color = 'black')\n",
        "plt.show()"
      ],
      "id": "14ce2e6f",
      "execution_count": 12,
      "outputs": [
        {
          "output_type": "display_data",
          "data": {
            "image/png": "[encoded data removed]",
            "text/plain": [
              "<Figure size 1008x432 with 10 Axes>"
            ]
          },
          "metadata": {}
        }
      ]
    },
    {
      "cell_type": "code",
      "metadata": {
        "ExecuteTime": {
          "end_time": "2021-08-17T21:30:50.453345Z",
          "start_time": "2021-08-17T21:30:50.440344Z"
        },
        "id": "673065f9"
      },
      "source": [
        "x = digits.data   ##获得数据集中的输入\n",
        "y = digits.target ##获得数据集中的输出，即标签(也就是类别)"
      ],
      "id": "673065f9",
      "execution_count": 13,
      "outputs": []
    },
    {
      "cell_type": "markdown",
      "metadata": {
        "id": "de6a8de6"
      },
      "source": [
        "## data splitting(8:2)"
      ],
      "id": "de6a8de6"
    },
    {
      "cell_type": "code",
      "metadata": {
        "ExecuteTime": {
          "end_time": "2021-08-17T21:30:51.082690Z",
          "start_time": "2021-08-17T21:30:51.076687Z"
        },
        "id": "0a7d6c58"
      },
      "source": [
        "# Splitting data into 80% training and 20% test data\n",
        "x_train, x_test, y_train, y_test = train_test_split(\n",
        "    x, y, test_size=0.2, random_state=1, stratify=y)"
      ],
      "id": "0a7d6c58",
      "execution_count": 14,
      "outputs": []
    },
    {
      "cell_type": "markdown",
      "metadata": {
        "id": "Su_yXP69ZPU2"
      },
      "source": [
        "## GRID SEARCH to find the best model and parameters"
      ],
      "id": "Su_yXP69ZPU2"
    },
    {
      "cell_type": "code",
      "metadata": {
        "id": "4aJ425z3ZPeu"
      },
      "source": [
        "# Import GridSearchCV\n",
        "from sklearn.model_selection import GridSearchCV\n",
        "\n",
        "# Set the parameter candidates\n",
        "parameter_candidates = [\n",
        "  {'C': [ 1 ], 'kernel': ['linear']},\n",
        "  {'C': [ 1, 4, 10], 'gamma': [0.1, 0.01, 0.001], 'kernel': ['rbf']},\n",
        "]"
      ],
      "id": "4aJ425z3ZPeu",
      "execution_count": 15,
      "outputs": []
    },
    {
      "cell_type": "code",
      "metadata": {
        "colab": {
          "base_uri": "https://localhost:8080/"
        },
        "id": "8gKFtaz-ZXNi",
        "outputId": "03ea9f71-88c7-4670-d8be-ae4917ca01a2"
      },
      "source": [
        "# Create a classifier with the parameter candidates\n",
        "clf = GridSearchCV(estimator=SVC(), param_grid=parameter_candidates, n_jobs=-1)\n",
        "\n",
        "# Train the classifier on training data\n",
        "clf.fit(x_train, y_train)"
      ],
      "id": "8gKFtaz-ZXNi",
      "execution_count": 16,
      "outputs": [
        {
          "output_type": "execute_result",
          "data": {
            "text/plain": [
              "GridSearchCV(cv=None, error_score=nan,\n",
              "             estimator=SVC(C=1.0, break_ties=False, cache_size=200,\n",
              "                           class_weight=None, coef0=0.0,\n",
              "                           decision_function_shape='ovr', degree=3,\n",
              "                           gamma='scale', kernel='rbf', max_iter=-1,\n",
              "                           probability=False, random_state=None, shrinking=True,\n",
              "                           tol=0.001, verbose=False),\n",
              "             iid='deprecated', n_jobs=-1,\n",
              "             param_grid=[{'C': [1], 'kernel': ['linear']},\n",
              "                         {'C': [1, 4, 10], 'gamma': [0.1, 0.01, 0.001],\n",
              "                          'kernel': ['rbf']}],\n",
              "             pre_dispatch='2*n_jobs', refit=True, return_train_score=False,\n",
              "             scoring=None, verbose=0)"
            ]
          },
          "metadata": {},
          "execution_count": 16
        }
      ]
    },
    {
      "cell_type": "code",
      "metadata": {
        "colab": {
          "base_uri": "https://localhost:8080/"
        },
        "id": "9td5cJEoZY-9",
        "outputId": "b8669154-2404-4ce7-f7c5-4ac512a62754"
      },
      "source": [
        "# Print out the results \n",
        "print('Best score for training data:', clf.best_score_)\n",
        "print('Best `C`:',clf.best_estimator_.C)\n",
        "print('Best kernel:',clf.best_estimator_.kernel)\n",
        "print('Best `gamma`:',clf.best_estimator_.gamma)"
      ],
      "id": "9td5cJEoZY-9",
      "execution_count": 17,
      "outputs": [
        {
          "output_type": "stream",
          "text": [
            "Best score for training data: 0.9909601238869532\n",
            "Best `C`: 4\n",
            "Best kernel: rbf\n",
            "Best `gamma`: 0.001\n"
          ],
          "name": "stdout"
        }
      ]
    },
    {
      "cell_type": "markdown",
      "metadata": {
        "id": "bbd7be62"
      },
      "source": [
        "## Training"
      ],
      "id": "bbd7be62"
    },
    {
      "cell_type": "code",
      "metadata": {
        "ExecuteTime": {
          "end_time": "2021-08-17T21:32:44.826000Z",
          "start_time": "2021-08-17T21:32:44.686397Z"
        },
        "id": "e8ef1a69",
        "colab": {
          "base_uri": "https://localhost:8080/"
        },
        "outputId": "0102db9e-271b-4199-9d94-b7b592739913"
      },
      "source": [
        "svm1 = SVC(\n",
        "            gamma = 0.001,\n",
        "            kernel = 'rbf',\n",
        "            C = 4,\n",
        "            decision_function_shape = 'ovr',\n",
        "            verbose = 1\n",
        "            )\n",
        "svm1.fit(x_train, y_train)"
      ],
      "id": "e8ef1a69",
      "execution_count": 18,
      "outputs": [
        {
          "output_type": "stream",
          "text": [
            "[LibSVM]"
          ],
          "name": "stdout"
        },
        {
          "output_type": "execute_result",
          "data": {
            "text/plain": [
              "SVC(C=1.0, break_ties=False, cache_size=200, class_weight=None, coef0=0.0,\n",
              "    decision_function_shape='ovr', degree=3, gamma='scale', kernel='rbf',\n",
              "    max_iter=-1, probability=False, random_state=None, shrinking=True,\n",
              "    tol=0.001, verbose=1)"
            ]
          },
          "metadata": {},
          "execution_count": 18
        }
      ]
    },
    {
      "cell_type": "markdown",
      "metadata": {
        "id": "0ab985d1"
      },
      "source": [
        "## Predict"
      ],
      "id": "0ab985d1"
    },
    {
      "cell_type": "code",
      "metadata": {
        "ExecuteTime": {
          "end_time": "2021-08-17T21:32:51.266242Z",
          "start_time": "2021-08-17T21:32:51.226228Z"
        },
        "id": "a8997daf"
      },
      "source": [
        "y_pred = svm1.predict(x_test)"
      ],
      "id": "a8997daf",
      "execution_count": 19,
      "outputs": []
    },
    {
      "cell_type": "markdown",
      "metadata": {
        "id": "d3f606bf"
      },
      "source": [
        "### Accuracy"
      ],
      "id": "d3f606bf"
    },
    {
      "cell_type": "code",
      "metadata": {
        "ExecuteTime": {
          "end_time": "2021-08-17T21:33:05.910057Z",
          "start_time": "2021-08-17T21:33:05.891053Z"
        },
        "id": "bb711381",
        "colab": {
          "base_uri": "https://localhost:8080/"
        },
        "outputId": "22fe8732-09ae-4746-bf7e-12a3ed08a0d7"
      },
      "source": [
        "from sklearn.metrics import accuracy_score\n",
        "from sklearn.metrics import confusion_matrix\n",
        "\n",
        "print('accuracy score: ', accuracy_score(y_test, y_pred).round(3))"
      ],
      "id": "bb711381",
      "execution_count": 20,
      "outputs": [
        {
          "output_type": "stream",
          "text": [
            "accuracy score:  0.992\n"
          ],
          "name": "stdout"
        }
      ]
    },
    {
      "cell_type": "markdown",
      "metadata": {
        "id": "22dd69ac"
      },
      "source": [
        "### Confusion Matrix"
      ],
      "id": "22dd69ac"
    },
    {
      "cell_type": "code",
      "metadata": {
        "ExecuteTime": {
          "end_time": "2021-08-17T21:33:12.692073Z",
          "start_time": "2021-08-17T21:33:12.181294Z"
        },
        "id": "7a9a7deb",
        "colab": {
          "base_uri": "https://localhost:8080/",
          "height": 394
        },
        "outputId": "93c46087-f5f1-43a4-8b67-3074f482fc52"
      },
      "source": [
        "cm = confusion_matrix(y_test, y_pred)\n",
        "#print(cm)\n",
        "\n",
        "target_names = np.arange(0, 10, 1)\n",
        "conf_m = pd.DataFrame(\n",
        "                        cm,\n",
        "                        index = target_names,\n",
        "                        columns = target_names\n",
        "                        )\n",
        "fig, ax = plt.subplots(figsize = (10, 6))\n",
        "\n",
        "sns.heatmap(\n",
        "            conf_m, annot=True, annot_kws={\"size\": 10},\n",
        "            cmap='Blues_r',\n",
        "            fmt='g', linewidth=0.5, square=True\n",
        "            )\n",
        "plt.ylabel('True label', fontsize=12)\n",
        "plt.xlabel('Pred label', fontsize=12)\n",
        "plt.yticks(fontsize=12)\n",
        "plt.xticks(fontsize=12)\n",
        "#plt.savefig('cm.png', bbox_inches='tight')\n",
        "plt.show()"
      ],
      "id": "7a9a7deb",
      "execution_count": 21,
      "outputs": [
        {
          "output_type": "display_data",
          "data": {
            "image/png": "[encoded data removed]",
            "text/plain": [
              "<Figure size 720x432 with 2 Axes>"
            ]
          },
          "metadata": {
            "needs_background": "light"
          }
        }
      ]
    },
    {
      "cell_type": "markdown",
      "metadata": {
        "id": "13c2b807"
      },
      "source": [
        "### other metrics"
      ],
      "id": "13c2b807"
    },
    {
      "cell_type": "code",
      "metadata": {
        "ExecuteTime": {
          "end_time": "2021-08-17T21:33:15.421934Z",
          "start_time": "2021-08-17T21:33:15.409932Z"
        },
        "id": "54d626d7",
        "colab": {
          "base_uri": "https://localhost:8080/"
        },
        "outputId": "84dc067c-058e-4685-bd2d-30e2d26dda4e"
      },
      "source": [
        "from sklearn.metrics import classification_report\n",
        "report = classification_report(y_test, y_pred)\n",
        "print(report)"
      ],
      "id": "54d626d7",
      "execution_count": 22,
      "outputs": [
        {
          "output_type": "stream",
          "text": [
            "              precision    recall  f1-score   support\n",
            "\n",
            "           0       1.00      1.00      1.00        36\n",
            "           1       0.97      1.00      0.99        36\n",
            "           2       1.00      1.00      1.00        35\n",
            "           3       1.00      1.00      1.00        37\n",
            "           4       1.00      1.00      1.00        36\n",
            "           5       1.00      0.95      0.97        37\n",
            "           6       0.97      1.00      0.99        36\n",
            "           7       1.00      1.00      1.00        36\n",
            "           8       1.00      0.97      0.99        35\n",
            "           9       0.97      1.00      0.99        36\n",
            "\n",
            "    accuracy                           0.99       360\n",
            "   macro avg       0.99      0.99      0.99       360\n",
            "weighted avg       0.99      0.99      0.99       360\n",
            "\n"
          ],
          "name": "stdout"
        }
      ]
    },
    {
      "cell_type": "markdown",
      "metadata": {
        "id": "19669d75"
      },
      "source": [
        "### Take a view - testing image (a few)"
      ],
      "id": "19669d75"
    },
    {
      "cell_type": "code",
      "metadata": {
        "ExecuteTime": {
          "end_time": "2021-08-17T21:36:51.194347Z",
          "start_time": "2021-08-17T21:36:50.577694Z"
        },
        "scrolled": false,
        "id": "e9c78eb4",
        "colab": {
          "base_uri": "https://localhost:8080/",
          "height": 585
        },
        "outputId": "abda6f3e-312b-4b81-8ea2-1f1891a04dc9"
      },
      "source": [
        "num_rows = 4\n",
        "num_cols = 4\n",
        "num_images = num_rows*num_cols\n",
        "n_size = 2\n",
        "plt.figure(figsize=(n_size*n_size*num_cols, (n_size)*num_rows))\n",
        "#plt.figure(figsize=(14, 6))\n",
        "for i in range(0, num_images):\n",
        "    plt.subplot(num_rows, 1*num_cols, 1*i+1)\n",
        "    plt.xticks([])\n",
        "    plt.yticks([])\n",
        "    plt.imshow(np.reshape(x_test[i], (8, 8)), cmap='gray', interpolation=None)\n",
        "\n",
        "    if y_pred[i] == y_test[i]:\n",
        "        color = 'blue'\n",
        "    else:\n",
        "        color = 'red'\n",
        "    plt.title(\n",
        "                'Predicted: {}, Actual: {}'.format(y_pred[i], y_test[i]), \n",
        "                fontsize = 10, \n",
        "                color = color\n",
        "             )\n",
        "plt.tight_layout()\n",
        "plt.show()"
      ],
      "id": "e9c78eb4",
      "execution_count": 23,
      "outputs": [
        {
          "output_type": "display_data",
          "data": {
            "image/png": "[encoded data removed]",
            "text/plain": [
              "<Figure size 1152x576 with 16 Axes>"
            ]
          },
          "metadata": {}
        }
      ]
    },
    {
      "cell_type": "markdown",
      "metadata": {
        "id": "fd2c50f0"
      },
      "source": [
        "### Take a view - testing image (mistake)"
      ],
      "id": "fd2c50f0"
    },
    {
      "cell_type": "code",
      "metadata": {
        "ExecuteTime": {
          "end_time": "2021-08-17T21:37:01.956092Z",
          "start_time": "2021-08-17T21:37:01.941084Z"
        },
        "id": "16bc0635"
      },
      "source": [
        "import numpy as np \n",
        "import matplotlib.pyplot as plt\n",
        "index = 0\n",
        "misclassifiedIndexes = []\n",
        "for label, predict in zip(y_test, y_pred):\n",
        "    \n",
        "    if label != predict: \n",
        "        misclassifiedIndexes.append(index)\n",
        "    index +=1   "
      ],
      "id": "16bc0635",
      "execution_count": 24,
      "outputs": []
    },
    {
      "cell_type": "code",
      "metadata": {
        "ExecuteTime": {
          "end_time": "2021-08-17T21:37:03.395300Z",
          "start_time": "2021-08-17T21:37:03.245751Z"
        },
        "id": "9518347d",
        "colab": {
          "base_uri": "https://localhost:8080/",
          "height": 299
        },
        "outputId": "5bfc1f61-1618-403a-c674-b034b8203d43"
      },
      "source": [
        "i = 2\n",
        "plt.imshow(np.reshape( x_test[i], (8, 8)), cmap=plt.cm.gray)\n",
        "print('Real: ', y_test[i])\n",
        "print('Predict: ', y_pred[i])"
      ],
      "id": "9518347d",
      "execution_count": 25,
      "outputs": [
        {
          "output_type": "stream",
          "text": [
            "Real:  5\n",
            "Predict:  5\n"
          ],
          "name": "stdout"
        },
        {
          "output_type": "display_data",
          "data": {
            "image/png": "[encoded data removed]",
            "text/plain": [
              "<Figure size 432x288 with 1 Axes>"
            ]
          },
          "metadata": {
            "needs_background": "light"
          }
        }
      ]
    },
    {
      "cell_type": "code",
      "metadata": {
        "ExecuteTime": {
          "end_time": "2021-08-17T21:37:05.721619Z",
          "start_time": "2021-08-17T21:37:05.715618Z"
        },
        "id": "3ea4fa77",
        "colab": {
          "base_uri": "https://localhost:8080/"
        },
        "outputId": "dfd32b94-cc81-4974-8456-8b809f8b3bcb"
      },
      "source": [
        "print(len(misclassifiedIndexes))\n",
        "misclassifiedIndexes[0:5]"
      ],
      "id": "3ea4fa77",
      "execution_count": 26,
      "outputs": [
        {
          "output_type": "stream",
          "text": [
            "3\n"
          ],
          "name": "stdout"
        },
        {
          "output_type": "execute_result",
          "data": {
            "text/plain": [
              "[44, 232, 354]"
            ]
          },
          "metadata": {},
          "execution_count": 26
        }
      ]
    },
    {
      "cell_type": "code",
      "metadata": {
        "ExecuteTime": {
          "end_time": "2021-08-17T21:37:32.215931Z",
          "start_time": "2021-08-17T21:37:32.033355Z"
        },
        "id": "8dc20875",
        "colab": {
          "base_uri": "https://localhost:8080/",
          "height": 175
        },
        "outputId": "424394cf-9e13-4910-c9e0-4b713776d6b2"
      },
      "source": [
        "num_rows = 5\n",
        "num_cols = 3\n",
        "num_images = num_rows*num_cols\n",
        "n_size = 2\n",
        "plt.figure(figsize=(n_size*n_size*num_cols, n_size *num_rows))\n",
        "#plt.figure(figsize=(20,4))\n",
        "for plotIndex, badIndex in enumerate(misclassifiedIndexes[0:num_images]):\n",
        "    #plt.subplot(1, 5, plotIndex + 1)\n",
        "    plt.subplot(num_rows, 1*num_cols, 1*plotIndex+1)\n",
        "    plt.xticks([])\n",
        "    plt.yticks([])\n",
        "    plt.imshow(np.reshape(x_test[badIndex], (8, 8)), cmap='gray', interpolation=None)\n",
        "    plt.title('Predicted: {}, Actual: {}'.format(y_pred[badIndex],y_test[badIndex]), fontsize = 12)\n",
        "plt.tight_layout()\n",
        "plt.show()"
      ],
      "id": "8dc20875",
      "execution_count": 27,
      "outputs": [
        {
          "output_type": "display_data",
          "data": {
            "image/png": "[encoded data removed]",
            "text/plain": [
              "<Figure size 864x720 with 3 Axes>"
            ]
          },
          "metadata": {}
        }
      ]
    },
    {
      "cell_type": "markdown",
      "metadata": {
        "id": "3c246a52"
      },
      "source": [
        "---"
      ],
      "id": "3c246a52"
    },
    {
      "cell_type": "markdown",
      "metadata": {
        "id": "28c1460a"
      },
      "source": [
        "# Task2: multi-class classification with Mnist"
      ],
      "id": "28c1460a"
    },
    {
      "cell_type": "markdown",
      "metadata": {
        "id": "3c5032e6"
      },
      "source": [
        "## Load dataset"
      ],
      "id": "3c5032e6"
    },
    {
      "cell_type": "code",
      "metadata": {
        "ExecuteTime": {
          "end_time": "2021-08-17T21:38:24.779331Z",
          "start_time": "2021-08-17T21:37:40.261376Z"
        },
        "id": "cd12a8e6"
      },
      "source": [
        "from sklearn.datasets import fetch_openml\n",
        "mnist = fetch_openml(\"mnist_784\")"
      ],
      "id": "cd12a8e6",
      "execution_count": 28,
      "outputs": []
    },
    {
      "cell_type": "code",
      "metadata": {
        "ExecuteTime": {
          "end_time": "2021-08-17T21:38:24.998283Z",
          "start_time": "2021-08-17T21:38:24.984283Z"
        },
        "id": "8b0b531b",
        "colab": {
          "base_uri": "https://localhost:8080/"
        },
        "outputId": "d9bbf3ab-7ca5-4c54-9499-bf22426d92f7"
      },
      "source": [
        "mnist.keys()"
      ],
      "id": "8b0b531b",
      "execution_count": 29,
      "outputs": [
        {
          "output_type": "execute_result",
          "data": {
            "text/plain": [
              "dict_keys(['data', 'target', 'frame', 'feature_names', 'target_names', 'DESCR', 'details', 'categories', 'url'])"
            ]
          },
          "metadata": {},
          "execution_count": 29
        }
      ]
    },
    {
      "cell_type": "code",
      "metadata": {
        "ExecuteTime": {
          "end_time": "2021-08-17T21:38:25.138089Z",
          "start_time": "2021-08-17T21:38:25.124075Z"
        },
        "id": "0b19e2d7",
        "colab": {
          "base_uri": "https://localhost:8080/"
        },
        "outputId": "2c51a930-a88a-4b53-df10-103477a8dc86"
      },
      "source": [
        "mnist.data.shape"
      ],
      "id": "0b19e2d7",
      "execution_count": 30,
      "outputs": [
        {
          "output_type": "execute_result",
          "data": {
            "text/plain": [
              "(70000, 784)"
            ]
          },
          "metadata": {},
          "execution_count": 30
        }
      ]
    },
    {
      "cell_type": "code",
      "metadata": {
        "ExecuteTime": {
          "end_time": "2021-08-17T21:38:25.405647Z",
          "start_time": "2021-08-17T21:38:25.343633Z"
        },
        "id": "8084a6e3",
        "colab": {
          "base_uri": "https://localhost:8080/"
        },
        "outputId": "e8b8952d-2081-4803-d113-a6b324a4cd8b"
      },
      "source": [
        "mnist['data']"
      ],
      "id": "8084a6e3",
      "execution_count": 31,
      "outputs": [
        {
          "output_type": "execute_result",
          "data": {
            "text/plain": [
              "array([[0., 0., 0., ..., 0., 0., 0.],\n",
              "       [0., 0., 0., ..., 0., 0., 0.],\n",
              "       [0., 0., 0., ..., 0., 0., 0.],\n",
              "       ...,\n",
              "       [0., 0., 0., ..., 0., 0., 0.],\n",
              "       [0., 0., 0., ..., 0., 0., 0.],\n",
              "       [0., 0., 0., ..., 0., 0., 0.]])"
            ]
          },
          "metadata": {},
          "execution_count": 31
        }
      ]
    },
    {
      "cell_type": "markdown",
      "metadata": {
        "id": "1cdbcfe8"
      },
      "source": [
        "## view raw images"
      ],
      "id": "1cdbcfe8"
    },
    {
      "cell_type": "code",
      "metadata": {
        "ExecuteTime": {
          "end_time": "2021-08-17T21:38:25.565715Z",
          "start_time": "2021-08-17T21:38:25.550707Z"
        },
        "id": "c08c6b48",
        "colab": {
          "base_uri": "https://localhost:8080/"
        },
        "outputId": "6a4a462d-5715-412d-8382-827e8db13cfa"
      },
      "source": [
        "mnist['data'][0].shape"
      ],
      "id": "c08c6b48",
      "execution_count": 32,
      "outputs": [
        {
          "output_type": "execute_result",
          "data": {
            "text/plain": [
              "(784,)"
            ]
          },
          "metadata": {},
          "execution_count": 32
        }
      ]
    },
    {
      "cell_type": "code",
      "metadata": {
        "ExecuteTime": {
          "end_time": "2021-08-17T21:38:26.091614Z",
          "start_time": "2021-08-17T21:38:25.727352Z"
        },
        "id": "6923075f",
        "colab": {
          "base_uri": "https://localhost:8080/",
          "height": 363
        },
        "outputId": "1952a39b-12a8-40f9-be33-59f9e0da7745"
      },
      "source": [
        "num_rows = 2\n",
        "num_cols = 5\n",
        "num_images = num_rows*num_cols\n",
        "n_size = 2\n",
        "#plt.figure(figsize=(n_size*n_size*num_cols, n_size*num_rows))\n",
        "plt.figure(figsize=(14, 6))\n",
        "for i in range(0, num_images):\n",
        "    plt.subplot(num_rows, num_cols, i+1)\n",
        "    plt.xticks([])\n",
        "    plt.yticks([])\n",
        "    plt.imshow(mnist['data'][i].reshape(28, 28), cmap='gray', interpolation=None)\n",
        "    plt.title(\"{} {}\".format( str(\"Number:\"), mnist['target'][i] ),color = 'black')\n",
        "plt.show()"
      ],
      "id": "6923075f",
      "execution_count": 33,
      "outputs": [
        {
          "output_type": "display_data",
          "data": {
            "image/png": "[encoded data removed]",
            "text/plain": [
              "<Figure size 1008x432 with 10 Axes>"
            ]
          },
          "metadata": {}
        }
      ]
    },
    {
      "cell_type": "code",
      "metadata": {
        "ExecuteTime": {
          "end_time": "2021-08-17T21:38:26.313753Z",
          "start_time": "2021-08-17T21:38:26.299750Z"
        },
        "id": "862289a4"
      },
      "source": [
        "x = mnist['data']\n",
        "y = mnist['target'].astype(int)"
      ],
      "id": "862289a4",
      "execution_count": 34,
      "outputs": []
    },
    {
      "cell_type": "markdown",
      "metadata": {
        "id": "83f92edd"
      },
      "source": [
        "## normalization"
      ],
      "id": "83f92edd"
    },
    {
      "cell_type": "code",
      "metadata": {
        "ExecuteTime": {
          "end_time": "2021-08-17T21:38:26.711553Z",
          "start_time": "2021-08-17T21:38:26.505314Z"
        },
        "id": "1ab14844"
      },
      "source": [
        "x_norm = x/255"
      ],
      "id": "1ab14844",
      "execution_count": 35,
      "outputs": []
    },
    {
      "cell_type": "code",
      "metadata": {
        "ExecuteTime": {
          "end_time": "2021-08-17T21:38:27.344608Z",
          "start_time": "2021-08-17T21:38:26.950780Z"
        },
        "id": "af5c5895",
        "colab": {
          "base_uri": "https://localhost:8080/",
          "height": 363
        },
        "outputId": "d15d9188-1907-4212-d8ca-f1979be7baf9"
      },
      "source": [
        "num_rows = 2\n",
        "num_cols = 5\n",
        "num_images = num_rows*num_cols\n",
        "n_size = 2\n",
        "#plt.figure(figsize=(n_size*n_size*num_cols, n_size*num_rows))\n",
        "plt.figure(figsize=(14, 6))\n",
        "for i in range(0, num_images):\n",
        "    plt.subplot(num_rows, num_cols, i+1)\n",
        "    plt.xticks([])\n",
        "    plt.yticks([])\n",
        "    plt.imshow(x_norm[i].reshape(28, 28), cmap='gray', interpolation=None)\n",
        "    plt.title(\"{} {}\".format( str(\"Number:\"), mnist['target'][i] ),color = 'black')\n",
        "plt.show()"
      ],
      "id": "af5c5895",
      "execution_count": 36,
      "outputs": [
        {
          "output_type": "display_data",
          "data": {
            "image/png": "[encoded data removed]",
            "text/plain": [
              "<Figure size 1008x432 with 10 Axes>"
            ]
          },
          "metadata": {}
        }
      ]
    },
    {
      "cell_type": "markdown",
      "metadata": {
        "id": "38905025"
      },
      "source": [
        "## data splitting(8:2)"
      ],
      "id": "38905025"
    },
    {
      "cell_type": "code",
      "metadata": {
        "ExecuteTime": {
          "end_time": "2021-08-17T21:38:28.596286Z",
          "start_time": "2021-08-17T21:38:27.915014Z"
        },
        "id": "11604869"
      },
      "source": [
        "## Splitting data into 80% training and 20% test data\n",
        "#x_train, x_test, y_train, y_test = train_test_split(\n",
        "#    x_norm, y, test_size=0.2, random_state=1, stratify=y)"
      ],
      "id": "11604869",
      "execution_count": 38,
      "outputs": []
    },
    {
      "cell_type": "code",
      "metadata": {
        "ExecuteTime": {
          "end_time": "2021-08-17T21:38:29.149468Z",
          "start_time": "2021-08-17T21:38:29.136463Z"
        },
        "id": "e2e5263f"
      },
      "source": [
        "x_1, _, y_1, _  = train_test_split( x_norm, y, test_size=0.5, random_state=1, stratify=y)\n",
        "x_2, _, y_2, _    = train_test_split( x_1, y_1, test_size=0.75, random_state=1, stratify=y_1)\n",
        "x_train, x_test, y_train, y_test = train_test_split( x_2, y_2, test_size=0.2, random_state=1, stratify=y_2)"
      ],
      "id": "e2e5263f",
      "execution_count": 44,
      "outputs": []
    },
    {
      "cell_type": "code",
      "metadata": {
        "ExecuteTime": {
          "end_time": "2021-08-17T21:38:29.513669Z",
          "start_time": "2021-08-17T21:38:29.499665Z"
        },
        "id": "877571b2",
        "colab": {
          "base_uri": "https://localhost:8080/"
        },
        "outputId": "1dc1a429-b824-478b-a43b-1a375231a57f"
      },
      "source": [
        "print('x_train: ', x_train.shape)\n",
        "print('x_train: ', y_train.shape)\n",
        "print('x_test : ', x_test.shape)\n",
        "print('y_test : ', y_test.shape)"
      ],
      "id": "877571b2",
      "execution_count": 45,
      "outputs": [
        {
          "output_type": "stream",
          "text": [
            "x_train:  (7000, 784)\n",
            "x_train:  (7000,)\n",
            "x_test :  (1750, 784)\n",
            "y_test :  (1750,)\n"
          ],
          "name": "stdout"
        }
      ]
    },
    {
      "cell_type": "code",
      "metadata": {
        "colab": {
          "base_uri": "https://localhost:8080/"
        },
        "id": "hEGeCC5XZm6I",
        "outputId": "ec8f167a-264e-4e5b-a8d4-7bd7b433d9a6"
      },
      "source": [
        "value, count = np.unique(y_train,  return_counts=True)\n",
        "print(value, count)"
      ],
      "id": "hEGeCC5XZm6I",
      "execution_count": 46,
      "outputs": [
        {
          "output_type": "stream",
          "text": [
            "[0 1 2 3 4 5 6 7 8 9] [690 788 699 714 683 631 687 730 683 695]\n"
          ],
          "name": "stdout"
        }
      ]
    },
    {
      "cell_type": "markdown",
      "metadata": {
        "id": "3OHzBDF-ZoGa"
      },
      "source": [
        "## GRID SEARCH to find the best model and parameters"
      ],
      "id": "3OHzBDF-ZoGa"
    },
    {
      "cell_type": "code",
      "metadata": {
        "id": "m6xafOlpZriM"
      },
      "source": [
        "# Import GridSearchCV\n",
        "from sklearn.model_selection import GridSearchCV\n",
        "\n",
        "# Set the parameter candidates\n",
        "parameter_candidates = [\n",
        "  {'C': [ 1 ], 'kernel': ['linear']},\n",
        "  {'C': [ 1, 4, 10], 'gamma': [0.1, 0.01, 0.001], 'kernel': ['rbf']},\n",
        "]"
      ],
      "id": "m6xafOlpZriM",
      "execution_count": 47,
      "outputs": []
    },
    {
      "cell_type": "code",
      "metadata": {
        "colab": {
          "base_uri": "https://localhost:8080/"
        },
        "id": "UPR8e6YuZrgM",
        "outputId": "b5e2719b-edfa-4448-f641-995639f05629"
      },
      "source": [
        "# Create a classifier with the parameter candidates\n",
        "clf = GridSearchCV(estimator=SVC(), param_grid=parameter_candidates, n_jobs=-1)\n",
        "\n",
        "# Train the classifier on training data\n",
        "clf.fit(x_train, y_train)"
      ],
      "id": "UPR8e6YuZrgM",
      "execution_count": 48,
      "outputs": [
        {
          "output_type": "execute_result",
          "data": {
            "text/plain": [
              "GridSearchCV(cv=None, error_score=nan,\n",
              "             estimator=SVC(C=1.0, break_ties=False, cache_size=200,\n",
              "                           class_weight=None, coef0=0.0,\n",
              "                           decision_function_shape='ovr', degree=3,\n",
              "                           gamma='scale', kernel='rbf', max_iter=-1,\n",
              "                           probability=False, random_state=None, shrinking=True,\n",
              "                           tol=0.001, verbose=False),\n",
              "             iid='deprecated', n_jobs=-1,\n",
              "             param_grid=[{'C': [1], 'kernel': ['linear']},\n",
              "                         {'C': [1, 4, 10], 'gamma': [0.1, 0.01, 0.001],\n",
              "                          'kernel': ['rbf']}],\n",
              "             pre_dispatch='2*n_jobs', refit=True, return_train_score=False,\n",
              "             scoring=None, verbose=0)"
            ]
          },
          "metadata": {},
          "execution_count": 48
        }
      ]
    },
    {
      "cell_type": "code",
      "metadata": {
        "colab": {
          "base_uri": "https://localhost:8080/"
        },
        "id": "xLWqipLvZrdq",
        "outputId": "3efe62d3-e6ea-496e-d560-107410827c72"
      },
      "source": [
        "# Print out the results \n",
        "print('Best score for training data:', clf.best_score_)\n",
        "print('Best `C`:',clf.best_estimator_.C)\n",
        "print('Best kernel:',clf.best_estimator_.kernel)\n",
        "print('Best `gamma`:',clf.best_estimator_.gamma)"
      ],
      "id": "xLWqipLvZrdq",
      "execution_count": 49,
      "outputs": [
        {
          "output_type": "stream",
          "text": [
            "Best score for training data: 0.9562857142857142\n",
            "Best `C`: 10\n",
            "Best kernel: rbf\n",
            "Best `gamma`: 0.01\n"
          ],
          "name": "stdout"
        }
      ]
    },
    {
      "cell_type": "markdown",
      "metadata": {
        "id": "19f08e92"
      },
      "source": [
        "## Training"
      ],
      "id": "19f08e92"
    },
    {
      "cell_type": "code",
      "metadata": {
        "ExecuteTime": {
          "end_time": "2021-08-17T22:46:19.399413Z",
          "start_time": "2021-08-17T22:40:45.841981Z"
        },
        "id": "0c693bdd",
        "colab": {
          "base_uri": "https://localhost:8080/"
        },
        "outputId": "b1f32a27-4d93-4401-d6d9-573b55fc144f"
      },
      "source": [
        "svm2 = SVC(\n",
        "            gamma = 0.01,\n",
        "            kernel = 'rbf',\n",
        "            C = 10,\n",
        "            decision_function_shape = 'ovr',\n",
        "            verbose = 1\n",
        "            )\n",
        "svm2.fit(x_train, y_train)"
      ],
      "id": "0c693bdd",
      "execution_count": 59,
      "outputs": [
        {
          "output_type": "stream",
          "text": [
            "[LibSVM]"
          ],
          "name": "stdout"
        },
        {
          "output_type": "execute_result",
          "data": {
            "text/plain": [
              "SVC(C=10, break_ties=False, cache_size=200, class_weight=None, coef0=0.0,\n",
              "    decision_function_shape='ovr', degree=3, gamma=0.01, kernel='rbf',\n",
              "    max_iter=-1, probability=False, random_state=None, shrinking=True,\n",
              "    tol=0.001, verbose=1)"
            ]
          },
          "metadata": {},
          "execution_count": 59
        }
      ]
    },
    {
      "cell_type": "markdown",
      "metadata": {
        "id": "c81dcd3b"
      },
      "source": [
        "## Predict"
      ],
      "id": "c81dcd3b"
    },
    {
      "cell_type": "code",
      "metadata": {
        "ExecuteTime": {
          "end_time": "2021-08-17T22:51:18.161864Z",
          "start_time": "2021-08-17T22:49:40.108405Z"
        },
        "id": "892d8e25"
      },
      "source": [
        "y_pred = svm2.predict(x_test)"
      ],
      "id": "892d8e25",
      "execution_count": 60,
      "outputs": []
    },
    {
      "cell_type": "markdown",
      "metadata": {
        "id": "a610ba4b"
      },
      "source": [
        "### Accuracy"
      ],
      "id": "a610ba4b"
    },
    {
      "cell_type": "code",
      "metadata": {
        "ExecuteTime": {
          "end_time": "2021-08-17T22:51:50.187329Z",
          "start_time": "2021-08-17T22:51:50.174715Z"
        },
        "id": "314922b2",
        "colab": {
          "base_uri": "https://localhost:8080/"
        },
        "outputId": "c0a81874-5b1d-43bf-ca6a-35c803189c22"
      },
      "source": [
        "from sklearn.metrics import accuracy_score\n",
        "from sklearn.metrics import confusion_matrix\n",
        "\n",
        "print(accuracy_score(y_test, y_pred).round(3))"
      ],
      "id": "314922b2",
      "execution_count": 61,
      "outputs": [
        {
          "output_type": "stream",
          "text": [
            "0.956\n"
          ],
          "name": "stdout"
        }
      ]
    },
    {
      "cell_type": "markdown",
      "metadata": {
        "id": "b49d3b3b"
      },
      "source": [
        "### Confusion Matrix"
      ],
      "id": "b49d3b3b"
    },
    {
      "cell_type": "code",
      "metadata": {
        "ExecuteTime": {
          "end_time": "2021-08-17T22:52:22.193678Z",
          "start_time": "2021-08-17T22:52:21.681703Z"
        },
        "id": "43f1553a",
        "colab": {
          "base_uri": "https://localhost:8080/",
          "height": 394
        },
        "outputId": "b8bac7ae-89ca-41f4-fd9e-958264c688b6"
      },
      "source": [
        "cm = confusion_matrix(y_test, y_pred)\n",
        "#print(cm)\n",
        "\n",
        "target_names = np.arange(0, 10, 1)\n",
        "conf_m = pd.DataFrame(\n",
        "                        cm,\n",
        "                        index = target_names,\n",
        "                        columns = target_names\n",
        "                        )\n",
        "fig, ax = plt.subplots(figsize = (10, 6))\n",
        "\n",
        "sns.heatmap(\n",
        "            conf_m, annot=True, annot_kws={\"size\": 10},\n",
        "            cmap='Blues_r',\n",
        "            fmt='g', linewidth=0.5, square=True\n",
        "            )\n",
        "plt.ylabel('True label', fontsize=12)\n",
        "plt.xlabel('Pred label', fontsize=12)\n",
        "plt.yticks(fontsize=12)\n",
        "plt.xticks(fontsize=12)\n",
        "#plt.savefig('cm.png', bbox_inches='tight')\n",
        "plt.show()"
      ],
      "id": "43f1553a",
      "execution_count": 62,
      "outputs": [
        {
          "output_type": "display_data",
          "data": {
            "image/png": "[encoded data removed]",
            "text/plain": [
              "<Figure size 720x432 with 2 Axes>"
            ]
          },
          "metadata": {
            "needs_background": "light"
          }
        }
      ]
    },
    {
      "cell_type": "markdown",
      "metadata": {
        "id": "8fed8848"
      },
      "source": [
        "### other metrics"
      ],
      "id": "8fed8848"
    },
    {
      "cell_type": "code",
      "metadata": {
        "ExecuteTime": {
          "end_time": "2021-08-17T22:52:50.450139Z",
          "start_time": "2021-08-17T22:52:50.409131Z"
        },
        "id": "40f7ea17",
        "colab": {
          "base_uri": "https://localhost:8080/"
        },
        "outputId": "8816628e-47f5-4cb8-f217-45fbbdd30428"
      },
      "source": [
        "from sklearn.metrics import classification_report\n",
        "report = classification_report(y_test, y_pred)\n",
        "print(report)"
      ],
      "id": "40f7ea17",
      "execution_count": 63,
      "outputs": [
        {
          "output_type": "stream",
          "text": [
            "              precision    recall  f1-score   support\n",
            "\n",
            "           0       0.98      0.98      0.98       173\n",
            "           1       0.98      0.98      0.98       197\n",
            "           2       0.90      0.95      0.93       175\n",
            "           3       0.97      0.94      0.95       179\n",
            "           4       0.93      0.95      0.94       170\n",
            "           5       0.95      0.95      0.95       158\n",
            "           6       0.98      0.96      0.97       172\n",
            "           7       0.97      0.96      0.96       182\n",
            "           8       0.94      0.94      0.94       170\n",
            "           9       0.96      0.95      0.96       174\n",
            "\n",
            "    accuracy                           0.96      1750\n",
            "   macro avg       0.96      0.96      0.96      1750\n",
            "weighted avg       0.96      0.96      0.96      1750\n",
            "\n"
          ],
          "name": "stdout"
        }
      ]
    },
    {
      "cell_type": "markdown",
      "metadata": {
        "id": "da7bddee"
      },
      "source": [
        "### Take a view - testing image (a few)"
      ],
      "id": "da7bddee"
    },
    {
      "cell_type": "code",
      "metadata": {
        "ExecuteTime": {
          "end_time": "2021-08-17T22:52:44.487231Z",
          "start_time": "2021-08-17T22:52:43.785393Z"
        },
        "scrolled": false,
        "id": "3bba9208",
        "colab": {
          "base_uri": "https://localhost:8080/",
          "height": 585
        },
        "outputId": "fce23cbf-00fa-497a-923f-5200457e65ac"
      },
      "source": [
        "num_rows = 4\n",
        "num_cols = 4\n",
        "num_images = num_rows*num_cols\n",
        "n_size = 2\n",
        "plt.figure(figsize=(n_size*n_size*num_cols, (n_size)*num_rows))\n",
        "#plt.figure(figsize=(14, 6))\n",
        "for i in range(0, num_images):\n",
        "    plt.subplot(num_rows, 1*num_cols, 1*i+1)\n",
        "    plt.xticks([])\n",
        "    plt.yticks([])\n",
        "    plt.imshow(np.reshape(x_test[i], (28, 28)), cmap='gray', interpolation=None)\n",
        "\n",
        "    plt.title(\n",
        "                'Predicted: {}, Actual: {}'.format(y_pred[i], y_test[i]), \n",
        "                fontsize = 10, \n",
        "                color = color\n",
        "             )\n",
        "plt.tight_layout()\n",
        "plt.show()"
      ],
      "id": "3bba9208",
      "execution_count": 64,
      "outputs": [
        {
          "output_type": "display_data",
          "data": {
            "image/png": "[encoded data removed]",
            "text/plain": [
              "<Figure size 1152x576 with 16 Axes>"
            ]
          },
          "metadata": {}
        }
      ]
    },
    {
      "cell_type": "markdown",
      "metadata": {
        "id": "069792cb"
      },
      "source": [
        "### Take a view - testing image (mistake)"
      ],
      "id": "069792cb"
    },
    {
      "cell_type": "code",
      "metadata": {
        "ExecuteTime": {
          "end_time": "2021-08-17T22:52:53.346193Z",
          "start_time": "2021-08-17T22:52:53.317165Z"
        },
        "id": "ba28d0b1"
      },
      "source": [
        "import numpy as np \n",
        "import matplotlib.pyplot as plt\n",
        "index = 0\n",
        "misclassifiedIndexes = []\n",
        "for label, predict in zip(y_test, y_pred):\n",
        "    \n",
        "    if label != predict: \n",
        "        misclassifiedIndexes.append(index)\n",
        "    index +=1   "
      ],
      "id": "ba28d0b1",
      "execution_count": 65,
      "outputs": []
    },
    {
      "cell_type": "code",
      "metadata": {
        "ExecuteTime": {
          "end_time": "2021-08-17T22:52:53.866384Z",
          "start_time": "2021-08-17T22:52:53.846382Z"
        },
        "id": "a8e74ed0",
        "colab": {
          "base_uri": "https://localhost:8080/"
        },
        "outputId": "511618d5-448d-48b1-d04a-5ffa919a0bbe"
      },
      "source": [
        "print(len(misclassifiedIndexes))\n",
        "misclassifiedIndexes[0:5]"
      ],
      "id": "a8e74ed0",
      "execution_count": 66,
      "outputs": [
        {
          "output_type": "stream",
          "text": [
            "77\n"
          ],
          "name": "stdout"
        },
        {
          "output_type": "execute_result",
          "data": {
            "text/plain": [
              "[16, 65, 69, 81, 91]"
            ]
          },
          "metadata": {},
          "execution_count": 66
        }
      ]
    },
    {
      "cell_type": "code",
      "metadata": {
        "ExecuteTime": {
          "end_time": "2021-08-17T22:52:55.413316Z",
          "start_time": "2021-08-17T22:52:55.272219Z"
        },
        "id": "ebd67888",
        "colab": {
          "base_uri": "https://localhost:8080/",
          "height": 299
        },
        "outputId": "70e56f66-467b-4a80-f008-5e6dc6285db6"
      },
      "source": [
        "i = 2\n",
        "plt.imshow(np.reshape( x_test[i], (28, 28)), cmap='gray', interpolation=None)\n",
        "print('Real: ', y_test[i])\n",
        "print('Predict: ', y_pred[i])"
      ],
      "id": "ebd67888",
      "execution_count": 67,
      "outputs": [
        {
          "output_type": "stream",
          "text": [
            "Real:  4\n",
            "Predict:  4\n"
          ],
          "name": "stdout"
        },
        {
          "output_type": "display_data",
          "data": {
            "image/png": "[encoded data removed]",
            "text/plain": [
              "<Figure size 432x288 with 1 Axes>"
            ]
          },
          "metadata": {
            "needs_background": "light"
          }
        }
      ]
    },
    {
      "cell_type": "code",
      "metadata": {
        "ExecuteTime": {
          "end_time": "2021-08-17T22:53:19.036929Z",
          "start_time": "2021-08-17T22:53:18.162728Z"
        },
        "id": "61a06d1e",
        "colab": {
          "base_uri": "https://localhost:8080/",
          "height": 729
        },
        "outputId": "f8186172-a4f4-4420-8b63-38bd30c5d189"
      },
      "source": [
        "num_rows = 5\n",
        "num_cols = 3\n",
        "num_images = num_rows*num_cols\n",
        "n_size = 2\n",
        "plt.figure(figsize=(n_size*n_size*num_cols, n_size *num_rows))\n",
        "#plt.figure(figsize=(20,4))\n",
        "for plotIndex, badIndex in enumerate(misclassifiedIndexes[0:num_images]):\n",
        "    #plt.subplot(1, 5, plotIndex + 1)\n",
        "    plt.subplot(num_rows, 1*num_cols, 1*plotIndex+1)\n",
        "    plt.xticks([])\n",
        "    plt.yticks([])\n",
        "    plt.imshow(np.reshape(x_test[badIndex], (28, 28)), cmap='gray', interpolation=None)\n",
        "    plt.title('Predicted: {}, Actual: {}'.format(y_pred[badIndex], y_test[badIndex]), fontsize = 12)\n",
        "\n",
        "plt.tight_layout()\n",
        "plt.show()"
      ],
      "id": "61a06d1e",
      "execution_count": 68,
      "outputs": [
        {
          "output_type": "display_data",
          "data": {
            "image/png": "[encoded data removed]",
            "text/plain": [
              "<Figure size 864x720 with 15 Axes>"
            ]
          },
          "metadata": {}
        }
      ]
    },
    {
      "cell_type": "markdown",
      "metadata": {
        "id": "0dbba03f"
      },
      "source": [
        "## Inference"
      ],
      "id": "0dbba03f"
    },
    {
      "cell_type": "code",
      "metadata": {
        "id": "8wvgUggWaMhY",
        "colab": {
          "resources": {
            "http://localhost:8080/nbextensions/google.colab/files.js": {
              "data": "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",
              "ok": true,
              "headers": [
                [
                  "content-type",
                  "application/javascript"
                ]
              ],
              "status": 200,
              "status_text": ""
            }
          },
          "base_uri": "https://localhost:8080/",
          "height": 74
        },
        "outputId": "f2654896-194a-4a33-932a-2106772ece15"
      },
      "source": [
        "from google.colab import files\n",
        "uploaded = files.upload()"
      ],
      "id": "8wvgUggWaMhY",
      "execution_count": 69,
      "outputs": [
        {
          "output_type": "display_data",
          "data": {
            "text/html": [
              "\n",
              "     <input type=\"file\" id=\"files-ffcb0ff7-84b5-46ed-8cc0-f05100ad6741\" name=\"files[]\" multiple disabled\n",
              "        style=\"border:none\" />\n",
              "     <output id=\"result-ffcb0ff7-84b5-46ed-8cc0-f05100ad6741\">\n",
              "      Upload widget is only available when the cell has been executed in the\n",
              "      current browser session. Please rerun this cell to enable.\n",
              "      </output>\n",
              "      <script src=\"/nbextensions/google.colab/files.js\"></script> "
            ],
            "text/plain": [
              "<IPython.core.display.HTML object>"
            ]
          },
          "metadata": {}
        },
        {
          "output_type": "stream",
          "text": [
            "Saving testing_image.png to testing_image.png\n"
          ],
          "name": "stdout"
        }
      ]
    },
    {
      "cell_type": "code",
      "metadata": {
        "ExecuteTime": {
          "end_time": "2021-08-17T22:53:54.716625Z",
          "start_time": "2021-08-17T22:53:54.698622Z"
        },
        "id": "fb0bc113"
      },
      "source": [
        "image_path = './testing_image.png'\n",
        "image_shape = (28, 28)"
      ],
      "id": "fb0bc113",
      "execution_count": 70,
      "outputs": []
    },
    {
      "cell_type": "code",
      "metadata": {
        "ExecuteTime": {
          "end_time": "2021-08-17T22:53:55.376684Z",
          "start_time": "2021-08-17T22:53:55.287846Z"
        },
        "id": "20ad90d0",
        "colab": {
          "base_uri": "https://localhost:8080/",
          "height": 265
        },
        "outputId": "2c654545-fb30-47f5-b25b-b062cc470e57"
      },
      "source": [
        "from PIL import Image\n",
        "image = Image.open(image_path)\n",
        "image = image.resize(image_shape)\n",
        "plt.imshow(image, cmap='gray', interpolation=None)\n",
        "plt.show()"
      ],
      "id": "20ad90d0",
      "execution_count": 71,
      "outputs": [
        {
          "output_type": "display_data",
          "data": {
            "image/png": "[encoded data removed]",
            "text/plain": [
              "<Figure size 432x288 with 1 Axes>"
            ]
          },
          "metadata": {
            "needs_background": "light"
          }
        }
      ]
    },
    {
      "cell_type": "code",
      "metadata": {
        "ExecuteTime": {
          "end_time": "2021-08-17T22:53:56.469773Z",
          "start_time": "2021-08-17T22:53:56.462774Z"
        },
        "id": "1946604f"
      },
      "source": [
        "image_np = np.array(image)\n",
        "image_np = image_np/255\n",
        "image_np = image_np[:,:,0]"
      ],
      "id": "1946604f",
      "execution_count": 72,
      "outputs": []
    },
    {
      "cell_type": "code",
      "metadata": {
        "ExecuteTime": {
          "end_time": "2021-08-17T22:53:56.926664Z",
          "start_time": "2021-08-17T22:53:56.913663Z"
        },
        "scrolled": true,
        "id": "ff15a38a",
        "colab": {
          "base_uri": "https://localhost:8080/"
        },
        "outputId": "d7509201-da8b-441c-8351-406562da2f75"
      },
      "source": [
        "image_np.shape"
      ],
      "id": "ff15a38a",
      "execution_count": 73,
      "outputs": [
        {
          "output_type": "execute_result",
          "data": {
            "text/plain": [
              "(28, 28)"
            ]
          },
          "metadata": {},
          "execution_count": 73
        }
      ]
    },
    {
      "cell_type": "code",
      "metadata": {
        "ExecuteTime": {
          "end_time": "2021-08-17T22:54:02.124442Z",
          "start_time": "2021-08-17T22:54:02.117415Z"
        },
        "scrolled": true,
        "id": "5061af01"
      },
      "source": [
        "img_test = np.reshape(image_np,(1, 784))"
      ],
      "id": "5061af01",
      "execution_count": 74,
      "outputs": []
    },
    {
      "cell_type": "code",
      "metadata": {
        "ExecuteTime": {
          "end_time": "2021-08-17T22:54:02.624873Z",
          "start_time": "2021-08-17T22:54:02.610870Z"
        },
        "id": "a7f201df",
        "colab": {
          "base_uri": "https://localhost:8080/"
        },
        "outputId": "145513a1-b4db-4005-b921-8ebe4a6a21dc"
      },
      "source": [
        "img_test.shape"
      ],
      "id": "a7f201df",
      "execution_count": 75,
      "outputs": [
        {
          "output_type": "execute_result",
          "data": {
            "text/plain": [
              "(1, 784)"
            ]
          },
          "metadata": {},
          "execution_count": 75
        }
      ]
    },
    {
      "cell_type": "code",
      "metadata": {
        "ExecuteTime": {
          "end_time": "2021-08-17T22:54:10.082150Z",
          "start_time": "2021-08-17T22:54:10.069090Z"
        },
        "id": "1a353a91"
      },
      "source": [
        "y_test_img = svm2.predict(img_test)"
      ],
      "id": "1a353a91",
      "execution_count": 76,
      "outputs": []
    },
    {
      "cell_type": "code",
      "metadata": {
        "ExecuteTime": {
          "end_time": "2021-08-17T22:54:11.447189Z",
          "start_time": "2021-08-17T22:54:11.436670Z"
        },
        "id": "3fbc27a1",
        "colab": {
          "base_uri": "https://localhost:8080/",
          "height": 282
        },
        "outputId": "c5584676-6c4f-4c88-fefb-41832337f98c"
      },
      "source": [
        "print('ML: It is number :',y_test_img[0])\n",
        "plt.imshow(image_np, cmap='gray', interpolation=None)\n",
        "plt.show()"
      ],
      "id": "3fbc27a1",
      "execution_count": 77,
      "outputs": [
        {
          "output_type": "stream",
          "text": [
            "ML: It is number : 0\n"
          ],
          "name": "stdout"
        },
        {
          "output_type": "display_data",
          "data": {
            "image/png": "[encoded data removed]",
            "text/plain": [
              "<Figure size 432x288 with 1 Axes>"
            ]
          },
          "metadata": {
            "needs_background": "light"
          }
        }
      ]
    },
    {
      "cell_type": "code",
      "metadata": {
        "id": "47fbfda9"
      },
      "source": [
        ""
      ],
      "id": "47fbfda9",
      "execution_count": 77,
      "outputs": []
    }
  ]
}