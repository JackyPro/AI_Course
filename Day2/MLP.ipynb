{
  "nbformat": 4,
  "nbformat_minor": 5,
  "metadata": {
    "kernelspec": {
      "display_name": "Python 3",
      "language": "python",
      "name": "python3"
    },
    "language_info": {
      "codemirror_mode": {
        "name": "ipython",
        "version": 3
      },
      "file_extension": ".py",
      "mimetype": "text/x-python",
      "name": "python",
      "nbconvert_exporter": "python",
      "pygments_lexer": "ipython3",
      "version": "3.7.10"
    },
    "toc": {
      "base_numbering": 1,
      "nav_menu": {},
      "number_sections": true,
      "sideBar": true,
      "skip_h1_title": false,
      "title_cell": "Table of Contents",
      "title_sidebar": "Contents",
      "toc_cell": false,
      "toc_position": {
        "height": "calc(100% - 180px)",
        "left": "10px",
        "top": "150px",
        "width": "312px"
      },
      "toc_section_display": true,
      "toc_window_display": true
    },
    "varInspector": {
      "cols": {
        "lenName": 16,
        "lenType": 16,
        "lenVar": 40
      },
      "kernels_config": {
        "python": {
          "delete_cmd_postfix": "",
          "delete_cmd_prefix": "del ",
          "library": "var_list.py",
          "varRefreshCmd": "print(var_dic_list())"
        },
        "r": {
          "delete_cmd_postfix": ") ",
          "delete_cmd_prefix": "rm(",
          "library": "var_list.r",
          "varRefreshCmd": "cat(var_dic_list()) "
        }
      },
      "types_to_exclude": [
        "module",
        "function",
        "builtin_function_or_method",
        "instance",
        "_Feature"
      ],
      "window_display": false
    },
    "colab": {
      "name": "MLP.ipynb",
      "provenance": [],
      "collapsed_sections": [
        "de6a8de6",
        "761680eb",
        "bbd7be62",
        "0ab985d1",
        "d3f606bf",
        "22dd69ac",
        "13c2b807",
        "19669d75",
        "fd2c50f0",
        "38905025",
        "44a0716a"
      ],
      "toc_visible": true,
      "include_colab_link": true
    }
  },
  "cells": [
    {
      "cell_type": "markdown",
      "metadata": {
        "id": "view-in-github",
        "colab_type": "text"
      },
      "source": [
        "<a href=\"https://colab.research.google.com/github/JackyPro/AI_Course/blob/main/Day2/MLP.ipynb\" target=\"_parent\"><img src=\"https://colab.research.google.com/assets/colab-badge.svg\" alt=\"Open In Colab\"/></a>"
      ]
    },
    {
      "cell_type": "markdown",
      "metadata": {
        "id": "ZfclrSfCSc9p"
      },
      "source": [
        "# 1.設定：複製一份程式到自己的雲端上，並且開啟副本"
      ],
      "id": "ZfclrSfCSc9p"
    },
    {
      "cell_type": "markdown",
      "metadata": {
        "id": "WDaaLEuEfY1B"
      },
      "source": [
        "<table>\n",
        "  <tr>\n",
        "    <td bgcolor=#ccffcc>\n",
        "      <center><img src=\"https://github.com/JackyPro/DL_imageclassification/raw/a26c0994e0caf0eac7fb219cdd95f235ded65cc4/img/1.png\" width=70%>\n",
        "      </center>\n",
        "      <center><font size=\"6\">Step 1<br /><br /></font></center> \n",
        "    </td>\n",
        "  </tr>\n",
        "  <tr>\n",
        "    <td bgcolor=#D1EEEE>\n",
        "      <center>\n",
        "        <img src=\"https://github.com/JackyPro/DL_imageclassification/raw/a26c0994e0caf0eac7fb219cdd95f235ded65cc4/img/2.png\" width=70%>\n",
        "      </center>\n",
        "      <center>\n",
        "        <font size=\"6\">Step 2<br /><br /></font>\n",
        "        <font size=\"4\">確認是否為副本<br />\n",
        "        若為副本，代表程式檔已經複製在自己的雲端<br />\n",
        "        可以自行修改檔名<br /><br /></font>\n",
        "      </center> \n",
        "    </td>\n",
        "  </tr>\n",
        "  <tr>\n",
        "    <td bgcolor=#ffffcc>\n",
        "      <center><img src=\"https://github.com/JackyPro/DL_imageclassification/raw/a26c0994e0caf0eac7fb219cdd95f235ded65cc4/img/3.png\" width=70%>\n",
        "      </center>\n",
        "      <center><font size=\"6\">Step 3<br /><br /></font></center> \n",
        "    </td>\n",
        "  </tr>\n",
        "</table>\n",
        "\n"
      ],
      "id": "WDaaLEuEfY1B"
    },
    {
      "cell_type": "markdown",
      "metadata": {
        "id": "dfe3e63e"
      },
      "source": [
        "# 2.Envs"
      ],
      "id": "dfe3e63e"
    },
    {
      "cell_type": "code",
      "metadata": {
        "colab": {
          "base_uri": "https://localhost:8080/"
        },
        "id": "46f5a484",
        "outputId": "f20613f9-acf2-4897-e6c8-82d2e1a82077"
      },
      "source": [
        "from tensorflow.python.client import device_lib\n",
        "print (device_lib.list_local_devices())"
      ],
      "id": "46f5a484",
      "execution_count": 1,
      "outputs": [
        {
          "output_type": "stream",
          "text": [
            "[name: \"/device:CPU:0\"\n",
            "device_type: \"CPU\"\n",
            "memory_limit: 268435456\n",
            "locality {\n",
            "}\n",
            "incarnation: 7385828045792049562\n",
            "]\n"
          ],
          "name": "stdout"
        }
      ]
    },
    {
      "cell_type": "code",
      "metadata": {
        "colab": {
          "base_uri": "https://localhost:8080/"
        },
        "id": "407afb63",
        "outputId": "a63f115b-e957-418c-d8e7-51668e2f3ad2"
      },
      "source": [
        "import platform\n",
        "import tensorflow\n",
        "import tensorflow.keras\n",
        "print(\"Platform: {}\".format(platform.platform()))\n",
        "print(\"Tensorflow version: {}\".format(tensorflow.__version__))\n",
        "print(\"Keras version: {}\".format(tensorflow.keras.__version__))"
      ],
      "id": "407afb63",
      "execution_count": 2,
      "outputs": [
        {
          "output_type": "stream",
          "text": [
            "Platform: Linux-5.4.104+-x86_64-with-Ubuntu-18.04-bionic\n",
            "Tensorflow version: 2.6.0\n",
            "Keras version: 2.6.0\n"
          ],
          "name": "stdout"
        }
      ]
    },
    {
      "cell_type": "code",
      "metadata": {
        "colab": {
          "base_uri": "https://localhost:8080/",
          "height": 52
        },
        "id": "2f0cae1f",
        "outputId": "c1b9236d-7329-47ba-fe67-bb0a3109ed86"
      },
      "source": [
        "!python -V\n",
        "platform.python_version()"
      ],
      "id": "2f0cae1f",
      "execution_count": 3,
      "outputs": [
        {
          "output_type": "stream",
          "text": [
            "Python 3.7.11\n"
          ],
          "name": "stdout"
        },
        {
          "output_type": "execute_result",
          "data": {
            "application/vnd.google.colaboratory.intrinsic+json": {
              "type": "string"
            },
            "text/plain": [
              "'3.7.11'"
            ]
          },
          "metadata": {
            "tags": []
          },
          "execution_count": 3
        }
      ]
    },
    {
      "cell_type": "code",
      "metadata": {
        "id": "ba6120d2"
      },
      "source": [
        "import os\n",
        "os.environ[\"CUDA_DEVICE_ORDER\"]=\"PCI_BUS_ID\"  \n",
        "os.environ[\"CUDA_VISIBLE_DEVICES\"]=\"0\""
      ],
      "id": "ba6120d2",
      "execution_count": 4,
      "outputs": []
    },
    {
      "cell_type": "code",
      "metadata": {
        "id": "2746c1be"
      },
      "source": [
        "import warnings\n",
        "warnings.filterwarnings(\"ignore\")"
      ],
      "id": "2746c1be",
      "execution_count": 5,
      "outputs": []
    },
    {
      "cell_type": "markdown",
      "metadata": {
        "id": "0f845582"
      },
      "source": [
        "# Task1: multi-class classification with sklearn dataset - digits  \n",
        "Logistic Regression model"
      ],
      "id": "0f845582"
    },
    {
      "cell_type": "code",
      "metadata": {
        "ExecuteTime": {
          "end_time": "2021-08-17T16:30:51.684430Z",
          "start_time": "2021-08-17T16:30:49.650442Z"
        },
        "id": "f6a3b9a6"
      },
      "source": [
        "import matplotlib.pyplot as plt\n",
        "import numpy as np\n",
        "import pandas as pd\n",
        "import seaborn as sns\n",
        "from sklearn import datasets\n",
        "from sklearn.neural_network import MLPClassifier\n",
        "from sklearn.model_selection import train_test_split\n",
        "from sklearn import metrics\n",
        "from sklearn.preprocessing import StandardScaler"
      ],
      "id": "f6a3b9a6",
      "execution_count": 6,
      "outputs": []
    },
    {
      "cell_type": "markdown",
      "metadata": {
        "id": "fb9b3485"
      },
      "source": [
        "## Load dataset"
      ],
      "id": "fb9b3485"
    },
    {
      "cell_type": "code",
      "metadata": {
        "ExecuteTime": {
          "end_time": "2021-08-17T16:30:53.313794Z",
          "start_time": "2021-08-17T16:30:53.224775Z"
        },
        "id": "29097c23"
      },
      "source": [
        "digits = datasets.load_digits()#导入digits数据集"
      ],
      "id": "29097c23",
      "execution_count": 7,
      "outputs": []
    },
    {
      "cell_type": "code",
      "metadata": {
        "ExecuteTime": {
          "end_time": "2021-08-17T16:30:53.581860Z",
          "start_time": "2021-08-17T16:30:53.573333Z"
        },
        "colab": {
          "base_uri": "https://localhost:8080/"
        },
        "id": "3760fc99",
        "outputId": "a569c0d2-8738-451d-d2d4-def1d74912b2"
      },
      "source": [
        "digits.keys()#查看digits中有哪些属性"
      ],
      "id": "3760fc99",
      "execution_count": 8,
      "outputs": [
        {
          "output_type": "execute_result",
          "data": {
            "text/plain": [
              "dict_keys(['data', 'target', 'target_names', 'images', 'DESCR'])"
            ]
          },
          "metadata": {
            "tags": []
          },
          "execution_count": 8
        }
      ]
    },
    {
      "cell_type": "code",
      "metadata": {
        "ExecuteTime": {
          "end_time": "2021-08-17T16:30:54.022118Z",
          "start_time": "2021-08-17T16:30:54.015119Z"
        },
        "colab": {
          "base_uri": "https://localhost:8080/"
        },
        "id": "85c61dd7",
        "outputId": "80712864-5555-4009-85b9-c72605637b78"
      },
      "source": [
        "digits.data.shape"
      ],
      "id": "85c61dd7",
      "execution_count": 9,
      "outputs": [
        {
          "output_type": "execute_result",
          "data": {
            "text/plain": [
              "(1797, 64)"
            ]
          },
          "metadata": {
            "tags": []
          },
          "execution_count": 9
        }
      ]
    },
    {
      "cell_type": "code",
      "metadata": {
        "ExecuteTime": {
          "end_time": "2021-08-17T16:30:54.737183Z",
          "start_time": "2021-08-17T16:30:54.728877Z"
        },
        "colab": {
          "base_uri": "https://localhost:8080/"
        },
        "id": "44ebb3a6",
        "outputId": "76296da3-1f3f-4c5f-d9d0-d37e793de03c"
      },
      "source": [
        "digits.images[0]"
      ],
      "id": "44ebb3a6",
      "execution_count": 10,
      "outputs": [
        {
          "output_type": "execute_result",
          "data": {
            "text/plain": [
              "array([[ 0.,  0.,  5., 13.,  9.,  1.,  0.,  0.],\n",
              "       [ 0.,  0., 13., 15., 10., 15.,  5.,  0.],\n",
              "       [ 0.,  3., 15.,  2.,  0., 11.,  8.,  0.],\n",
              "       [ 0.,  4., 12.,  0.,  0.,  8.,  8.,  0.],\n",
              "       [ 0.,  5.,  8.,  0.,  0.,  9.,  8.,  0.],\n",
              "       [ 0.,  4., 11.,  0.,  1., 12.,  7.,  0.],\n",
              "       [ 0.,  2., 14.,  5., 10., 12.,  0.,  0.],\n",
              "       [ 0.,  0.,  6., 13., 10.,  0.,  0.,  0.]])"
            ]
          },
          "metadata": {
            "tags": []
          },
          "execution_count": 10
        }
      ]
    },
    {
      "cell_type": "markdown",
      "metadata": {
        "id": "37552086"
      },
      "source": [
        "## view raw images"
      ],
      "id": "37552086"
    },
    {
      "cell_type": "code",
      "metadata": {
        "ExecuteTime": {
          "end_time": "2021-08-17T16:30:57.567778Z",
          "start_time": "2021-08-17T16:30:57.100878Z"
        },
        "scrolled": false,
        "colab": {
          "base_uri": "https://localhost:8080/",
          "height": 363
        },
        "id": "14ce2e6f",
        "outputId": "d24c5135-e8ad-4d2a-f161-cdf6962bdc6b"
      },
      "source": [
        "num_rows = 2\n",
        "num_cols = 5\n",
        "num_images = num_rows*num_cols\n",
        "n_size = 2\n",
        "#plt.figure(figsize=(n_size*n_size*num_cols, n_size*num_rows))\n",
        "plt.figure(figsize=(14, 6))\n",
        "for i in range(0, num_images):\n",
        "    plt.subplot(num_rows, num_cols, i+1)\n",
        "    plt.xticks([])\n",
        "    plt.yticks([])\n",
        "    plt.imshow(digits.images[i], cmap='gray', interpolation=None)\n",
        "    plt.title(\"{} {}\".format( str(\"Number:\"), digits.target[i] ),color = 'black')\n",
        "plt.show()"
      ],
      "id": "14ce2e6f",
      "execution_count": 11,
      "outputs": [
        {
          "output_type": "display_data",
          "data": {
            "image/png": "[encoded data removed]",
            "text/plain": [
              "<Figure size 1008x432 with 10 Axes>"
            ]
          },
          "metadata": {
            "tags": []
          }
        }
      ]
    },
    {
      "cell_type": "code",
      "metadata": {
        "ExecuteTime": {
          "end_time": "2021-08-17T16:30:58.063404Z",
          "start_time": "2021-08-17T16:30:58.056404Z"
        },
        "id": "673065f9"
      },
      "source": [
        "x = digits.data   ##获得数据集中的输入\n",
        "y = digits.target ##获得数据集中的输出，即标签(也就是类别)"
      ],
      "id": "673065f9",
      "execution_count": 12,
      "outputs": []
    },
    {
      "cell_type": "markdown",
      "metadata": {
        "id": "de6a8de6"
      },
      "source": [
        "## data splitting(8:2)"
      ],
      "id": "de6a8de6"
    },
    {
      "cell_type": "code",
      "metadata": {
        "ExecuteTime": {
          "end_time": "2021-08-17T16:30:59.800768Z",
          "start_time": "2021-08-17T16:30:59.781765Z"
        },
        "id": "0a7d6c58"
      },
      "source": [
        "# Splitting data into 80% training and 20% test data\n",
        "x_train, x_test, y_train, y_test = train_test_split(\n",
        "    x, y, test_size=0.2, random_state=1, stratify=y)"
      ],
      "id": "0a7d6c58",
      "execution_count": 13,
      "outputs": []
    },
    {
      "cell_type": "markdown",
      "metadata": {
        "id": "761680eb"
      },
      "source": [
        "## Std"
      ],
      "id": "761680eb"
    },
    {
      "cell_type": "code",
      "metadata": {
        "ExecuteTime": {
          "end_time": "2021-08-17T16:31:01.528414Z",
          "start_time": "2021-08-17T16:31:01.521901Z"
        },
        "id": "fcad957f"
      },
      "source": [
        "# Standardizing the features\n",
        "sc = StandardScaler()\n",
        "sc.fit(x_train)\n",
        "x_train_std = sc.transform(x_train)\n",
        "x_test_std = sc.transform(x_test)"
      ],
      "id": "fcad957f",
      "execution_count": 14,
      "outputs": []
    },
    {
      "cell_type": "markdown",
      "metadata": {
        "id": "bbd7be62"
      },
      "source": [
        "## Training"
      ],
      "id": "bbd7be62"
    },
    {
      "cell_type": "code",
      "metadata": {
        "ExecuteTime": {
          "end_time": "2021-08-17T16:34:10.839109Z",
          "start_time": "2021-08-17T16:34:10.737147Z"
        },
        "colab": {
          "base_uri": "https://localhost:8080/"
        },
        "id": "e8ef1a69",
        "outputId": "5c0cf8ea-a612-41eb-c3ed-c647dde29f56"
      },
      "source": [
        "mlp1 = MLPClassifier(hidden_layer_sizes=(50,), max_iter=10, alpha=1e-4,\n",
        "                    solver='sgd', verbose=10, random_state=1,\n",
        "                    learning_rate_init=.1)\n",
        "mlp1.fit(x_train_std, y_train)"
      ],
      "id": "e8ef1a69",
      "execution_count": 15,
      "outputs": [
        {
          "output_type": "stream",
          "text": [
            "Iteration 1, loss = 1.66440322\n",
            "Iteration 2, loss = 0.35623737\n",
            "Iteration 3, loss = 0.15969254\n",
            "Iteration 4, loss = 0.09841690\n",
            "Iteration 5, loss = 0.06892873\n",
            "Iteration 6, loss = 0.05171750\n",
            "Iteration 7, loss = 0.04083126\n",
            "Iteration 8, loss = 0.03420211\n",
            "Iteration 9, loss = 0.02875194\n",
            "Iteration 10, loss = 0.02443737\n"
          ],
          "name": "stdout"
        },
        {
          "output_type": "execute_result",
          "data": {
            "text/plain": [
              "MLPClassifier(activation='relu', alpha=0.0001, batch_size='auto', beta_1=0.9,\n",
              "              beta_2=0.999, early_stopping=False, epsilon=1e-08,\n",
              "              hidden_layer_sizes=(50,), learning_rate='constant',\n",
              "              learning_rate_init=0.1, max_fun=15000, max_iter=10, momentum=0.9,\n",
              "              n_iter_no_change=10, nesterovs_momentum=True, power_t=0.5,\n",
              "              random_state=1, shuffle=True, solver='sgd', tol=0.0001,\n",
              "              validation_fraction=0.1, verbose=10, warm_start=False)"
            ]
          },
          "metadata": {
            "tags": []
          },
          "execution_count": 15
        }
      ]
    },
    {
      "cell_type": "markdown",
      "metadata": {
        "id": "0ab985d1"
      },
      "source": [
        "## Predict"
      ],
      "id": "0ab985d1"
    },
    {
      "cell_type": "code",
      "metadata": {
        "ExecuteTime": {
          "end_time": "2021-08-17T16:34:18.777681Z",
          "start_time": "2021-08-17T16:34:18.766679Z"
        },
        "id": "a8997daf"
      },
      "source": [
        "y_pred = mlp1.predict(x_test_std)"
      ],
      "id": "a8997daf",
      "execution_count": 16,
      "outputs": []
    },
    {
      "cell_type": "code",
      "metadata": {
        "ExecuteTime": {
          "end_time": "2021-08-17T16:34:25.536814Z",
          "start_time": "2021-08-17T16:34:25.525811Z"
        },
        "id": "d620e8a8"
      },
      "source": [
        "y_pred_proba = mlp1.predict_proba(x_test_std)"
      ],
      "id": "d620e8a8",
      "execution_count": 17,
      "outputs": []
    },
    {
      "cell_type": "markdown",
      "metadata": {
        "id": "d3f606bf"
      },
      "source": [
        "### Accuracy"
      ],
      "id": "d3f606bf"
    },
    {
      "cell_type": "code",
      "metadata": {
        "ExecuteTime": {
          "end_time": "2021-08-17T16:35:18.123146Z",
          "start_time": "2021-08-17T16:35:18.105144Z"
        },
        "colab": {
          "base_uri": "https://localhost:8080/"
        },
        "id": "bb711381",
        "outputId": "a43d4d45-54b7-432a-db84-d0c091f7a313"
      },
      "source": [
        "from sklearn.metrics import accuracy_score\n",
        "from sklearn.metrics import confusion_matrix\n",
        "\n",
        "print('accuracy score: ', accuracy_score(y_test, y_pred).round(3))"
      ],
      "id": "bb711381",
      "execution_count": 18,
      "outputs": [
        {
          "output_type": "stream",
          "text": [
            "accuracy score:  0.967\n"
          ],
          "name": "stdout"
        }
      ]
    },
    {
      "cell_type": "markdown",
      "metadata": {
        "id": "22dd69ac"
      },
      "source": [
        "### Confusion Matrix"
      ],
      "id": "22dd69ac"
    },
    {
      "cell_type": "code",
      "metadata": {
        "ExecuteTime": {
          "end_time": "2021-08-17T16:35:38.342672Z",
          "start_time": "2021-08-17T16:35:37.847002Z"
        },
        "colab": {
          "base_uri": "https://localhost:8080/",
          "height": 0
        },
        "id": "7a9a7deb",
        "outputId": "ab9be896-3230-4b94-e73f-af4451d83002"
      },
      "source": [
        "cm = confusion_matrix(y_test, y_pred)\n",
        "#print(cm)\n",
        "\n",
        "target_names = np.arange(0, 10, 1)\n",
        "conf_m = pd.DataFrame(\n",
        "                        cm,\n",
        "                        index = target_names,\n",
        "                        columns = target_names\n",
        "                        )\n",
        "fig, ax = plt.subplots(figsize = (10, 6))\n",
        "\n",
        "sns.heatmap(\n",
        "            conf_m, annot=True, annot_kws={\"size\": 10},\n",
        "            cmap='Blues_r',\n",
        "            fmt='g', linewidth=0.5, square=True\n",
        "            )\n",
        "plt.ylabel('True label', fontsize=12)\n",
        "plt.xlabel('Pred label', fontsize=12)\n",
        "plt.yticks(fontsize=12)\n",
        "plt.xticks(fontsize=12)\n",
        "#plt.savefig('cm.png', bbox_inches='tight')\n",
        "plt.show()"
      ],
      "id": "7a9a7deb",
      "execution_count": 19,
      "outputs": [
        {
          "output_type": "display_data",
          "data": {
            "image/png": "[encoded data removed]",
            "text/plain": [
              "<Figure size 720x432 with 2 Axes>"
            ]
          },
          "metadata": {
            "tags": [],
            "needs_background": "light"
          }
        }
      ]
    },
    {
      "cell_type": "markdown",
      "metadata": {
        "id": "13c2b807"
      },
      "source": [
        "### other metrics"
      ],
      "id": "13c2b807"
    },
    {
      "cell_type": "code",
      "metadata": {
        "ExecuteTime": {
          "end_time": "2021-08-17T16:35:42.681440Z",
          "start_time": "2021-08-17T16:35:42.659435Z"
        },
        "colab": {
          "base_uri": "https://localhost:8080/"
        },
        "id": "54d626d7",
        "outputId": "4ec4a6aa-877d-42fa-d5f8-804c9e9a4b46"
      },
      "source": [
        "from sklearn.metrics import classification_report\n",
        "report = classification_report(y_test, y_pred)\n",
        "print(report)"
      ],
      "id": "54d626d7",
      "execution_count": 20,
      "outputs": [
        {
          "output_type": "stream",
          "text": [
            "              precision    recall  f1-score   support\n",
            "\n",
            "           0       1.00      0.97      0.99        36\n",
            "           1       0.95      0.97      0.96        36\n",
            "           2       1.00      1.00      1.00        35\n",
            "           3       1.00      0.97      0.99        37\n",
            "           4       0.97      0.97      0.97        36\n",
            "           5       1.00      0.95      0.97        37\n",
            "           6       0.97      1.00      0.99        36\n",
            "           7       0.94      0.94      0.94        36\n",
            "           8       0.91      0.89      0.90        35\n",
            "           9       0.92      1.00      0.96        36\n",
            "\n",
            "    accuracy                           0.97       360\n",
            "   macro avg       0.97      0.97      0.97       360\n",
            "weighted avg       0.97      0.97      0.97       360\n",
            "\n"
          ],
          "name": "stdout"
        }
      ]
    },
    {
      "cell_type": "markdown",
      "metadata": {
        "id": "19669d75"
      },
      "source": [
        "### Take a view - testing image (a few)"
      ],
      "id": "19669d75"
    },
    {
      "cell_type": "code",
      "metadata": {
        "ExecuteTime": {
          "end_time": "2021-08-17T16:35:51.431369Z",
          "start_time": "2021-08-17T16:35:49.062100Z"
        },
        "scrolled": false,
        "colab": {
          "base_uri": "https://localhost:8080/",
          "height": 0
        },
        "id": "e9c78eb4",
        "outputId": "56184d4f-cd35-4f3a-fdfb-91a79de983e0"
      },
      "source": [
        "num_rows = 4\n",
        "num_cols = 4\n",
        "num_images = num_rows*num_cols\n",
        "n_size = 2\n",
        "plt.figure(figsize=(n_size*n_size*num_cols, (n_size)*num_rows))\n",
        "#plt.figure(figsize=(14, 6))\n",
        "for i in range(0, num_images):\n",
        "    plt.subplot(num_rows, 2*num_cols, 2*i+1)\n",
        "    plt.xticks([])\n",
        "    plt.yticks([])\n",
        "    plt.imshow(np.reshape(x_test[i], (8, 8)), cmap='gray', interpolation=None)\n",
        "    \n",
        "    plt.subplot(num_rows, 2*num_cols, 2*i+2)\n",
        "    plt.xticks(range(0, 10, 1))\n",
        "    plt.ylim(0, 1)\n",
        "    plt.bar( \n",
        "                range(0, 10, 1),\n",
        "                y_pred_proba[i],\n",
        "                color = ['g','darkorange','lightgreen','plum', 'tan',\n",
        "                        'khaki', 'pink', 'skyblue','lawngreen','salmon'] \n",
        "            )\n",
        "    if y_pred[i] == y_test[i]:\n",
        "        color = 'blue'\n",
        "    else:\n",
        "        color = 'red'\n",
        "    plt.title(\n",
        "                'Predicted: {}, Actual: {}'.format(y_pred[i], y_test[i]), \n",
        "                fontsize = 10, \n",
        "                color = color\n",
        "             )\n",
        "plt.tight_layout()\n",
        "plt.show()"
      ],
      "id": "e9c78eb4",
      "execution_count": 21,
      "outputs": [
        {
          "output_type": "display_data",
          "data": {
            "image/png": "[encoded data removed]",
            "text/plain": [
              "<Figure size 1152x576 with 32 Axes>"
            ]
          },
          "metadata": {
            "tags": [],
            "needs_background": "light"
          }
        }
      ]
    },
    {
      "cell_type": "markdown",
      "metadata": {
        "id": "fd2c50f0"
      },
      "source": [
        "### Take a view - testing image (mistake)"
      ],
      "id": "fd2c50f0"
    },
    {
      "cell_type": "code",
      "metadata": {
        "ExecuteTime": {
          "end_time": "2021-08-17T16:35:55.826523Z",
          "start_time": "2021-08-17T16:35:55.809521Z"
        },
        "id": "16bc0635"
      },
      "source": [
        "import numpy as np \n",
        "import matplotlib.pyplot as plt\n",
        "index = 0\n",
        "misclassifiedIndexes = []\n",
        "for label, predict in zip(y_test, y_pred):\n",
        "    \n",
        "    if label != predict: \n",
        "        misclassifiedIndexes.append(index)\n",
        "    index +=1   "
      ],
      "id": "16bc0635",
      "execution_count": 22,
      "outputs": []
    },
    {
      "cell_type": "code",
      "metadata": {
        "ExecuteTime": {
          "end_time": "2021-08-17T16:36:15.368014Z",
          "start_time": "2021-08-17T16:36:15.224022Z"
        },
        "colab": {
          "base_uri": "https://localhost:8080/",
          "height": 0
        },
        "id": "9518347d",
        "outputId": "96e3682f-73d9-4d1a-e5fc-67e14ee96ba4"
      },
      "source": [
        "i = 2\n",
        "plt.imshow(np.reshape( x_test[i], (8, 8)), cmap='gray', interpolation=None )\n",
        "print('Real: ', y_test[i])\n",
        "print('Predict: ', y_pred[i])"
      ],
      "id": "9518347d",
      "execution_count": 23,
      "outputs": [
        {
          "output_type": "stream",
          "text": [
            "Real:  5\n",
            "Predict:  5\n"
          ],
          "name": "stdout"
        },
        {
          "output_type": "display_data",
          "data": {
            "image/png": "[encoded data removed]",
            "text/plain": [
              "<Figure size 432x288 with 1 Axes>"
            ]
          },
          "metadata": {
            "tags": [],
            "needs_background": "light"
          }
        }
      ]
    },
    {
      "cell_type": "code",
      "metadata": {
        "ExecuteTime": {
          "end_time": "2021-08-17T16:37:21.891138Z",
          "start_time": "2021-08-17T16:37:21.881136Z"
        },
        "colab": {
          "base_uri": "https://localhost:8080/"
        },
        "id": "3ea4fa77",
        "outputId": "99af1b34-9bd4-4f0b-80cd-53bc797e2289"
      },
      "source": [
        "print(len(misclassifiedIndexes))\n",
        "misclassifiedIndexes[0:5]"
      ],
      "id": "3ea4fa77",
      "execution_count": 24,
      "outputs": [
        {
          "output_type": "stream",
          "text": [
            "12\n"
          ],
          "name": "stdout"
        },
        {
          "output_type": "execute_result",
          "data": {
            "text/plain": [
              "[10, 44, 47, 117, 144]"
            ]
          },
          "metadata": {
            "tags": []
          },
          "execution_count": 24
        }
      ]
    },
    {
      "cell_type": "code",
      "metadata": {
        "ExecuteTime": {
          "end_time": "2021-08-17T16:37:26.017686Z",
          "start_time": "2021-08-17T16:37:24.289693Z"
        },
        "colab": {
          "base_uri": "https://localhost:8080/",
          "height": 0
        },
        "id": "8dc20875",
        "outputId": "001f3f45-adc4-4f01-cd39-d6720a1af3b5"
      },
      "source": [
        "num_rows = 5\n",
        "num_cols = 3\n",
        "num_images = num_rows*num_cols\n",
        "n_size = 2\n",
        "plt.figure(figsize=(n_size*n_size*num_cols, n_size *num_rows))\n",
        "#plt.figure(figsize=(20,4))\n",
        "for plotIndex, badIndex in enumerate(misclassifiedIndexes[0:num_images]):\n",
        "    #plt.subplot(1, 5, plotIndex + 1)\n",
        "    plt.subplot(num_rows, 2*num_cols, 2*plotIndex+1)\n",
        "    plt.xticks([])\n",
        "    plt.yticks([])\n",
        "    plt.imshow(np.reshape(x_test[badIndex], (8, 8)), cmap='gray', interpolation=None)\n",
        "    plt.title('Predicted: {}, Actual: {}'.format(y_pred[badIndex],y_test[badIndex]), fontsize = 12)\n",
        "    \n",
        "    plt.subplot(num_rows, 2*num_cols, 2*plotIndex+2)\n",
        "    plt.xticks(range(0, 10, 1))\n",
        "    plt.ylim(0, 1)\n",
        "    plt.bar( \n",
        "                range(0, 10, 1),\n",
        "                y_pred_proba[badIndex],\n",
        "                color = ['g','darkorange','lightgreen','plum', 'tan',\n",
        "                        'khaki', 'pink', 'skyblue','lawngreen','salmon']  \n",
        "            )\n",
        "plt.tight_layout()\n",
        "plt.show()"
      ],
      "id": "8dc20875",
      "execution_count": 25,
      "outputs": [
        {
          "output_type": "display_data",
          "data": {
            "image/png": "[encoded data removed]",
            "text/plain": [
              "<Figure size 864x720 with 24 Axes>"
            ]
          },
          "metadata": {
            "tags": [],
            "needs_background": "light"
          }
        }
      ]
    },
    {
      "cell_type": "markdown",
      "metadata": {
        "id": "3c246a52"
      },
      "source": [
        "---"
      ],
      "id": "3c246a52"
    },
    {
      "cell_type": "markdown",
      "metadata": {
        "id": "28c1460a"
      },
      "source": [
        "# Task2: multi-class classification with Mnist"
      ],
      "id": "28c1460a"
    },
    {
      "cell_type": "markdown",
      "metadata": {
        "id": "3c5032e6"
      },
      "source": [
        "## Load dataset"
      ],
      "id": "3c5032e6"
    },
    {
      "cell_type": "code",
      "metadata": {
        "ExecuteTime": {
          "end_time": "2021-08-17T16:38:19.075816Z",
          "start_time": "2021-08-17T16:37:35.394049Z"
        },
        "id": "cd12a8e6"
      },
      "source": [
        "from sklearn.datasets import fetch_openml\n",
        "mnist = fetch_openml(\"mnist_784\")"
      ],
      "id": "cd12a8e6",
      "execution_count": 26,
      "outputs": []
    },
    {
      "cell_type": "code",
      "metadata": {
        "ExecuteTime": {
          "end_time": "2021-08-17T16:38:19.217838Z",
          "start_time": "2021-08-17T16:38:19.203831Z"
        },
        "colab": {
          "base_uri": "https://localhost:8080/"
        },
        "id": "8b0b531b",
        "outputId": "7a055fca-b595-4a39-8e4a-1989ab097149"
      },
      "source": [
        "mnist.keys()"
      ],
      "id": "8b0b531b",
      "execution_count": 27,
      "outputs": [
        {
          "output_type": "execute_result",
          "data": {
            "text/plain": [
              "dict_keys(['data', 'target', 'frame', 'feature_names', 'target_names', 'DESCR', 'details', 'categories', 'url'])"
            ]
          },
          "metadata": {
            "tags": []
          },
          "execution_count": 27
        }
      ]
    },
    {
      "cell_type": "code",
      "metadata": {
        "ExecuteTime": {
          "end_time": "2021-08-17T16:38:19.485463Z",
          "start_time": "2021-08-17T16:38:19.471459Z"
        },
        "colab": {
          "base_uri": "https://localhost:8080/"
        },
        "id": "0b19e2d7",
        "outputId": "03856efd-ca6a-47eb-b57a-934e75a88a9b"
      },
      "source": [
        "mnist.data.shape"
      ],
      "id": "0b19e2d7",
      "execution_count": 28,
      "outputs": [
        {
          "output_type": "execute_result",
          "data": {
            "text/plain": [
              "(70000, 784)"
            ]
          },
          "metadata": {
            "tags": []
          },
          "execution_count": 28
        }
      ]
    },
    {
      "cell_type": "code",
      "metadata": {
        "ExecuteTime": {
          "end_time": "2021-08-17T16:38:19.672454Z",
          "start_time": "2021-08-17T16:38:19.611503Z"
        },
        "colab": {
          "base_uri": "https://localhost:8080/"
        },
        "id": "8084a6e3",
        "outputId": "a882c648-c569-4b8e-c95f-a96c5d5ef081"
      },
      "source": [
        "mnist['data']"
      ],
      "id": "8084a6e3",
      "execution_count": 29,
      "outputs": [
        {
          "output_type": "execute_result",
          "data": {
            "text/plain": [
              "array([[0., 0., 0., ..., 0., 0., 0.],\n",
              "       [0., 0., 0., ..., 0., 0., 0.],\n",
              "       [0., 0., 0., ..., 0., 0., 0.],\n",
              "       ...,\n",
              "       [0., 0., 0., ..., 0., 0., 0.],\n",
              "       [0., 0., 0., ..., 0., 0., 0.],\n",
              "       [0., 0., 0., ..., 0., 0., 0.]])"
            ]
          },
          "metadata": {
            "tags": []
          },
          "execution_count": 29
        }
      ]
    },
    {
      "cell_type": "markdown",
      "metadata": {
        "id": "1cdbcfe8"
      },
      "source": [
        "## view raw images"
      ],
      "id": "1cdbcfe8"
    },
    {
      "cell_type": "code",
      "metadata": {
        "ExecuteTime": {
          "end_time": "2021-08-17T16:38:19.892505Z",
          "start_time": "2021-08-17T16:38:19.878501Z"
        },
        "colab": {
          "base_uri": "https://localhost:8080/"
        },
        "id": "c08c6b48",
        "outputId": "8c36735c-aa6d-4a0f-9a64-e6e21819e14d"
      },
      "source": [
        "mnist['data'][0].shape"
      ],
      "id": "c08c6b48",
      "execution_count": 33,
      "outputs": [
        {
          "output_type": "execute_result",
          "data": {
            "text/plain": [
              "(784,)"
            ]
          },
          "metadata": {
            "tags": []
          },
          "execution_count": 33
        }
      ]
    },
    {
      "cell_type": "code",
      "metadata": {
        "ExecuteTime": {
          "end_time": "2021-08-17T16:38:20.552138Z",
          "start_time": "2021-08-17T16:38:20.033970Z"
        },
        "colab": {
          "base_uri": "https://localhost:8080/",
          "height": 363
        },
        "id": "6923075f",
        "outputId": "6a06c167-661c-4613-d20d-6875d21aa270"
      },
      "source": [
        "num_rows = 2\n",
        "num_cols = 5\n",
        "num_images = num_rows*num_cols\n",
        "n_size = 2\n",
        "#plt.figure(figsize=(n_size*n_size*num_cols, n_size*num_rows))\n",
        "plt.figure(figsize=(14, 6))\n",
        "for i in range(0, num_images):\n",
        "    plt.subplot(num_rows, num_cols, i+1)\n",
        "    plt.xticks([])\n",
        "    plt.yticks([])\n",
        "    plt.imshow(mnist['data'][i].reshape(28, 28), cmap='gray', interpolation=None)\n",
        "    plt.title(\"{} {}\".format( str(\"Number:\"), mnist['target'][i] ),color = 'black')\n",
        "plt.show()"
      ],
      "id": "6923075f",
      "execution_count": 35,
      "outputs": [
        {
          "output_type": "display_data",
          "data": {
            "image/png": "[encoded data removed]",
            "text/plain": [
              "<Figure size 1008x432 with 10 Axes>"
            ]
          },
          "metadata": {
            "tags": []
          }
        }
      ]
    },
    {
      "cell_type": "code",
      "metadata": {
        "ExecuteTime": {
          "end_time": "2021-08-17T16:38:20.790192Z",
          "start_time": "2021-08-17T16:38:20.776186Z"
        },
        "id": "862289a4"
      },
      "source": [
        "x = mnist['data']\n",
        "y = mnist['target'].astype(int)"
      ],
      "id": "862289a4",
      "execution_count": 36,
      "outputs": []
    },
    {
      "cell_type": "markdown",
      "metadata": {
        "id": "83f92edd"
      },
      "source": [
        "## normalization"
      ],
      "id": "83f92edd"
    },
    {
      "cell_type": "code",
      "metadata": {
        "ExecuteTime": {
          "end_time": "2021-08-17T16:38:21.200803Z",
          "start_time": "2021-08-17T16:38:20.982646Z"
        },
        "id": "1ab14844"
      },
      "source": [
        "x_norm = x/255"
      ],
      "id": "1ab14844",
      "execution_count": 37,
      "outputs": []
    },
    {
      "cell_type": "code",
      "metadata": {
        "ExecuteTime": {
          "end_time": "2021-08-17T16:38:21.889381Z",
          "start_time": "2021-08-17T16:38:21.497387Z"
        },
        "colab": {
          "base_uri": "https://localhost:8080/",
          "height": 363
        },
        "id": "af5c5895",
        "outputId": "ad6c029d-9141-4cee-da9f-45c9e7491e19"
      },
      "source": [
        "num_rows = 2\n",
        "num_cols = 5\n",
        "num_images = num_rows*num_cols\n",
        "n_size = 2\n",
        "#plt.figure(figsize=(n_size*n_size*num_cols, n_size*num_rows))\n",
        "plt.figure(figsize=(14, 6))\n",
        "for i in range(0, num_images):\n",
        "    plt.subplot(num_rows, num_cols, i+1)\n",
        "    plt.xticks([])\n",
        "    plt.yticks([])\n",
        "    plt.imshow(x_norm[i].reshape(28, 28), cmap='gray', interpolation=None)\n",
        "    plt.title(\"{} {}\".format( str(\"Number:\"), mnist['target'][i] ),color = 'black')\n",
        "plt.show()"
      ],
      "id": "af5c5895",
      "execution_count": 38,
      "outputs": [
        {
          "output_type": "display_data",
          "data": {
            "image/png": "[encoded data removed]",
            "text/plain": [
              "<Figure size 1008x432 with 10 Axes>"
            ]
          },
          "metadata": {
            "tags": []
          }
        }
      ]
    },
    {
      "cell_type": "code",
      "metadata": {
        "ExecuteTime": {
          "end_time": "2021-08-17T16:38:37.675393Z",
          "start_time": "2021-08-17T16:38:37.652389Z"
        },
        "colab": {
          "base_uri": "https://localhost:8080/"
        },
        "id": "6ea4d617",
        "outputId": "d126e8c7-7a64-42a1-e707-517fe0631488"
      },
      "source": [
        "x_norm[0]"
      ],
      "id": "6ea4d617",
      "execution_count": 46,
      "outputs": [
        {
          "output_type": "execute_result",
          "data": {
            "text/plain": [
              "array([0.        , 0.        , 0.        , 0.        , 0.        ,\n",
              "       0.        , 0.        , 0.        , 0.        , 0.        ,\n",
              "       0.        , 0.        , 0.        , 0.        , 0.        ,\n",
              "       0.        , 0.        , 0.        , 0.        , 0.        ,\n",
              "       0.        , 0.        , 0.        , 0.        , 0.        ,\n",
              "       0.        , 0.        , 0.        , 0.        , 0.        ,\n",
              "       0.        , 0.        , 0.        , 0.        , 0.        ,\n",
              "       0.        , 0.        , 0.        , 0.        , 0.        ,\n",
              "       0.        , 0.        , 0.        , 0.        , 0.        ,\n",
              "       0.        , 0.        , 0.        , 0.        , 0.        ,\n",
              "       0.        , 0.        , 0.        , 0.        , 0.        ,\n",
              "       0.        , 0.        , 0.        , 0.        , 0.        ,\n",
              "       0.        , 0.        , 0.        , 0.        , 0.        ,\n",
              "       0.        , 0.        , 0.        , 0.        , 0.        ,\n",
              "       0.        , 0.        , 0.        , 0.        , 0.        ,\n",
              "       0.        , 0.        , 0.        , 0.        , 0.        ,\n",
              "       0.        , 0.        , 0.        , 0.        , 0.        ,\n",
              "       0.        , 0.        , 0.        , 0.        , 0.        ,\n",
              "       0.        , 0.        , 0.        , 0.        , 0.        ,\n",
              "       0.        , 0.        , 0.        , 0.        , 0.        ,\n",
              "       0.        , 0.        , 0.        , 0.        , 0.        ,\n",
              "       0.        , 0.        , 0.        , 0.        , 0.        ,\n",
              "       0.        , 0.        , 0.        , 0.        , 0.        ,\n",
              "       0.        , 0.        , 0.        , 0.        , 0.        ,\n",
              "       0.        , 0.        , 0.        , 0.        , 0.        ,\n",
              "       0.        , 0.        , 0.        , 0.        , 0.        ,\n",
              "       0.        , 0.        , 0.        , 0.        , 0.        ,\n",
              "       0.        , 0.        , 0.        , 0.        , 0.        ,\n",
              "       0.        , 0.        , 0.        , 0.        , 0.        ,\n",
              "       0.        , 0.        , 0.        , 0.        , 0.        ,\n",
              "       0.        , 0.        , 0.01176471, 0.07058824, 0.07058824,\n",
              "       0.07058824, 0.49411765, 0.53333333, 0.68627451, 0.10196078,\n",
              "       0.65098039, 1.        , 0.96862745, 0.49803922, 0.        ,\n",
              "       0.        , 0.        , 0.        , 0.        , 0.        ,\n",
              "       0.        , 0.        , 0.        , 0.        , 0.        ,\n",
              "       0.        , 0.11764706, 0.14117647, 0.36862745, 0.60392157,\n",
              "       0.66666667, 0.99215686, 0.99215686, 0.99215686, 0.99215686,\n",
              "       0.99215686, 0.88235294, 0.6745098 , 0.99215686, 0.94901961,\n",
              "       0.76470588, 0.25098039, 0.        , 0.        , 0.        ,\n",
              "       0.        , 0.        , 0.        , 0.        , 0.        ,\n",
              "       0.        , 0.        , 0.        , 0.19215686, 0.93333333,\n",
              "       0.99215686, 0.99215686, 0.99215686, 0.99215686, 0.99215686,\n",
              "       0.99215686, 0.99215686, 0.99215686, 0.98431373, 0.36470588,\n",
              "       0.32156863, 0.32156863, 0.21960784, 0.15294118, 0.        ,\n",
              "       0.        , 0.        , 0.        , 0.        , 0.        ,\n",
              "       0.        , 0.        , 0.        , 0.        , 0.        ,\n",
              "       0.        , 0.07058824, 0.85882353, 0.99215686, 0.99215686,\n",
              "       0.99215686, 0.99215686, 0.99215686, 0.77647059, 0.71372549,\n",
              "       0.96862745, 0.94509804, 0.        , 0.        , 0.        ,\n",
              "       0.        , 0.        , 0.        , 0.        , 0.        ,\n",
              "       0.        , 0.        , 0.        , 0.        , 0.        ,\n",
              "       0.        , 0.        , 0.        , 0.        , 0.        ,\n",
              "       0.31372549, 0.61176471, 0.41960784, 0.99215686, 0.99215686,\n",
              "       0.80392157, 0.04313725, 0.        , 0.16862745, 0.60392157,\n",
              "       0.        , 0.        , 0.        , 0.        , 0.        ,\n",
              "       0.        , 0.        , 0.        , 0.        , 0.        ,\n",
              "       0.        , 0.        , 0.        , 0.        , 0.        ,\n",
              "       0.        , 0.        , 0.        , 0.        , 0.05490196,\n",
              "       0.00392157, 0.60392157, 0.99215686, 0.35294118, 0.        ,\n",
              "       0.        , 0.        , 0.        , 0.        , 0.        ,\n",
              "       0.        , 0.        , 0.        , 0.        , 0.        ,\n",
              "       0.        , 0.        , 0.        , 0.        , 0.        ,\n",
              "       0.        , 0.        , 0.        , 0.        , 0.        ,\n",
              "       0.        , 0.        , 0.        , 0.        , 0.54509804,\n",
              "       0.99215686, 0.74509804, 0.00784314, 0.        , 0.        ,\n",
              "       0.        , 0.        , 0.        , 0.        , 0.        ,\n",
              "       0.        , 0.        , 0.        , 0.        , 0.        ,\n",
              "       0.        , 0.        , 0.        , 0.        , 0.        ,\n",
              "       0.        , 0.        , 0.        , 0.        , 0.        ,\n",
              "       0.        , 0.        , 0.04313725, 0.74509804, 0.99215686,\n",
              "       0.2745098 , 0.        , 0.        , 0.        , 0.        ,\n",
              "       0.        , 0.        , 0.        , 0.        , 0.        ,\n",
              "       0.        , 0.        , 0.        , 0.        , 0.        ,\n",
              "       0.        , 0.        , 0.        , 0.        , 0.        ,\n",
              "       0.        , 0.        , 0.        , 0.        , 0.        ,\n",
              "       0.        , 0.1372549 , 0.94509804, 0.88235294, 0.62745098,\n",
              "       0.42352941, 0.00392157, 0.        , 0.        , 0.        ,\n",
              "       0.        , 0.        , 0.        , 0.        , 0.        ,\n",
              "       0.        , 0.        , 0.        , 0.        , 0.        ,\n",
              "       0.        , 0.        , 0.        , 0.        , 0.        ,\n",
              "       0.        , 0.        , 0.        , 0.        , 0.        ,\n",
              "       0.31764706, 0.94117647, 0.99215686, 0.99215686, 0.46666667,\n",
              "       0.09803922, 0.        , 0.        , 0.        , 0.        ,\n",
              "       0.        , 0.        , 0.        , 0.        , 0.        ,\n",
              "       0.        , 0.        , 0.        , 0.        , 0.        ,\n",
              "       0.        , 0.        , 0.        , 0.        , 0.        ,\n",
              "       0.        , 0.        , 0.        , 0.        , 0.17647059,\n",
              "       0.72941176, 0.99215686, 0.99215686, 0.58823529, 0.10588235,\n",
              "       0.        , 0.        , 0.        , 0.        , 0.        ,\n",
              "       0.        , 0.        , 0.        , 0.        , 0.        ,\n",
              "       0.        , 0.        , 0.        , 0.        , 0.        ,\n",
              "       0.        , 0.        , 0.        , 0.        , 0.        ,\n",
              "       0.        , 0.        , 0.        , 0.0627451 , 0.36470588,\n",
              "       0.98823529, 0.99215686, 0.73333333, 0.        , 0.        ,\n",
              "       0.        , 0.        , 0.        , 0.        , 0.        ,\n",
              "       0.        , 0.        , 0.        , 0.        , 0.        ,\n",
              "       0.        , 0.        , 0.        , 0.        , 0.        ,\n",
              "       0.        , 0.        , 0.        , 0.        , 0.        ,\n",
              "       0.        , 0.        , 0.        , 0.97647059, 0.99215686,\n",
              "       0.97647059, 0.25098039, 0.        , 0.        , 0.        ,\n",
              "       0.        , 0.        , 0.        , 0.        , 0.        ,\n",
              "       0.        , 0.        , 0.        , 0.        , 0.        ,\n",
              "       0.        , 0.        , 0.        , 0.        , 0.        ,\n",
              "       0.        , 0.        , 0.        , 0.18039216, 0.50980392,\n",
              "       0.71764706, 0.99215686, 0.99215686, 0.81176471, 0.00784314,\n",
              "       0.        , 0.        , 0.        , 0.        , 0.        ,\n",
              "       0.        , 0.        , 0.        , 0.        , 0.        ,\n",
              "       0.        , 0.        , 0.        , 0.        , 0.        ,\n",
              "       0.        , 0.        , 0.        , 0.        , 0.15294118,\n",
              "       0.58039216, 0.89803922, 0.99215686, 0.99215686, 0.99215686,\n",
              "       0.98039216, 0.71372549, 0.        , 0.        , 0.        ,\n",
              "       0.        , 0.        , 0.        , 0.        , 0.        ,\n",
              "       0.        , 0.        , 0.        , 0.        , 0.        ,\n",
              "       0.        , 0.        , 0.        , 0.        , 0.        ,\n",
              "       0.09411765, 0.44705882, 0.86666667, 0.99215686, 0.99215686,\n",
              "       0.99215686, 0.99215686, 0.78823529, 0.30588235, 0.        ,\n",
              "       0.        , 0.        , 0.        , 0.        , 0.        ,\n",
              "       0.        , 0.        , 0.        , 0.        , 0.        ,\n",
              "       0.        , 0.        , 0.        , 0.        , 0.        ,\n",
              "       0.        , 0.09019608, 0.25882353, 0.83529412, 0.99215686,\n",
              "       0.99215686, 0.99215686, 0.99215686, 0.77647059, 0.31764706,\n",
              "       0.00784314, 0.        , 0.        , 0.        , 0.        ,\n",
              "       0.        , 0.        , 0.        , 0.        , 0.        ,\n",
              "       0.        , 0.        , 0.        , 0.        , 0.        ,\n",
              "       0.        , 0.        , 0.07058824, 0.67058824, 0.85882353,\n",
              "       0.99215686, 0.99215686, 0.99215686, 0.99215686, 0.76470588,\n",
              "       0.31372549, 0.03529412, 0.        , 0.        , 0.        ,\n",
              "       0.        , 0.        , 0.        , 0.        , 0.        ,\n",
              "       0.        , 0.        , 0.        , 0.        , 0.        ,\n",
              "       0.        , 0.        , 0.        , 0.21568627, 0.6745098 ,\n",
              "       0.88627451, 0.99215686, 0.99215686, 0.99215686, 0.99215686,\n",
              "       0.95686275, 0.52156863, 0.04313725, 0.        , 0.        ,\n",
              "       0.        , 0.        , 0.        , 0.        , 0.        ,\n",
              "       0.        , 0.        , 0.        , 0.        , 0.        ,\n",
              "       0.        , 0.        , 0.        , 0.        , 0.        ,\n",
              "       0.        , 0.53333333, 0.99215686, 0.99215686, 0.99215686,\n",
              "       0.83137255, 0.52941176, 0.51764706, 0.0627451 , 0.        ,\n",
              "       0.        , 0.        , 0.        , 0.        , 0.        ,\n",
              "       0.        , 0.        , 0.        , 0.        , 0.        ,\n",
              "       0.        , 0.        , 0.        , 0.        , 0.        ,\n",
              "       0.        , 0.        , 0.        , 0.        , 0.        ,\n",
              "       0.        , 0.        , 0.        , 0.        , 0.        ,\n",
              "       0.        , 0.        , 0.        , 0.        , 0.        ,\n",
              "       0.        , 0.        , 0.        , 0.        , 0.        ,\n",
              "       0.        , 0.        , 0.        , 0.        , 0.        ,\n",
              "       0.        , 0.        , 0.        , 0.        , 0.        ,\n",
              "       0.        , 0.        , 0.        , 0.        , 0.        ,\n",
              "       0.        , 0.        , 0.        , 0.        , 0.        ,\n",
              "       0.        , 0.        , 0.        , 0.        , 0.        ,\n",
              "       0.        , 0.        , 0.        , 0.        , 0.        ,\n",
              "       0.        , 0.        , 0.        , 0.        , 0.        ,\n",
              "       0.        , 0.        , 0.        , 0.        , 0.        ,\n",
              "       0.        , 0.        , 0.        , 0.        , 0.        ,\n",
              "       0.        , 0.        , 0.        , 0.        , 0.        ,\n",
              "       0.        , 0.        , 0.        , 0.        , 0.        ,\n",
              "       0.        , 0.        , 0.        , 0.        , 0.        ,\n",
              "       0.        , 0.        , 0.        , 0.        ])"
            ]
          },
          "metadata": {
            "tags": []
          },
          "execution_count": 46
        }
      ]
    },
    {
      "cell_type": "markdown",
      "metadata": {
        "id": "38905025"
      },
      "source": [
        "## data splitting(8:2)"
      ],
      "id": "38905025"
    },
    {
      "cell_type": "code",
      "metadata": {
        "ExecuteTime": {
          "end_time": "2021-08-17T16:38:45.503542Z",
          "start_time": "2021-08-17T16:38:44.776414Z"
        },
        "id": "11604869"
      },
      "source": [
        "# Splitting data into 80% training and 20% test data\n",
        "x_train, x_test, y_train, y_test = train_test_split(\n",
        "    x_norm, y, test_size=0.2, random_state=1, stratify=y)"
      ],
      "id": "11604869",
      "execution_count": 47,
      "outputs": []
    },
    {
      "cell_type": "code",
      "metadata": {
        "ExecuteTime": {
          "end_time": "2021-08-17T16:38:46.996121Z",
          "start_time": "2021-08-17T16:38:46.984112Z"
        },
        "id": "e2e5263f"
      },
      "source": [
        "#x_, x__, y_, y__ = train_test_split(\n",
        "#    x, y, test_size=0.9, random_state=1, stratify=y)\n",
        "#x_train, x_test, y_train, y_test = train_test_split(\n",
        "#    x_, y_, test_size=0.5, random_state=1, stratify=y_)"
      ],
      "id": "e2e5263f",
      "execution_count": 48,
      "outputs": []
    },
    {
      "cell_type": "code",
      "metadata": {
        "ExecuteTime": {
          "end_time": "2021-08-17T16:38:47.646190Z",
          "start_time": "2021-08-17T16:38:47.627166Z"
        },
        "colab": {
          "base_uri": "https://localhost:8080/"
        },
        "id": "877571b2",
        "outputId": "7d872d6a-e6b4-4b22-e36a-faa8ee6e40fa"
      },
      "source": [
        "print('x_train: ', x_train.shape)\n",
        "print('x_train: ', y_train.shape)\n",
        "print('x_test : ', x_test.shape)\n",
        "print('y_test : ', y_test.shape)"
      ],
      "id": "877571b2",
      "execution_count": 49,
      "outputs": [
        {
          "output_type": "stream",
          "text": [
            "x_train:  (56000, 784)\n",
            "x_train:  (56000,)\n",
            "x_test :  (14000, 784)\n",
            "y_test :  (14000,)\n"
          ],
          "name": "stdout"
        }
      ]
    },
    {
      "cell_type": "markdown",
      "metadata": {
        "id": "44a0716a"
      },
      "source": [
        "## Std"
      ],
      "id": "44a0716a"
    },
    {
      "cell_type": "code",
      "metadata": {
        "ExecuteTime": {
          "end_time": "2021-08-17T16:38:51.768834Z",
          "start_time": "2021-08-17T16:38:50.473806Z"
        },
        "id": "7175c261"
      },
      "source": [
        "# Standardizing the features\n",
        "sc = StandardScaler()\n",
        "sc.fit(x_train)\n",
        "x_train_std = sc.transform(x_train)\n",
        "x_test_std = sc.transform(x_test)"
      ],
      "id": "7175c261",
      "execution_count": 50,
      "outputs": []
    },
    {
      "cell_type": "markdown",
      "metadata": {
        "id": "19f08e92"
      },
      "source": [
        "## Training"
      ],
      "id": "19f08e92"
    },
    {
      "cell_type": "code",
      "metadata": {
        "ExecuteTime": {
          "end_time": "2021-08-17T21:20:40.692148Z",
          "start_time": "2021-08-17T21:20:20.253557Z"
        },
        "colab": {
          "base_uri": "https://localhost:8080/"
        },
        "id": "0c693bdd",
        "outputId": "e582ef43-eb9e-4274-e85c-3fe07e5a19bb"
      },
      "source": [
        "mlp2 = MLPClassifier(\n",
        "                        hidden_layer_sizes=(50), \n",
        "                        max_iter=10, \n",
        "                        alpha=1e-4,\n",
        "                        solver='sgd', \n",
        "                        verbose=10, \n",
        "                        random_state=1,\n",
        "                        learning_rate_init=.1,\n",
        "                    )\n",
        "mlp2.fit(x_train, y_train)"
      ],
      "id": "0c693bdd",
      "execution_count": 51,
      "outputs": [
        {
          "output_type": "stream",
          "text": [
            "Iteration 1, loss = 0.32773771\n",
            "Iteration 2, loss = 0.15567672\n",
            "Iteration 3, loss = 0.11596356\n",
            "Iteration 4, loss = 0.09448018\n",
            "Iteration 5, loss = 0.08062504\n",
            "Iteration 6, loss = 0.06930390\n",
            "Iteration 7, loss = 0.06187657\n",
            "Iteration 8, loss = 0.05592639\n",
            "Iteration 9, loss = 0.05084232\n",
            "Iteration 10, loss = 0.04457103\n"
          ],
          "name": "stdout"
        },
        {
          "output_type": "execute_result",
          "data": {
            "text/plain": [
              "MLPClassifier(activation='relu', alpha=0.0001, batch_size='auto', beta_1=0.9,\n",
              "              beta_2=0.999, early_stopping=False, epsilon=1e-08,\n",
              "              hidden_layer_sizes=50, learning_rate='constant',\n",
              "              learning_rate_init=0.1, max_fun=15000, max_iter=10, momentum=0.9,\n",
              "              n_iter_no_change=10, nesterovs_momentum=True, power_t=0.5,\n",
              "              random_state=1, shuffle=True, solver='sgd', tol=0.0001,\n",
              "              validation_fraction=0.1, verbose=10, warm_start=False)"
            ]
          },
          "metadata": {
            "tags": []
          },
          "execution_count": 51
        }
      ]
    },
    {
      "cell_type": "markdown",
      "metadata": {
        "id": "c81dcd3b"
      },
      "source": [
        "## Predict"
      ],
      "id": "c81dcd3b"
    },
    {
      "cell_type": "code",
      "metadata": {
        "ExecuteTime": {
          "end_time": "2021-08-17T21:20:44.708891Z",
          "start_time": "2021-08-17T21:20:44.581859Z"
        },
        "id": "892d8e25"
      },
      "source": [
        "y_pred = mlp2.predict(x_test)"
      ],
      "id": "892d8e25",
      "execution_count": 52,
      "outputs": []
    },
    {
      "cell_type": "code",
      "metadata": {
        "ExecuteTime": {
          "end_time": "2021-08-17T21:20:45.212740Z",
          "start_time": "2021-08-17T21:20:45.106693Z"
        },
        "id": "26d20fef"
      },
      "source": [
        "y_pred_proba = mlp2.predict_proba(x_test)"
      ],
      "id": "26d20fef",
      "execution_count": 53,
      "outputs": []
    },
    {
      "cell_type": "markdown",
      "metadata": {
        "id": "a610ba4b"
      },
      "source": [
        "### Accuracy"
      ],
      "id": "a610ba4b"
    },
    {
      "cell_type": "code",
      "metadata": {
        "ExecuteTime": {
          "end_time": "2021-08-17T21:20:47.533114Z",
          "start_time": "2021-08-17T21:20:47.521938Z"
        },
        "colab": {
          "base_uri": "https://localhost:8080/"
        },
        "id": "314922b2",
        "outputId": "e9ba7ba2-2090-4e53-ae2f-2732301ef2af"
      },
      "source": [
        "from sklearn.metrics import accuracy_score\n",
        "from sklearn.metrics import confusion_matrix\n",
        "\n",
        "print(accuracy_score(y_test, y_pred))"
      ],
      "id": "314922b2",
      "execution_count": 54,
      "outputs": [
        {
          "output_type": "stream",
          "text": [
            "0.9692857142857143\n"
          ],
          "name": "stdout"
        }
      ]
    },
    {
      "cell_type": "markdown",
      "metadata": {
        "id": "b49d3b3b"
      },
      "source": [
        "### Confusion Matrix"
      ],
      "id": "b49d3b3b"
    },
    {
      "cell_type": "code",
      "metadata": {
        "ExecuteTime": {
          "end_time": "2021-08-17T16:57:29.071048Z",
          "start_time": "2021-08-17T16:57:28.564181Z"
        },
        "colab": {
          "base_uri": "https://localhost:8080/",
          "height": 394
        },
        "id": "43f1553a",
        "outputId": "40895113-dc24-45d3-fd52-c6127aaf96c6"
      },
      "source": [
        "cm = confusion_matrix(y_test, y_pred)\n",
        "#print(cm)\n",
        "\n",
        "target_names = np.arange(0, 10, 1)\n",
        "conf_m = pd.DataFrame(\n",
        "                        cm,\n",
        "                        index = target_names,\n",
        "                        columns = target_names\n",
        "                        )\n",
        "fig, ax = plt.subplots(figsize = (10, 6))\n",
        "\n",
        "sns.heatmap(\n",
        "            conf_m, annot=True, annot_kws={\"size\": 10},\n",
        "            cmap='Blues_r',\n",
        "            fmt='g', linewidth=0.5, square=True\n",
        "            )\n",
        "plt.ylabel('True label', fontsize=12)\n",
        "plt.xlabel('Pred label', fontsize=12)\n",
        "plt.yticks(fontsize=12)\n",
        "plt.xticks(fontsize=12)\n",
        "#plt.savefig('cm.png', bbox_inches='tight')\n",
        "plt.show()"
      ],
      "id": "43f1553a",
      "execution_count": 55,
      "outputs": [
        {
          "output_type": "display_data",
          "data": {
            "image/png": "[encoded data removed]",
            "text/plain": [
              "<Figure size 720x432 with 2 Axes>"
            ]
          },
          "metadata": {
            "tags": [],
            "needs_background": "light"
          }
        }
      ]
    },
    {
      "cell_type": "markdown",
      "metadata": {
        "id": "8fed8848"
      },
      "source": [
        "### other metrics"
      ],
      "id": "8fed8848"
    },
    {
      "cell_type": "code",
      "metadata": {
        "ExecuteTime": {
          "end_time": "2021-08-17T16:57:31.183701Z",
          "start_time": "2021-08-17T16:57:31.146666Z"
        },
        "colab": {
          "base_uri": "https://localhost:8080/"
        },
        "id": "40f7ea17",
        "outputId": "264829d0-82e1-436c-e609-e473dd0ef1b0"
      },
      "source": [
        "from sklearn.metrics import classification_report\n",
        "report = classification_report(y_test, y_pred)\n",
        "print(report)"
      ],
      "id": "40f7ea17",
      "execution_count": 56,
      "outputs": [
        {
          "output_type": "stream",
          "text": [
            "              precision    recall  f1-score   support\n",
            "\n",
            "           0       0.98      0.98      0.98      1381\n",
            "           1       0.98      0.99      0.99      1575\n",
            "           2       0.97      0.96      0.97      1398\n",
            "           3       0.97      0.95      0.96      1428\n",
            "           4       0.97      0.98      0.98      1365\n",
            "           5       0.94      0.98      0.96      1262\n",
            "           6       0.99      0.97      0.98      1375\n",
            "           7       0.94      0.99      0.96      1459\n",
            "           8       0.98      0.95      0.97      1365\n",
            "           9       0.97      0.93      0.95      1392\n",
            "\n",
            "    accuracy                           0.97     14000\n",
            "   macro avg       0.97      0.97      0.97     14000\n",
            "weighted avg       0.97      0.97      0.97     14000\n",
            "\n"
          ],
          "name": "stdout"
        }
      ]
    },
    {
      "cell_type": "markdown",
      "metadata": {
        "id": "da7bddee"
      },
      "source": [
        "### Take a view - testing image (a few)"
      ],
      "id": "da7bddee"
    },
    {
      "cell_type": "code",
      "metadata": {
        "ExecuteTime": {
          "end_time": "2021-08-17T16:59:43.348940Z",
          "start_time": "2021-08-17T16:59:40.999350Z"
        },
        "scrolled": false,
        "colab": {
          "base_uri": "https://localhost:8080/",
          "height": 585
        },
        "id": "3bba9208",
        "outputId": "9041e4f0-7927-4c4f-c50e-5a00988cbd5b"
      },
      "source": [
        "num_rows = 4\n",
        "num_cols = 4\n",
        "num_images = num_rows*num_cols\n",
        "n_size = 2\n",
        "plt.figure(figsize=(n_size*n_size*num_cols, (n_size)*num_rows))\n",
        "#plt.figure(figsize=(14, 6))\n",
        "for i in range(0, num_images):\n",
        "    plt.subplot(num_rows, 2*num_cols, 2*i+1)\n",
        "    plt.xticks([])\n",
        "    plt.yticks([])\n",
        "    plt.imshow(np.reshape(x_test[i], (28, 28)), cmap='gray', interpolation=None)\n",
        "    \n",
        "    plt.subplot(num_rows, 2*num_cols, 2*i+2)\n",
        "    plt.xticks(range(0, 10, 1))\n",
        "    plt.ylim(0, 1)\n",
        "    plt.bar( \n",
        "                range(0, 10, 1),\n",
        "                y_pred_proba[i],\n",
        "                color = ['g','darkorange','lightgreen','plum', 'tan',\n",
        "                        'khaki', 'pink', 'skyblue','lawngreen','salmon'] \n",
        "            )\n",
        "    if y_pred[i] == y_test[i]:\n",
        "        color = 'blue'\n",
        "    else:\n",
        "        color = 'red'\n",
        "    plt.title(\n",
        "                'Predicted: {}, Actual: {}'.format(y_pred[i], y_test[i]), \n",
        "                fontsize = 10, \n",
        "                color = color\n",
        "             )\n",
        "plt.tight_layout()\n",
        "plt.show()"
      ],
      "id": "3bba9208",
      "execution_count": 57,
      "outputs": [
        {
          "output_type": "display_data",
          "data": {
            "image/png": "[encoded data removed]",
            "text/plain": [
              "<Figure size 1152x576 with 32 Axes>"
            ]
          },
          "metadata": {
            "tags": [],
            "needs_background": "light"
          }
        }
      ]
    },
    {
      "cell_type": "markdown",
      "metadata": {
        "id": "069792cb"
      },
      "source": [
        "### Take a view - testing image (mistake)"
      ],
      "id": "069792cb"
    },
    {
      "cell_type": "code",
      "metadata": {
        "ExecuteTime": {
          "end_time": "2021-08-17T16:59:48.552478Z",
          "start_time": "2021-08-17T16:59:48.529471Z"
        },
        "id": "ba28d0b1"
      },
      "source": [
        "import numpy as np \n",
        "import matplotlib.pyplot as plt\n",
        "index = 0\n",
        "misclassifiedIndexes = []\n",
        "for label, predict in zip(y_test, y_pred):\n",
        "    \n",
        "    if label != predict: \n",
        "        misclassifiedIndexes.append(index)\n",
        "    index +=1   "
      ],
      "id": "ba28d0b1",
      "execution_count": 58,
      "outputs": []
    },
    {
      "cell_type": "code",
      "metadata": {
        "ExecuteTime": {
          "end_time": "2021-08-17T16:59:49.021108Z",
          "start_time": "2021-08-17T16:59:49.008105Z"
        },
        "colab": {
          "base_uri": "https://localhost:8080/"
        },
        "id": "a8e74ed0",
        "outputId": "65cae219-fa5a-4be1-9602-a2ef7d5958fa"
      },
      "source": [
        "print(len(misclassifiedIndexes))\n",
        "misclassifiedIndexes[0:5]"
      ],
      "id": "a8e74ed0",
      "execution_count": 59,
      "outputs": [
        {
          "output_type": "stream",
          "text": [
            "430\n"
          ],
          "name": "stdout"
        },
        {
          "output_type": "execute_result",
          "data": {
            "text/plain": [
              "[47, 48, 64, 74, 116]"
            ]
          },
          "metadata": {
            "tags": []
          },
          "execution_count": 59
        }
      ]
    },
    {
      "cell_type": "code",
      "metadata": {
        "ExecuteTime": {
          "end_time": "2021-08-17T16:59:49.845769Z",
          "start_time": "2021-08-17T16:59:49.697735Z"
        },
        "colab": {
          "base_uri": "https://localhost:8080/",
          "height": 299
        },
        "id": "ebd67888",
        "outputId": "8707ff63-8081-4b0a-a073-e06ff6f5470e"
      },
      "source": [
        "i = 2\n",
        "plt.imshow(np.reshape( x_test[i], (28, 28)), cmap='gray', interpolation=None)\n",
        "print('Real: ', y_test[i])\n",
        "print('Predict: ', y_pred[i])"
      ],
      "id": "ebd67888",
      "execution_count": 60,
      "outputs": [
        {
          "output_type": "stream",
          "text": [
            "Real:  8\n",
            "Predict:  8\n"
          ],
          "name": "stdout"
        },
        {
          "output_type": "display_data",
          "data": {
            "image/png": "[encoded data removed]",
            "text/plain": [
              "<Figure size 432x288 with 1 Axes>"
            ]
          },
          "metadata": {
            "tags": [],
            "needs_background": "light"
          }
        }
      ]
    },
    {
      "cell_type": "code",
      "metadata": {
        "ExecuteTime": {
          "end_time": "2021-08-17T16:59:54.005411Z",
          "start_time": "2021-08-17T16:59:51.783444Z"
        },
        "colab": {
          "base_uri": "https://localhost:8080/",
          "height": 720
        },
        "id": "61a06d1e",
        "outputId": "3f95587c-174a-41af-93f7-52ffe13f6b73"
      },
      "source": [
        "num_rows = 5\n",
        "num_cols = 3\n",
        "num_images = num_rows*num_cols\n",
        "n_size = 2\n",
        "plt.figure(figsize=(n_size*n_size*num_cols, n_size *num_rows))\n",
        "#plt.figure(figsize=(20,4))\n",
        "for plotIndex, badIndex in enumerate(misclassifiedIndexes[0:num_images]):\n",
        "    #plt.subplot(1, 5, plotIndex + 1)\n",
        "    plt.subplot(num_rows, 2*num_cols, 2*plotIndex+1)\n",
        "    plt.xticks([])\n",
        "    plt.yticks([])\n",
        "    plt.imshow(np.reshape(x_test[badIndex], (28, 28)), cmap='gray', interpolation=None)\n",
        "    plt.title('Predicted: {}, Actual: {}'.format(y_pred[badIndex], y_test[badIndex]), fontsize = 12)\n",
        "    \n",
        "    plt.subplot(num_rows, 2*num_cols, 2*plotIndex+2)\n",
        "    plt.xticks(range(0, 10, 1))\n",
        "    plt.ylim(0, 1)\n",
        "    plt.bar( \n",
        "                range(0, 10, 1),\n",
        "                y_pred_proba[badIndex],\n",
        "                color = ['g','darkorange','lightgreen','plum', 'tan',\n",
        "                        'khaki', 'pink', 'skyblue','lawngreen','salmon']  \n",
        "            )\n",
        "plt.tight_layout()\n",
        "plt.show()"
      ],
      "id": "61a06d1e",
      "execution_count": 62,
      "outputs": [
        {
          "output_type": "display_data",
          "data": {
            "image/png": "[encoded data removed]",
            "text/plain": [
              "<Figure size 864x720 with 30 Axes>"
            ]
          },
          "metadata": {
            "tags": [],
            "needs_background": "light"
          }
        }
      ]
    },
    {
      "cell_type": "code",
      "metadata": {
        "ExecuteTime": {
          "end_time": "2021-08-17T16:59:57.757905Z",
          "start_time": "2021-08-17T16:59:57.743903Z"
        },
        "colab": {
          "base_uri": "https://localhost:8080/"
        },
        "id": "1b017bbb",
        "outputId": "10bdd811-2d66-45aa-9c37-1b439e2a3142"
      },
      "source": [
        "print(mlp2.coefs_[0].shape, mlp2.intercepts_[0].shape)\n",
        "print(mlp2.coefs_[1].shape, mlp2.intercepts_[1].shape)"
      ],
      "id": "1b017bbb",
      "execution_count": 63,
      "outputs": [
        {
          "output_type": "stream",
          "text": [
            "(784, 50) (50,)\n",
            "(50, 10) (10,)\n"
          ],
          "name": "stdout"
        }
      ]
    },
    {
      "cell_type": "markdown",
      "metadata": {
        "id": "0dbba03f"
      },
      "source": [
        "## Inference"
      ],
      "id": "0dbba03f"
    },
    {
      "cell_type": "code",
      "metadata": {
        "id": "nFnDay82Xc7r"
      },
      "source": [
        "from google.colab import files\n",
        "uploaded = files.upload()"
      ],
      "id": "nFnDay82Xc7r",
      "execution_count": null,
      "outputs": []
    },
    {
      "cell_type": "code",
      "metadata": {
        "ExecuteTime": {
          "end_time": "2021-08-17T21:12:42.615321Z",
          "start_time": "2021-08-17T21:12:42.606319Z"
        },
        "id": "fb0bc113"
      },
      "source": [
        "image_path = './testing_image.png'\n",
        "image_shape = (28, 28)"
      ],
      "id": "fb0bc113",
      "execution_count": 86,
      "outputs": []
    },
    {
      "cell_type": "code",
      "metadata": {
        "ExecuteTime": {
          "end_time": "2021-08-17T21:12:43.120411Z",
          "start_time": "2021-08-17T21:12:42.996079Z"
        },
        "colab": {
          "base_uri": "https://localhost:8080/",
          "height": 265
        },
        "id": "20ad90d0",
        "outputId": "bda2621f-3462-449d-c650-d1f5f1fbd700"
      },
      "source": [
        "from PIL import Image\n",
        "image = Image.open(image_path)\n",
        "image = image.resize(image_shape)\n",
        "plt.imshow(image, cmap='gray', interpolation=None)\n",
        "plt.show()"
      ],
      "id": "20ad90d0",
      "execution_count": 87,
      "outputs": [
        {
          "output_type": "display_data",
          "data": {
            "image/png": "[encoded data removed]",
            "text/plain": [
              "<Figure size 432x288 with 1 Axes>"
            ]
          },
          "metadata": {
            "tags": [],
            "needs_background": "light"
          }
        }
      ]
    },
    {
      "cell_type": "code",
      "metadata": {
        "ExecuteTime": {
          "end_time": "2021-08-17T21:12:43.543773Z",
          "start_time": "2021-08-17T21:12:43.529772Z"
        },
        "id": "1946604f"
      },
      "source": [
        "image_np = np.array(image)\n",
        "image_np = image_np/255\n",
        "image_np = image_np[:,:,0]"
      ],
      "id": "1946604f",
      "execution_count": 88,
      "outputs": []
    },
    {
      "cell_type": "code",
      "metadata": {
        "ExecuteTime": {
          "end_time": "2021-08-17T21:12:43.969257Z",
          "start_time": "2021-08-17T21:12:43.955687Z"
        },
        "scrolled": true,
        "colab": {
          "base_uri": "https://localhost:8080/"
        },
        "id": "ff15a38a",
        "outputId": "714e8fe1-8140-42b0-de92-760f0b7b073a"
      },
      "source": [
        "image_np.shape"
      ],
      "id": "ff15a38a",
      "execution_count": 89,
      "outputs": [
        {
          "output_type": "execute_result",
          "data": {
            "text/plain": [
              "(28, 28)"
            ]
          },
          "metadata": {
            "tags": []
          },
          "execution_count": 89
        }
      ]
    },
    {
      "cell_type": "code",
      "metadata": {
        "ExecuteTime": {
          "end_time": "2021-08-17T21:12:44.408717Z",
          "start_time": "2021-08-17T21:12:44.394714Z"
        },
        "scrolled": true,
        "colab": {
          "base_uri": "https://localhost:8080/"
        },
        "id": "91e95847",
        "outputId": "a2b527d8-c82f-4499-9e14-a61a2104ec16"
      },
      "source": [
        "image_np"
      ],
      "id": "91e95847",
      "execution_count": 90,
      "outputs": [
        {
          "output_type": "execute_result",
          "data": {
            "text/plain": [
              "array([[0., 0., 0., 0., 0., 0., 0., 0., 0., 0., 0., 0., 0., 0., 0., 0.,\n",
              "        0., 0., 0., 0., 0., 0., 0., 0., 0., 0., 0., 0.],\n",
              "       [0., 0., 0., 0., 0., 0., 0., 0., 0., 0., 0., 0., 0., 0., 0., 0.,\n",
              "        0., 0., 0., 0., 0., 0., 0., 0., 0., 0., 0., 0.],\n",
              "       [0., 0., 0., 0., 0., 0., 0., 0., 0., 0., 0., 0., 0., 0., 0., 0.,\n",
              "        0., 0., 0., 0., 0., 0., 0., 0., 0., 0., 0., 0.],\n",
              "       [0., 0., 0., 0., 0., 0., 0., 0., 0., 0., 0., 0., 0., 0., 0., 0.,\n",
              "        0., 0., 0., 0., 0., 0., 0., 0., 0., 0., 0., 0.],\n",
              "       [0., 0., 0., 0., 0., 0., 0., 0., 0., 0., 0., 0., 0., 0., 0., 0.,\n",
              "        0., 0., 0., 0., 0., 0., 0., 0., 0., 0., 0., 0.],\n",
              "       [0., 0., 0., 0., 0., 0., 0., 0., 0., 0., 0., 0., 0., 0., 0., 0.,\n",
              "        0., 0., 0., 0., 0., 0., 0., 0., 0., 0., 0., 0.],\n",
              "       [0., 0., 0., 0., 0., 0., 0., 0., 0., 0., 0., 0., 0., 0., 0., 0.,\n",
              "        0., 0., 0., 0., 0., 0., 0., 0., 0., 0., 0., 0.],\n",
              "       [0., 0., 0., 0., 0., 0., 0., 0., 0., 0., 0., 1., 1., 0., 1., 1.,\n",
              "        1., 1., 1., 1., 1., 0., 0., 0., 0., 0., 0., 0.],\n",
              "       [0., 0., 0., 0., 0., 0., 0., 0., 0., 0., 0., 1., 1., 1., 1., 0.,\n",
              "        0., 0., 0., 0., 0., 0., 0., 0., 0., 0., 0., 0.],\n",
              "       [0., 0., 0., 0., 0., 0., 0., 0., 0., 0., 1., 1., 0., 0., 0., 0.,\n",
              "        0., 0., 0., 0., 0., 0., 0., 0., 0., 0., 0., 0.],\n",
              "       [0., 0., 0., 0., 0., 0., 0., 0., 0., 0., 1., 0., 0., 0., 0., 0.,\n",
              "        0., 0., 0., 0., 0., 0., 0., 0., 0., 0., 0., 0.],\n",
              "       [0., 0., 0., 0., 0., 0., 0., 0., 0., 1., 1., 0., 0., 0., 0., 0.,\n",
              "        0., 0., 0., 0., 0., 0., 0., 0., 0., 0., 0., 0.],\n",
              "       [0., 0., 0., 0., 0., 0., 0., 0., 0., 1., 1., 1., 1., 1., 1., 0.,\n",
              "        0., 0., 0., 0., 0., 0., 0., 0., 0., 0., 0., 0.],\n",
              "       [0., 0., 0., 0., 0., 0., 0., 0., 0., 0., 0., 0., 0., 0., 1., 1.,\n",
              "        1., 0., 0., 0., 0., 0., 0., 0., 0., 0., 0., 0.],\n",
              "       [0., 0., 0., 0., 0., 0., 0., 0., 0., 0., 0., 0., 0., 0., 0., 0.,\n",
              "        1., 1., 0., 0., 0., 0., 0., 0., 0., 0., 0., 0.],\n",
              "       [0., 0., 0., 0., 0., 0., 0., 0., 0., 0., 0., 0., 0., 0., 0., 0.,\n",
              "        0., 1., 0., 0., 0., 0., 0., 0., 0., 0., 0., 0.],\n",
              "       [0., 0., 0., 0., 0., 0., 0., 0., 0., 0., 0., 0., 0., 0., 0., 0.,\n",
              "        0., 1., 0., 0., 0., 0., 0., 0., 0., 0., 0., 0.],\n",
              "       [0., 0., 0., 0., 0., 0., 0., 0., 0., 0., 0., 0., 0., 0., 0., 0.,\n",
              "        1., 1., 0., 0., 0., 0., 0., 0., 0., 0., 0., 0.],\n",
              "       [0., 0., 0., 0., 0., 0., 0., 0., 0., 0., 0., 0., 0., 0., 0., 1.,\n",
              "        1., 0., 0., 0., 0., 0., 0., 0., 0., 0., 0., 0.],\n",
              "       [0., 0., 0., 0., 0., 0., 0., 0., 1., 1., 0., 1., 1., 1., 1., 1.,\n",
              "        0., 0., 0., 0., 0., 0., 0., 0., 0., 0., 0., 0.],\n",
              "       [0., 0., 0., 0., 0., 0., 0., 0., 0., 1., 1., 1., 0., 0., 0., 0.,\n",
              "        0., 0., 0., 0., 0., 0., 0., 0., 0., 0., 0., 0.],\n",
              "       [0., 0., 0., 0., 0., 0., 0., 0., 0., 0., 0., 0., 0., 0., 0., 0.,\n",
              "        0., 0., 0., 0., 0., 0., 0., 0., 0., 0., 0., 0.],\n",
              "       [0., 0., 0., 0., 0., 0., 0., 0., 0., 0., 0., 0., 0., 0., 0., 0.,\n",
              "        0., 0., 0., 0., 0., 0., 0., 0., 0., 0., 0., 0.],\n",
              "       [0., 0., 0., 0., 0., 0., 0., 0., 0., 0., 0., 0., 0., 0., 0., 0.,\n",
              "        0., 0., 0., 0., 0., 0., 0., 0., 0., 0., 0., 0.],\n",
              "       [0., 0., 0., 0., 0., 0., 0., 0., 0., 0., 0., 0., 0., 0., 0., 0.,\n",
              "        0., 0., 0., 0., 0., 0., 0., 0., 0., 0., 0., 0.],\n",
              "       [0., 0., 0., 0., 0., 0., 0., 0., 0., 0., 0., 0., 0., 0., 0., 0.,\n",
              "        0., 0., 0., 0., 0., 0., 0., 0., 0., 0., 0., 0.],\n",
              "       [0., 0., 0., 0., 0., 0., 0., 0., 0., 0., 0., 0., 0., 0., 0., 0.,\n",
              "        0., 0., 0., 0., 0., 0., 0., 0., 0., 0., 0., 0.],\n",
              "       [0., 0., 0., 0., 0., 0., 0., 0., 0., 0., 0., 0., 0., 0., 0., 0.,\n",
              "        0., 0., 0., 0., 0., 0., 0., 0., 0., 0., 0., 0.]])"
            ]
          },
          "metadata": {
            "tags": []
          },
          "execution_count": 90
        }
      ]
    },
    {
      "cell_type": "code",
      "metadata": {
        "ExecuteTime": {
          "end_time": "2021-08-17T21:12:44.902409Z",
          "start_time": "2021-08-17T21:12:44.776420Z"
        },
        "scrolled": true,
        "colab": {
          "base_uri": "https://localhost:8080/",
          "height": 265
        },
        "id": "22f2c373",
        "outputId": "6586bfcd-8f9b-4054-ad26-4da7a9c590f5"
      },
      "source": [
        "plt.imshow(image_np, cmap='gray', interpolation=None)\n",
        "plt.show()"
      ],
      "id": "22f2c373",
      "execution_count": 91,
      "outputs": [
        {
          "output_type": "display_data",
          "data": {
            "image/png": "[encoded data removed]",
            "text/plain": [
              "<Figure size 432x288 with 1 Axes>"
            ]
          },
          "metadata": {
            "tags": [],
            "needs_background": "light"
          }
        }
      ]
    },
    {
      "cell_type": "code",
      "metadata": {
        "ExecuteTime": {
          "end_time": "2021-08-17T21:12:45.317930Z",
          "start_time": "2021-08-17T21:12:45.303928Z"
        },
        "scrolled": true,
        "id": "5061af01"
      },
      "source": [
        "img_test = np.reshape(image_np,(1, 784))"
      ],
      "id": "5061af01",
      "execution_count": 92,
      "outputs": []
    },
    {
      "cell_type": "code",
      "metadata": {
        "ExecuteTime": {
          "end_time": "2021-08-17T21:12:45.755784Z",
          "start_time": "2021-08-17T21:12:45.741782Z"
        },
        "colab": {
          "base_uri": "https://localhost:8080/"
        },
        "id": "a7f201df",
        "outputId": "df8dda7b-bceb-44f1-aaf0-45d59fce512f"
      },
      "source": [
        "img_test.shape"
      ],
      "id": "a7f201df",
      "execution_count": 93,
      "outputs": [
        {
          "output_type": "execute_result",
          "data": {
            "text/plain": [
              "(1, 784)"
            ]
          },
          "metadata": {
            "tags": []
          },
          "execution_count": 93
        }
      ]
    },
    {
      "cell_type": "code",
      "metadata": {
        "ExecuteTime": {
          "end_time": "2021-08-17T21:12:46.195117Z",
          "start_time": "2021-08-17T21:12:46.180104Z"
        },
        "id": "1a353a91"
      },
      "source": [
        "y_test_img = mlp2.predict(img_test)"
      ],
      "id": "1a353a91",
      "execution_count": 94,
      "outputs": []
    },
    {
      "cell_type": "code",
      "metadata": {
        "ExecuteTime": {
          "end_time": "2021-08-17T21:12:46.744149Z",
          "start_time": "2021-08-17T21:12:46.650769Z"
        },
        "colab": {
          "base_uri": "https://localhost:8080/",
          "height": 282
        },
        "id": "3fbc27a1",
        "outputId": "fa23be2d-fc75-41de-8c47-b1a4c95bf4cb"
      },
      "source": [
        "print('ML: It is number :',y_test_img[0])\n",
        "plt.imshow(image_np, cmap='gray', interpolation=None)\n",
        "plt.show()"
      ],
      "id": "3fbc27a1",
      "execution_count": 95,
      "outputs": [
        {
          "output_type": "stream",
          "text": [
            "ML: It is number : 5\n"
          ],
          "name": "stdout"
        },
        {
          "output_type": "display_data",
          "data": {
            "image/png": "[encoded data removed]",
            "text/plain": [
              "<Figure size 432x288 with 1 Axes>"
            ]
          },
          "metadata": {
            "tags": [],
            "needs_background": "light"
          }
        }
      ]
    }
  ]
}